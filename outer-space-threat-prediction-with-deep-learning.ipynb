{
 "cells": [
  {
   "cell_type": "code",
   "execution_count": 1,
   "id": "066830ac",
   "metadata": {
    "_cell_guid": "b1076dfc-b9ad-4769-8c92-a6c4dae69d19",
    "_uuid": "8f2839f25d086af736a60e9eeb907d3b93b6e0e5",
    "execution": {
     "iopub.execute_input": "2022-04-29T20:38:19.711074Z",
     "iopub.status.busy": "2022-04-29T20:38:19.710608Z",
     "iopub.status.idle": "2022-04-29T20:38:20.304621Z",
     "shell.execute_reply": "2022-04-29T20:38:20.303747Z"
    },
    "papermill": {
     "duration": 0.637405,
     "end_time": "2022-04-29T20:38:20.308265",
     "exception": false,
     "start_time": "2022-04-29T20:38:19.670860",
     "status": "completed"
    },
    "tags": []
   },
   "outputs": [
    {
     "name": "stdout",
     "output_type": "stream",
     "text": [
      "/kaggle/input/space-objects-around-black-holes-esa/NEAR THE BLACK HOLE/SAGITTARIUS-A/ASTRO_IMAGING_HST_OPTICAL17.csv\n",
      "/kaggle/input/space-objects-around-black-holes-esa/NEAR THE BLACK HOLE/SAGITTARIUS-A/summary.txt\n",
      "/kaggle/input/space-objects-around-black-holes-esa/NEAR THE BLACK HOLE/SAGITTARIUS-A/HST-OPTICAL/hst_07909_rb_wfpc2_f606w_pc_drz.fits\n",
      "/kaggle/input/space-objects-around-black-holes-esa/NEAR THE BLACK HOLE/SAGITTARIUS-A/HST-OPTICAL/hst_07909_rb_wfpc2_f606w_wf_drz.fits\n",
      "/kaggle/input/space-objects-around-black-holes-esa/NEAR THE BLACK HOLE/SAGITTARIUS-A/HST-OPTICAL/hst_09598_3a_wfpc2_f656n_pc_drz.fits\n",
      "/kaggle/input/space-objects-around-black-holes-esa/NEAR THE BLACK HOLE/SAGITTARIUS-A/HST-OPTICAL/hst_09676_x8_wfpc2_f606w_pc_drz.fits\n",
      "/kaggle/input/space-objects-around-black-holes-esa/NEAR THE BLACK HOLE/SAGITTARIUS-A/HST-OPTICAL/hst_09244_9m_wfpc2_f606w_pc_drz.fits\n",
      "/kaggle/input/space-objects-around-black-holes-esa/NEAR THE BLACK HOLE/SOMBRERO/ASTRO_IMAGING_HST_OPTICAL8.csv\n",
      "/kaggle/input/space-objects-around-black-holes-esa/NEAR THE BLACK HOLE/SOMBRERO/summary.txt\n",
      "/kaggle/input/space-objects-around-black-holes-esa/NEAR THE BLACK HOLE/SOMBRERO/HST-OPTICAL/o4d303njq_raw.fits\n",
      "/kaggle/input/space-objects-around-black-holes-esa/NEAR THE BLACK HOLE/SOMBRERO/HST-OPTICAL/hst_9454_14_acs_hrc_f330w_drz.fits\n",
      "/kaggle/input/space-objects-around-black-holes-esa/NEAR THE BLACK HOLE/SOMBRERO/HST-OPTICAL/hst_9454_31_acs_hrc_f330w_drz.fits\n",
      "/kaggle/input/space-objects-around-black-holes-esa/NEAR THE BLACK HOLE/SOMBRERO/HST-OPTICAL/j8ff31021_drz.fits\n",
      "/kaggle/input/space-objects-around-black-holes-esa/NEAR THE BLACK HOLE/SOMBRERO/HST-OPTICAL/j8ff14021_drz.fits\n",
      "/kaggle/input/space-objects-around-black-holes-esa/NEAR THE BLACK HOLE/SOMBRERO/HST-OPTICAL/o4d303nkq_raw.fits\n",
      "/kaggle/input/space-objects-around-black-holes-esa/NEAR THE BLACK HOLE/SOMBRERO/HST-OPTICAL/HST/x0vr0101t/x0vr0101t_c1f.fits\n",
      "/kaggle/input/space-objects-around-black-holes-esa/NEAR THE BLACK HOLE/SOMBRERO/HST-OPTICAL/HST/x0vr0101t/x0vr0101t_c0f.fits\n",
      "/kaggle/input/space-objects-around-black-holes-esa/NEAR THE BLACK HOLE/SOMBRERO/HST-OPTICAL/HST/x0hr0101t/x0hr0101t_c0f.fits\n",
      "/kaggle/input/space-objects-around-black-holes-esa/NEAR THE BLACK HOLE/SOMBRERO/HST-OPTICAL/HST/x0hr0101t/x0hr0101t_c1f.fits\n",
      "/kaggle/input/space-objects-around-black-holes-esa/NEAR THE BLACK HOLE/CENTAURUS-A/ASTRO_IMAGING_HST_OPTICAL13.csv\n",
      "/kaggle/input/space-objects-around-black-holes-esa/NEAR THE BLACK HOLE/CENTAURUS-A/summary.txt\n",
      "/kaggle/input/space-objects-around-black-holes-esa/NEAR THE BLACK HOLE/CENTAURUS-A/HST-OPTICAL/hst_08597_52_wfpc2_f606w_pc_drz.fits\n",
      "/kaggle/input/space-objects-around-black-holes-esa/NEAR THE BLACK HOLE/CENTAURUS-A/HST-OPTICAL/hst_06578_02_wfpc2_f336w_wf_drz.fits\n",
      "/kaggle/input/space-objects-around-black-holes-esa/NEAR THE BLACK HOLE/CENTAURUS-A/HST-OPTICAL/hst_06789_a1_wfpc2_f555w_pc_drz.fits\n",
      "/kaggle/input/space-objects-around-black-holes-esa/NEAR THE BLACK HOLE/CENTAURUS-A/HST-OPTICAL/HST/u3lba101m/u3lba101m_c0f.fits\n",
      "/kaggle/input/space-objects-around-black-holes-esa/NEAR THE BLACK HOLE/CENTAURUS-A/HST-OPTICAL/HST/u3lba101m/u3lba101m_c0m.fits\n",
      "/kaggle/input/space-objects-around-black-holes-esa/NEAR THE BLACK HOLE/CENTAURUS-A/HST-OPTICAL/HST/u3lba101m/u3lba101m_c1f.fits\n",
      "/kaggle/input/space-objects-around-black-holes-esa/NEAR THE BLACK HOLE/CENTAURUS-A/HST-OPTICAL/HST/u3lba101m/u3lba101m_c1m.fits\n",
      "/kaggle/input/space-objects-around-black-holes-esa/NEAR THE BLACK HOLE/CENTAURUS-A/HST-OPTICAL/HST/u3lba10dm/u3lba10dm_c0f.fits\n",
      "/kaggle/input/space-objects-around-black-holes-esa/NEAR THE BLACK HOLE/CENTAURUS-A/HST-OPTICAL/HST/u3lba10dm/u3lba10dm_c0m.fits\n",
      "/kaggle/input/space-objects-around-black-holes-esa/NEAR THE BLACK HOLE/CENTAURUS-A/HST-OPTICAL/HST/u3lba10dm/u3lba10dm_c1m.fits\n",
      "/kaggle/input/space-objects-around-black-holes-esa/NEAR THE BLACK HOLE/CENTAURUS-A/HST-OPTICAL/HST/u3lba10dm/u3lba10dm_c1f.fits\n",
      "/kaggle/input/space-objects-around-black-holes-esa/NEAR THE BLACK HOLE/CENTAURUS-A/HST-OPTICAL/HST/u3lba107m/u3lba107m_c1f.fits\n",
      "/kaggle/input/space-objects-around-black-holes-esa/NEAR THE BLACK HOLE/CENTAURUS-A/HST-OPTICAL/HST/u3lba107m/u3lba107m_c0m.fits\n",
      "/kaggle/input/space-objects-around-black-holes-esa/NEAR THE BLACK HOLE/CENTAURUS-A/HST-OPTICAL/HST/u3lba107m/u3lba107m_c1m.fits\n",
      "/kaggle/input/space-objects-around-black-holes-esa/NEAR THE BLACK HOLE/CENTAURUS-A/HST-OPTICAL/HST/u3lba107m/u3lba107m_c0f.fits\n",
      "/kaggle/input/space-objects-around-black-holes-esa/NEAR THE BLACK HOLE/CENTAURUS-A/HST-OPTICAL/HST/u67n5201r/u67n5201r_c0f.fits\n",
      "/kaggle/input/space-objects-around-black-holes-esa/NEAR THE BLACK HOLE/CENTAURUS-A/HST-OPTICAL/HST/u67n5201r/u67n5201r_c1m.fits\n",
      "/kaggle/input/space-objects-around-black-holes-esa/NEAR THE BLACK HOLE/CENTAURUS-A/HST-OPTICAL/HST/u67n5201r/u67n5201r_c1f.fits\n",
      "/kaggle/input/space-objects-around-black-holes-esa/NEAR THE BLACK HOLE/CENTAURUS-A/HST-OPTICAL/HST/u67n5201r/u67n5201r_c0m.fits\n",
      "/kaggle/input/space-objects-around-black-holes-esa/NEAR THE BLACK HOLE/H1821/summary.txt\n",
      "/kaggle/input/space-objects-around-black-holes-esa/NEAR THE BLACK HOLE/H1821/ASTRO_IMAGING_HST_OPTICAL5.csv\n",
      "/kaggle/input/space-objects-around-black-holes-esa/NEAR THE BLACK HOLE/H1821/HST-OPTICAL/odmj01s4q_raw.fits\n",
      "/kaggle/input/space-objects-around-black-holes-esa/NEAR THE BLACK HOLE/H1821/HST-OPTICAL/odmj53rxq_raw.fits\n",
      "/kaggle/input/space-objects-around-black-holes-esa/NEAR THE BLACK HOLE/H1821/HST-OPTICAL/odmj02oqq_raw.fits\n",
      "/kaggle/input/space-objects-around-black-holes-esa/NEAR THE BLACK HOLE/H1821/HST-OPTICAL/odmj03btq_raw.fits\n",
      "/kaggle/input/space-objects-around-black-holes-esa/NEAR THE BLACK HOLE/MESSIER60/summary.txt\n",
      "/kaggle/input/space-objects-around-black-holes-esa/NEAR THE BLACK HOLE/MESSIER60/ASTRO_IMAGING_HST_OPTICAL15.csv\n",
      "/kaggle/input/space-objects-around-black-holes-esa/NEAR THE BLACK HOLE/MESSIER60/HST-OPTICAL/ob5c09u5q_raw.fits\n",
      "/kaggle/input/space-objects-around-black-holes-esa/NEAR THE BLACK HOLE/MESSIER60/HST-OPTICAL/ob5c07ueq_raw.fits\n",
      "/kaggle/input/space-objects-around-black-holes-esa/NEAR THE BLACK HOLE/MESSIER60/HST-OPTICAL/o4ak06q4q_raw.fits\n",
      "/kaggle/input/space-objects-around-black-holes-esa/NEAR THE BLACK HOLE/MESSIER60/HST-OPTICAL/hst_08686_09_wfpc2_fr680p15_pc_drz.fits\n",
      "/kaggle/input/space-objects-around-black-holes-esa/NEAR THE BLACK HOLE/MESSIER60/HST-OPTICAL/ob5c08yjq_raw.fits\n",
      "/kaggle/input/space-objects-around-black-holes-esa/NEAR THE BLACK HOLE/MESSIER60/HST-OPTICAL/o4an01ayq_raw.fits\n",
      "/kaggle/input/space-objects-around-black-holes-esa/NEAR THE BLACK HOLE/MESSIER60/HST-OPTICAL/HST/x13c0201t/x13c0201t_c1f.fits\n",
      "/kaggle/input/space-objects-around-black-holes-esa/NEAR THE BLACK HOLE/MESSIER60/HST-OPTICAL/HST/x13c0201t/x13c0201t_c0f.fits\n",
      "/kaggle/input/space-objects-around-black-holes-esa/NEAR THE BLACK HOLE/S50014/summary.txt\n",
      "/kaggle/input/space-objects-around-black-holes-esa/NEAR THE BLACK HOLE/S50014/ASTRO_IMAGING_HST_OPTICAL3.csv\n",
      "/kaggle/input/space-objects-around-black-holes-esa/NEAR THE BLACK HOLE/S50014/HST-OPTICAL/HST/w0cq0101t/w0cq0101t_c2f.fits\n",
      "/kaggle/input/space-objects-around-black-holes-esa/NEAR THE BLACK HOLE/S50014/HST-OPTICAL/HST/w0cq0101t/w0cq0101t_c0f.fits\n",
      "/kaggle/input/space-objects-around-black-holes-esa/NEAR THE BLACK HOLE/S50014/HST-OPTICAL/HST/w0cq0101t/w0cq0101t_c1f.fits\n",
      "/kaggle/input/space-objects-around-black-holes-esa/NEAR THE BLACK HOLE/S50014/HST-OPTICAL/HST/w0cq7201t/w0cq7201t_c0f.fits\n",
      "/kaggle/input/space-objects-around-black-holes-esa/NEAR THE BLACK HOLE/S50014/HST-OPTICAL/HST/w0cq7201t/w0cq7201t_c1f.fits\n",
      "/kaggle/input/space-objects-around-black-holes-esa/NEAR THE BLACK HOLE/S50014/HST-OPTICAL/HST/w0cq7201t/w0cq7201t_c2f.fits\n",
      "/kaggle/input/space-objects-around-black-holes-esa/NEAR THE BLACK HOLE/S50014/HST-OPTICAL/HST/w0cq0201t/w0cq0201t_c2f.fits\n",
      "/kaggle/input/space-objects-around-black-holes-esa/NEAR THE BLACK HOLE/S50014/HST-OPTICAL/HST/w0cq0201t/w0cq0201t_c0f.fits\n",
      "/kaggle/input/space-objects-around-black-holes-esa/NEAR THE BLACK HOLE/S50014/HST-OPTICAL/HST/w0cq0201t/w0cq0201t_c1f.fits\n",
      "/kaggle/input/space-objects-around-black-holes-esa/NEAR THE BLACK HOLE/S50014/HST-OPTICAL/HST/w0et0101t/w0et0101t_c0f.fits\n",
      "/kaggle/input/space-objects-around-black-holes-esa/NEAR THE BLACK HOLE/S50014/HST-OPTICAL/HST/w0et0101t/w0et0101t_c1f.fits\n",
      "/kaggle/input/space-objects-around-black-holes-esa/NEAR THE BLACK HOLE/S50014/HST-OPTICAL/HST/w0et0101t/w0et0101t_c2f.fits\n",
      "/kaggle/input/space-objects-around-black-holes-esa/NEAR THE BLACK HOLE/S50014/HST-OPTICAL/HST/w0cq8101t/w0cq8101t_c1f.fits\n",
      "/kaggle/input/space-objects-around-black-holes-esa/NEAR THE BLACK HOLE/S50014/HST-OPTICAL/HST/w0cq8101t/w0cq8101t_c2f.fits\n",
      "/kaggle/input/space-objects-around-black-holes-esa/NEAR THE BLACK HOLE/S50014/HST-OPTICAL/HST/w0cq8101t/w0cq8101t_c0f.fits\n",
      "/kaggle/input/space-objects-around-black-holes-esa/NEAR THE BLACK HOLE/S50014/HST-OPTICAL/HST/w0et0201t/w0et0201t_c0f.fits\n",
      "/kaggle/input/space-objects-around-black-holes-esa/NEAR THE BLACK HOLE/S50014/HST-OPTICAL/HST/w0et0201t/w0et0201t_c2f.fits\n",
      "/kaggle/input/space-objects-around-black-holes-esa/NEAR THE BLACK HOLE/S50014/HST-OPTICAL/HST/w0et0201t/w0et0201t_c1f.fits\n",
      "/kaggle/input/space-objects-around-black-holes-esa/NEAR THE BLACK HOLE/NGC5548/summary.txt\n",
      "/kaggle/input/space-objects-around-black-holes-esa/NEAR THE BLACK HOLE/NGC5548/ASTRO_IMAGING_HST_OPTICAL12.csv\n",
      "/kaggle/input/space-objects-around-black-holes-esa/NEAR THE BLACK HOLE/NGC5548/HST-OPTICAL/o6kw01r7q_raw.fits\n",
      "/kaggle/input/space-objects-around-black-holes-esa/NEAR THE BLACK HOLE/NGC5548/HST-OPTICAL/o6jd02flq_raw.fits\n",
      "/kaggle/input/space-objects-around-black-holes-esa/NEAR THE BLACK HOLE/NGC5548/HST-OPTICAL/HST/x0l30801t/x0l30801t_c0f.fits\n",
      "/kaggle/input/space-objects-around-black-holes-esa/NEAR THE BLACK HOLE/NGC5548/HST-OPTICAL/HST/x0l30801t/x0l30801t_c1f.fits\n",
      "/kaggle/input/space-objects-around-black-holes-esa/NEAR THE BLACK HOLE/MESSIER106/summary.txt\n",
      "/kaggle/input/space-objects-around-black-holes-esa/NEAR THE BLACK HOLE/MESSIER106/HST-OPTICAL/j8l003030_drz.fits\n",
      "/kaggle/input/space-objects-around-black-holes-esa/NEAR THE BLACK HOLE/MESSIER106/HST-OPTICAL/o4tu01gjq_raw.fits\n",
      "/kaggle/input/space-objects-around-black-holes-esa/NEAR THE BLACK HOLE/MESSIER106/HST-OPTICAL/j8q004041_drz.fits\n",
      "/kaggle/input/space-objects-around-black-holes-esa/NEAR THE BLACK HOLE/MESSIER106/HST-OPTICAL/HST/ua2r1101m/ua2r1101m_c1m.fits\n",
      "/kaggle/input/space-objects-around-black-holes-esa/NEAR THE BLACK HOLE/MESSIER106/HST-OPTICAL/HST/ua2r1101m/ua2r1101m_c1f.fits\n",
      "/kaggle/input/space-objects-around-black-holes-esa/NEAR THE BLACK HOLE/MESSIER106/HST-OPTICAL/HST/ua2r1101m/ua2r1101m_c0m.fits\n",
      "/kaggle/input/space-objects-around-black-holes-esa/NEAR THE BLACK HOLE/MESSIER106/HST-OPTICAL/HST/ua2r1101m/ua2r1101m_c0f.fits\n",
      "/kaggle/input/space-objects-around-black-holes-esa/NEAR THE BLACK HOLE/MESSIER106/HST-OPTICAL/HST/x0if0301t/x0if0301t_c0f.fits\n",
      "/kaggle/input/space-objects-around-black-holes-esa/NEAR THE BLACK HOLE/MESSIER106/HST-OPTICAL/HST/x0if0301t/x0if0301t_c1f.fits\n",
      "/kaggle/input/space-objects-around-black-holes-esa/NEAR THE BLACK HOLE/MESSIER106/HST-OPTICAL/HST/x0xg0101t/x0xg0101t_c1f.fits\n",
      "/kaggle/input/space-objects-around-black-holes-esa/NEAR THE BLACK HOLE/MESSIER106/HST-OPTICAL/HST/x0xg0101t/x0xg0101t_c0f.fits\n",
      "/kaggle/input/space-objects-around-black-holes-esa/NEAR THE BLACK HOLE/MESSIER106/HST-OPTICAL/HST/x2ck0502t/x2ck0502t_c1f.fits\n",
      "/kaggle/input/space-objects-around-black-holes-esa/NEAR THE BLACK HOLE/MESSIER106/HST-OPTICAL/HST/x2ck0502t/x2ck0502t_c0f.fits\n",
      "/kaggle/input/space-objects-around-black-holes-esa/NEAR THE BLACK HOLE/OJ287/ASTRO_IMAGING_HST_OPTICAL6.csv\n",
      "/kaggle/input/space-objects-around-black-holes-esa/NEAR THE BLACK HOLE/OJ287/summary.txt\n",
      "/kaggle/input/space-objects-around-black-holes-esa/NEAR THE BLACK HOLE/OJ287/HST-OPTICAL/hst_06363_4c_wfpc2_f606w_pc_drz.fits\n",
      "/kaggle/input/space-objects-around-black-holes-esa/NEAR THE BLACK HOLE/OJ287/HST-OPTICAL/hst_05992_06_wfpc2_f814w_pc_drz.fits\n",
      "/kaggle/input/space-objects-around-black-holes-esa/NEAR THE BLACK HOLE/OJ287/HST-OPTICAL/hst_05992_01_wfpc2_f814w_pc_drz.fits\n",
      "/kaggle/input/space-objects-around-black-holes-esa/NEAR THE BLACK HOLE/OJ287/HST-OPTICAL/hst_11344_01_wfpc2_f606w_pc_drz.fits\n",
      "/kaggle/input/space-objects-around-black-holes-esa/NEAR THE BLACK HOLE/OJ287/HST-OPTICAL/HST/u33j4c01r/u33j4c01r_c1m.fits\n",
      "/kaggle/input/space-objects-around-black-holes-esa/NEAR THE BLACK HOLE/OJ287/HST-OPTICAL/HST/u33j4c01r/u33j4c01r_c0f.fits\n",
      "/kaggle/input/space-objects-around-black-holes-esa/NEAR THE BLACK HOLE/OJ287/HST-OPTICAL/HST/u33j4c01r/u33j4c01r_c0m.fits\n",
      "/kaggle/input/space-objects-around-black-holes-esa/NEAR THE BLACK HOLE/OJ287/HST-OPTICAL/HST/u33j4c01r/u33j4c01r_c1f.fits\n",
      "/kaggle/input/space-objects-around-black-holes-esa/NEAR THE BLACK HOLE/OJ287/HST-OPTICAL/HST/u2vh0601r/u2vh0601r_c1m.fits\n",
      "/kaggle/input/space-objects-around-black-holes-esa/NEAR THE BLACK HOLE/OJ287/HST-OPTICAL/HST/u2vh0601r/u2vh0601r_c0m.fits\n",
      "/kaggle/input/space-objects-around-black-holes-esa/NEAR THE BLACK HOLE/OJ287/HST-OPTICAL/HST/u2vh0601r/u2vh0601r_c1f.fits\n",
      "/kaggle/input/space-objects-around-black-holes-esa/NEAR THE BLACK HOLE/OJ287/HST-OPTICAL/HST/u2vh0601r/u2vh0601r_c0f.fits\n",
      "/kaggle/input/space-objects-around-black-holes-esa/NEAR THE BLACK HOLE/OJ287/HST-OPTICAL/HST/u2vh0101t/u2vh0101t_c0m.fits\n",
      "/kaggle/input/space-objects-around-black-holes-esa/NEAR THE BLACK HOLE/OJ287/HST-OPTICAL/HST/u2vh0101t/u2vh0101t_c0f.fits\n",
      "/kaggle/input/space-objects-around-black-holes-esa/NEAR THE BLACK HOLE/OJ287/HST-OPTICAL/HST/u2vh0101t/u2vh0101t_c1m.fits\n",
      "/kaggle/input/space-objects-around-black-holes-esa/NEAR THE BLACK HOLE/OJ287/HST-OPTICAL/HST/u2vh0101t/u2vh0101t_c1f.fits\n",
      "/kaggle/input/space-objects-around-black-holes-esa/NEAR THE BLACK HOLE/OJ287/HST-OPTICAL/HST/ua5e0101m/ua5e0101m_c1m.fits\n",
      "/kaggle/input/space-objects-around-black-holes-esa/NEAR THE BLACK HOLE/OJ287/HST-OPTICAL/HST/ua5e0101m/ua5e0101m_c0m.fits\n",
      "/kaggle/input/space-objects-around-black-holes-esa/NEAR THE BLACK HOLE/OJ287/HST-OPTICAL/HST/ua5e0101m/ua5e0101m_c0f.fits\n",
      "/kaggle/input/space-objects-around-black-holes-esa/NEAR THE BLACK HOLE/OJ287/HST-OPTICAL/HST/ua5e0101m/ua5e0101m_c1f.fits\n",
      "/kaggle/input/space-objects-around-black-holes-esa/NEAR THE BLACK HOLE/OJ287/HST-OPTICAL/HST/ua5e0107m/ua5e0107m_c0f.fits\n",
      "/kaggle/input/space-objects-around-black-holes-esa/NEAR THE BLACK HOLE/OJ287/HST-OPTICAL/HST/ua5e0107m/ua5e0107m_c1m.fits\n",
      "/kaggle/input/space-objects-around-black-holes-esa/NEAR THE BLACK HOLE/OJ287/HST-OPTICAL/HST/ua5e0107m/ua5e0107m_c1f.fits\n",
      "/kaggle/input/space-objects-around-black-holes-esa/NEAR THE BLACK HOLE/OJ287/HST-OPTICAL/HST/ua5e0107m/ua5e0107m_c0m.fits\n",
      "/kaggle/input/space-objects-around-black-holes-esa/NEAR THE BLACK HOLE/OJ287/HST-OPTICAL/HST/u2vh0201t/u2vh0201t_c1f.fits\n",
      "/kaggle/input/space-objects-around-black-holes-esa/NEAR THE BLACK HOLE/OJ287/HST-OPTICAL/HST/u2vh0201t/u2vh0201t_c0m.fits\n",
      "/kaggle/input/space-objects-around-black-holes-esa/NEAR THE BLACK HOLE/OJ287/HST-OPTICAL/HST/u2vh0201t/u2vh0201t_c1m.fits\n",
      "/kaggle/input/space-objects-around-black-holes-esa/NEAR THE BLACK HOLE/OJ287/HST-OPTICAL/HST/u2vh0201t/u2vh0201t_c0f.fits\n",
      "/kaggle/input/space-objects-around-black-holes-esa/NEAR THE BLACK HOLE/MESSIER87/ASTRO_IMAGING_HST_OPTICAL16.csv\n",
      "/kaggle/input/space-objects-around-black-holes-esa/NEAR THE BLACK HOLE/MESSIER87/summary.txt\n",
      "/kaggle/input/space-objects-around-black-holes-esa/NEAR THE BLACK HOLE/MESSIER87/HST-OPTICAL/ob5c09u5q_raw.fits\n",
      "/kaggle/input/space-objects-around-black-holes-esa/NEAR THE BLACK HOLE/MESSIER87/HST-OPTICAL/ob5c07ueq_raw.fits\n",
      "/kaggle/input/space-objects-around-black-holes-esa/NEAR THE BLACK HOLE/MESSIER87/HST-OPTICAL/o4ak06q4q_raw.fits\n",
      "/kaggle/input/space-objects-around-black-holes-esa/NEAR THE BLACK HOLE/MESSIER87/HST-OPTICAL/hst_08686_09_wfpc2_fr680p15_pc_drz.fits\n",
      "/kaggle/input/space-objects-around-black-holes-esa/NEAR THE BLACK HOLE/MESSIER87/HST-OPTICAL/ob5c08yjq_raw.fits\n",
      "/kaggle/input/space-objects-around-black-holes-esa/NEAR THE BLACK HOLE/MESSIER87/HST-OPTICAL/o4an01ayq_raw.fits\n",
      "/kaggle/input/space-objects-around-black-holes-esa/NEAR THE BLACK HOLE/MESSIER87/HST-OPTICAL/HST/x13c0201t/x13c0201t_c1f.fits\n",
      "/kaggle/input/space-objects-around-black-holes-esa/NEAR THE BLACK HOLE/MESSIER87/HST-OPTICAL/HST/x13c0201t/x13c0201t_c0f.fits\n",
      "/kaggle/input/space-objects-around-black-holes-esa/NEAR THE BLACK HOLE/IC1101/summary.txt\n",
      "/kaggle/input/space-objects-around-black-holes-esa/NEAR THE BLACK HOLE/IC1101/ASTRO_IMAGING_HST_UV9.csv\n",
      "/kaggle/input/space-objects-around-black-holes-esa/NEAR THE BLACK HOLE/IC1101/HST-UV/hst_11980_06_acs_sbc_f150lp_drz.fits\n",
      "/kaggle/input/space-objects-around-black-holes-esa/NEAR THE BLACK HOLE/IC1101/HST-UV/jba706020_drz.fits\n",
      "/kaggle/input/space-objects-around-black-holes-esa/NEAR THE BLACK HOLE/IC1101/HST-UV/jba706010_drz.fits\n",
      "/kaggle/input/space-objects-around-black-holes-esa/NEAR THE BLACK HOLE/IC1101/HST-UV/hst_11980_06_acs_sbc_f140lp_drz.fits\n",
      "/kaggle/input/space-objects-around-black-holes-esa/NEAR THE BLACK HOLE/3C273/summary.txt\n",
      "/kaggle/input/space-objects-around-black-holes-esa/NEAR THE BLACK HOLE/3C273/ASTRO_IMAGING_HST_OPTICAL11.csv\n",
      "/kaggle/input/space-objects-around-black-holes-esa/NEAR THE BLACK HOLE/3C273/HST-OPTICAL/iby840010_drz.fits\n",
      "/kaggle/input/space-objects-around-black-holes-esa/NEAR THE BLACK HOLE/3C273/HST-OPTICAL/j8cw08n4q_drz.fits\n",
      "/kaggle/input/space-objects-around-black-holes-esa/NEAR THE BLACK HOLE/3C273/HST-OPTICAL/hst_05980_01_wfpc2_total_pc_drz.fits\n",
      "/kaggle/input/space-objects-around-black-holes-esa/NEAR THE BLACK HOLE/3C273/HST-OPTICAL/HST/u6ei0401m/u6ei0401m_c1f.fits\n",
      "/kaggle/input/space-objects-around-black-holes-esa/NEAR THE BLACK HOLE/3C273/HST-OPTICAL/HST/u6ei0401m/u6ei0401m_c0m.fits\n",
      "/kaggle/input/space-objects-around-black-holes-esa/NEAR THE BLACK HOLE/3C273/HST-OPTICAL/HST/u6ei0401m/u6ei0401m_c1m.fits\n",
      "/kaggle/input/space-objects-around-black-holes-esa/NEAR THE BLACK HOLE/3C273/HST-OPTICAL/HST/u6ei0401m/u6ei0401m_c0f.fits\n",
      "/kaggle/input/space-objects-around-black-holes-esa/NEAR THE BLACK HOLE/NGC4151/summary.txt\n",
      "/kaggle/input/space-objects-around-black-holes-esa/NEAR THE BLACK HOLE/NGC4151/ASTRO_IMAGING_HST_OPTICAL14.csv\n",
      "/kaggle/input/space-objects-around-black-holes-esa/NEAR THE BLACK HOLE/NGC4151/HST-OPTICAL/o5kt01wjq_raw.fits\n",
      "/kaggle/input/space-objects-around-black-holes-esa/NEAR THE BLACK HOLE/NGC4151/HST-OPTICAL/o59701i1q_raw.fits\n",
      "/kaggle/input/space-objects-around-black-holes-esa/NEAR THE BLACK HOLE/NGC4151/HST-OPTICAL/o42302nqq_raw.fits\n",
      "/kaggle/input/space-objects-around-black-holes-esa/NEAR THE BLACK HOLE/NGC4151/HST-OPTICAL/o42304c2q_raw.fits\n",
      "/kaggle/input/space-objects-around-black-holes-esa/NEAR THE BLACK HOLE/NGC4151/HST-OPTICAL/o4qa04euq_raw.fits\n",
      "/kaggle/input/space-objects-around-black-holes-esa/NEAR THE BLACK HOLE/NGC4151/HST-OPTICAL/n4hk18010_mos.fits\n",
      "/kaggle/input/space-objects-around-black-holes-esa/NEAR THE BLACK HOLE/NGC4151/HST-OPTICAL/o61l01qxq_raw.fits\n",
      "/kaggle/input/space-objects-around-black-holes-esa/NEAR THE BLACK HOLE/NGC4151/HST-OPTICAL/HST/x2740101t/x2740101t_c1f.fits\n",
      "/kaggle/input/space-objects-around-black-holes-esa/NEAR THE BLACK HOLE/NGC4151/HST-OPTICAL/HST/x2740101t/x2740101t_c0f.fits\n",
      "/kaggle/input/space-objects-around-black-holes-esa/NEAR THE BLACK HOLE/NGC4151/HST-OPTICAL/HST/x0la0601t/x0la0601t_c0f.fits\n",
      "/kaggle/input/space-objects-around-black-holes-esa/NEAR THE BLACK HOLE/NGC4151/HST-OPTICAL/HST/x0la0601t/x0la0601t_c1f.fits\n",
      "/kaggle/input/space-objects-around-black-holes-esa/NEAR THE BLACK HOLE/NGC1600/ASTRO_IMAGING_HST_OPTICAL7.csv\n",
      "/kaggle/input/space-objects-around-black-holes-esa/NEAR THE BLACK HOLE/NGC1600/summary.txt\n",
      "/kaggle/input/space-objects-around-black-holes-esa/NEAR THE BLACK HOLE/NGC1600/HST-OPTICAL/HST/idfr08020/idfr08020_drz.fits\n",
      "/kaggle/input/space-objects-around-black-holes-esa/NEAR THE BLACK HOLE/NGC1600/HST-OPTICAL/HST/idfr08020/idfr08020_drc.fits\n",
      "/kaggle/input/space-objects-around-black-holes-esa/NEAR THE BLACK HOLE/NGC1600/HST-OPTICAL/HST/w1000302t/w1000302t_c0f.fits\n",
      "/kaggle/input/space-objects-around-black-holes-esa/NEAR THE BLACK HOLE/NGC1600/HST-OPTICAL/HST/w1000302t/w1000302t_c1f.fits\n",
      "/kaggle/input/space-objects-around-black-holes-esa/NEAR THE BLACK HOLE/NGC1600/HST-OPTICAL/HST/w1000302t/w1000302t_c2f.fits\n",
      "/kaggle/input/space-objects-around-black-holes-esa/NEAR THE BLACK HOLE/NGC1600/HST-OPTICAL/HST/idfr08cpq/idfr08cpq_drz.fits\n",
      "/kaggle/input/space-objects-around-black-holes-esa/NEAR THE BLACK HOLE/NGC1600/HST-OPTICAL/HST/idfr08cpq/idfr08cpq_drc.fits\n",
      "/kaggle/input/space-objects-around-black-holes-esa/NEAR THE BLACK HOLE/NGC1600/HST-OPTICAL/HST/w1000301t/w1000301t_c0f.fits\n",
      "/kaggle/input/space-objects-around-black-holes-esa/NEAR THE BLACK HOLE/NGC1600/HST-OPTICAL/HST/w1000301t/w1000301t_c1f.fits\n",
      "/kaggle/input/space-objects-around-black-holes-esa/NEAR THE BLACK HOLE/NGC1600/HST-OPTICAL/HST/w1000301t/w1000301t_c2f.fits\n",
      "/kaggle/input/space-objects-around-black-holes-esa/NEAR THE BLACK HOLE/MARKARIAN/summary.txt\n",
      "/kaggle/input/space-objects-around-black-holes-esa/NEAR THE BLACK HOLE/MARKARIAN/ASTRO_IMAGING_HST_OPTICAL10.csv\n",
      "/kaggle/input/space-objects-around-black-holes-esa/NEAR THE BLACK HOLE/MARKARIAN/HST-OPTICAL/hst_06363_86_wfpc2_total_wf_drz.fits\n",
      "/kaggle/input/space-objects-around-black-holes-esa/NEAR THE BLACK HOLE/MARKARIAN/HST-OPTICAL/hst_06363_86_wfpc2_total_pc_drz.fits\n",
      "/kaggle/input/space-objects-around-black-holes-esa/NEAR THE BLACK HOLE/MARKARIAN/HST-OPTICAL/hst_06363_86_wfpc2_f702w_pc_drz.fits\n",
      "/kaggle/input/space-objects-around-black-holes-esa/NEAR THE BLACK HOLE/MARKARIAN/HST-OPTICAL/hst_06363_86_wfpc2_f702w_wf_drz.fits\n",
      "/kaggle/input/space-objects-around-black-holes-esa/NEAR THE BLACK HOLE/MARKARIAN/HST-OPTICAL/HST/u33j8602r/u33j8602r_c1f.fits\n",
      "/kaggle/input/space-objects-around-black-holes-esa/NEAR THE BLACK HOLE/MARKARIAN/HST-OPTICAL/HST/u33j8602r/u33j8602r_c0f.fits\n",
      "/kaggle/input/space-objects-around-black-holes-esa/NEAR THE BLACK HOLE/MARKARIAN/HST-OPTICAL/HST/u33j8602r/u33j8602r_c0m.fits\n",
      "/kaggle/input/space-objects-around-black-holes-esa/NEAR THE BLACK HOLE/MARKARIAN/HST-OPTICAL/HST/u33j8602r/u33j8602r_c1m.fits\n",
      "/kaggle/input/space-objects-around-black-holes-esa/NEAR THE BLACK HOLE/MARKARIAN/HST-OPTICAL/HST/u33j8601r/u33j8601r_c0m.fits\n",
      "/kaggle/input/space-objects-around-black-holes-esa/NEAR THE BLACK HOLE/MARKARIAN/HST-OPTICAL/HST/u33j8601r/u33j8601r_c0f.fits\n",
      "/kaggle/input/space-objects-around-black-holes-esa/NEAR THE BLACK HOLE/MARKARIAN/HST-OPTICAL/HST/u33j8601r/u33j8601r_c1f.fits\n",
      "/kaggle/input/space-objects-around-black-holes-esa/NEAR THE BLACK HOLE/MARKARIAN/HST-OPTICAL/HST/u33j8601r/u33j8601r_c1m.fits\n",
      "/kaggle/input/space-objects-around-black-holes-esa/NEAR THE BLACK HOLE/MARKARIAN/HST-OPTICAL/HST/u33j8604r/u33j8604r_c1f.fits\n",
      "/kaggle/input/space-objects-around-black-holes-esa/NEAR THE BLACK HOLE/MARKARIAN/HST-OPTICAL/HST/u33j8604r/u33j8604r_c0f.fits\n",
      "/kaggle/input/space-objects-around-black-holes-esa/NEAR THE BLACK HOLE/MARKARIAN/HST-OPTICAL/HST/u33j8604r/u33j8604r_c1m.fits\n",
      "/kaggle/input/space-objects-around-black-holes-esa/NEAR THE BLACK HOLE/MARKARIAN/HST-OPTICAL/HST/u33j8604r/u33j8604r_c0m.fits\n",
      "/kaggle/input/space-objects-around-black-holes-esa/NEAR THE BLACK HOLE/MARKARIAN/HST-OPTICAL/HST/u33j8603r/u33j8603r_c1m.fits\n",
      "/kaggle/input/space-objects-around-black-holes-esa/NEAR THE BLACK HOLE/MARKARIAN/HST-OPTICAL/HST/u33j8603r/u33j8603r_c0f.fits\n",
      "/kaggle/input/space-objects-around-black-holes-esa/NEAR THE BLACK HOLE/MARKARIAN/HST-OPTICAL/HST/u33j8603r/u33j8603r_c1f.fits\n",
      "/kaggle/input/space-objects-around-black-holes-esa/NEAR THE BLACK HOLE/MARKARIAN/HST-OPTICAL/HST/u33j8603r/u33j8603r_c0m.fits\n",
      "/kaggle/input/space-objects-around-black-holes-esa/NEAR THE BLACK HOLE/MARKARIAN/HST-OPTICAL/HST/u33j8605r/u33j8605r_c0f.fits\n",
      "/kaggle/input/space-objects-around-black-holes-esa/NEAR THE BLACK HOLE/MARKARIAN/HST-OPTICAL/HST/u33j8605r/u33j8605r_c1f.fits\n",
      "/kaggle/input/space-objects-around-black-holes-esa/NEAR THE BLACK HOLE/MARKARIAN/HST-OPTICAL/HST/u33j8605r/u33j8605r_c1m.fits\n",
      "/kaggle/input/space-objects-around-black-holes-esa/NEAR THE BLACK HOLE/MARKARIAN/HST-OPTICAL/HST/u33j8605r/u33j8605r_c0m.fits\n"
     ]
    }
   ],
   "source": [
    "# This Python 3 environment comes with many helpful analytics libraries installed\n",
    "# It is defined by the kaggle/python Docker image: https://github.com/kaggle/docker-python\n",
    "# For example, here's several helpful packages to load\n",
    "\n",
    "import numpy as np # linear algebra\n",
    "import pandas as pd # data processing, CSV file I/O (e.g. pd.read_csv)\n",
    "\n",
    "# Input data files are available in the read-only \"../input/\" directory\n",
    "# For example, running this (by clicking run or pressing Shift+Enter) will list all files under the input directory\n",
    "\n",
    "import os\n",
    "for dirname, _, filenames in os.walk('/kaggle/input'):\n",
    "    for filename in filenames:\n",
    "        print(os.path.join(dirname, filename))\n",
    "\n",
    "# You can write up to 20GB to the current directory (/kaggle/working/) that gets preserved as output when you create a version using \"Save & Run All\" \n",
    "# You can also write temporary files to /kaggle/temp/, but they won't be saved outside of the current session"
   ]
  },
  {
   "cell_type": "markdown",
   "id": "9fec0d92",
   "metadata": {
    "papermill": {
     "duration": 0.035651,
     "end_time": "2022-04-29T20:38:20.380316",
     "exception": false,
     "start_time": "2022-04-29T20:38:20.344665",
     "status": "completed"
    },
    "tags": []
   },
   "source": [
    "# Using only 5 files for analysis and prediction"
   ]
  },
  {
   "cell_type": "code",
   "execution_count": 2,
   "id": "da250f66",
   "metadata": {
    "execution": {
     "iopub.execute_input": "2022-04-29T20:38:20.453596Z",
     "iopub.status.busy": "2022-04-29T20:38:20.452892Z",
     "iopub.status.idle": "2022-04-29T20:38:20.536036Z",
     "shell.execute_reply": "2022-04-29T20:38:20.534825Z"
    },
    "papermill": {
     "duration": 0.123551,
     "end_time": "2022-04-29T20:38:20.539019",
     "exception": false,
     "start_time": "2022-04-29T20:38:20.415468",
     "status": "completed"
    },
    "tags": []
   },
   "outputs": [],
   "source": [
    "import pandas as pd\n",
    "import numpy as np\n",
    "\n",
    "df = pd.read_csv(r'/kaggle/input/space-objects-around-black-holes-esa/NEAR THE BLACK HOLE/SAGITTARIUS-A/ASTRO_IMAGING_HST_OPTICAL17.csv')\n",
    "df_2 = pd.read_csv(r'/kaggle/input/space-objects-around-black-holes-esa/NEAR THE BLACK HOLE/SOMBRERO/ASTRO_IMAGING_HST_OPTICAL8.csv')\n",
    "df_3 = pd.read_csv(r'/kaggle/input/space-objects-around-black-holes-esa/NEAR THE BLACK HOLE/CENTAURUS-A/ASTRO_IMAGING_HST_OPTICAL13.csv')\n",
    "df_4 = pd.read_csv (r'/kaggle/input/space-objects-around-black-holes-esa/NEAR THE BLACK HOLE/H1821/ASTRO_IMAGING_HST_OPTICAL5.csv')\n",
    "df_5 = pd.read_csv(r'/kaggle/input/space-objects-around-black-holes-esa/NEAR THE BLACK HOLE/NGC5548/ASTRO_IMAGING_HST_OPTICAL12.csv')\n",
    "df_6 = pd.read_csv(r'/kaggle/input/space-objects-around-black-holes-esa/NEAR THE BLACK HOLE/H1821/ASTRO_IMAGING_HST_OPTICAL5.csv')"
   ]
  },
  {
   "cell_type": "code",
   "execution_count": 3,
   "id": "b1cc06f0",
   "metadata": {
    "execution": {
     "iopub.execute_input": "2022-04-29T20:38:20.615198Z",
     "iopub.status.busy": "2022-04-29T20:38:20.614807Z",
     "iopub.status.idle": "2022-04-29T20:38:20.646962Z",
     "shell.execute_reply": "2022-04-29T20:38:20.645905Z"
    },
    "papermill": {
     "duration": 0.073069,
     "end_time": "2022-04-29T20:38:20.649871",
     "exception": false,
     "start_time": "2022-04-29T20:38:20.576802",
     "status": "completed"
    },
    "tags": []
   },
   "outputs": [
    {
     "data": {
      "text/html": [
       "<div>\n",
       "<style scoped>\n",
       "    .dataframe tbody tr th:only-of-type {\n",
       "        vertical-align: middle;\n",
       "    }\n",
       "\n",
       "    .dataframe tbody tr th {\n",
       "        vertical-align: top;\n",
       "    }\n",
       "\n",
       "    .dataframe thead th {\n",
       "        text-align: right;\n",
       "    }\n",
       "</style>\n",
       "<table border=\"1\" class=\"dataframe\">\n",
       "  <thead>\n",
       "    <tr style=\"text-align: right;\">\n",
       "      <th></th>\n",
       "      <th>postcard_url</th>\n",
       "      <th>product_url</th>\n",
       "      <th>observation_id</th>\n",
       "      <th>ra_deg</th>\n",
       "      <th>dec_deg</th>\n",
       "      <th>target_name</th>\n",
       "      <th>instrument_name</th>\n",
       "      <th>collection</th>\n",
       "      <th>filter</th>\n",
       "      <th>start_time</th>\n",
       "      <th>exposure_duration</th>\n",
       "      <th>stc_s</th>\n",
       "      <th>end_time</th>\n",
       "      <th>observation_oid</th>\n",
       "    </tr>\n",
       "  </thead>\n",
       "  <tbody>\n",
       "    <tr>\n",
       "      <th>0</th>\n",
       "      <td>http://archives.esac.esa.int/ehst-sl-server/se...</td>\n",
       "      <td>http://archives.esac.esa.int/ehst-sl-server/se...</td>\n",
       "      <td>hst_07909_rb_wfpc2_f606w_pc</td>\n",
       "      <td>266.275245</td>\n",
       "      <td>-28.941184</td>\n",
       "      <td>ANY</td>\n",
       "      <td>WFPC2</td>\n",
       "      <td>HLA</td>\n",
       "      <td>F606W</td>\n",
       "      <td>1998-08-13 11:59:14.11</td>\n",
       "      <td>2200.0</td>\n",
       "      <td>POLYGON J2000 266.275620000000004 -28.94818200...</td>\n",
       "      <td>1998-08-13 12:38:14.11</td>\n",
       "      <td>hst_07909_rb_wfpc2_f606w_pc</td>\n",
       "    </tr>\n",
       "    <tr>\n",
       "      <th>1</th>\n",
       "      <td>http://archives.esac.esa.int/ehst-sl-server/se...</td>\n",
       "      <td>http://archives.esac.esa.int/ehst-sl-server/se...</td>\n",
       "      <td>hst_09676_x8_wfpc2_f606w_pc</td>\n",
       "      <td>266.275913</td>\n",
       "      <td>-28.944096</td>\n",
       "      <td>ANY</td>\n",
       "      <td>WFPC2</td>\n",
       "      <td>HLA</td>\n",
       "      <td>F606W</td>\n",
       "      <td>2003-03-13 20:26:17.25</td>\n",
       "      <td>1100.0</td>\n",
       "      <td>POLYGON J2000 266.27582799999999 -28.951051000...</td>\n",
       "      <td>2003-03-13 20:47:17.24</td>\n",
       "      <td>hst_09676_x8_wfpc2_f606w_pc</td>\n",
       "    </tr>\n",
       "    <tr>\n",
       "      <th>2</th>\n",
       "      <td>http://archives.esac.esa.int/ehst-sl-server/se...</td>\n",
       "      <td>http://archives.esac.esa.int/ehst-sl-server/se...</td>\n",
       "      <td>hst_09598_3a_wfpc2_f656n_pc</td>\n",
       "      <td>266.276156</td>\n",
       "      <td>-28.943571</td>\n",
       "      <td>EARTH-CALIB</td>\n",
       "      <td>WFPC2</td>\n",
       "      <td>HLA</td>\n",
       "      <td>F656N</td>\n",
       "      <td>2003-03-13 21:16:17.11</td>\n",
       "      <td>0.7</td>\n",
       "      <td>POLYGON J2000 266.267831000000001 -28.95085500...</td>\n",
       "      <td>2003-03-13 21:18:17.47</td>\n",
       "      <td>hst_09598_3a_wfpc2_f656n_pc</td>\n",
       "    </tr>\n",
       "    <tr>\n",
       "      <th>3</th>\n",
       "      <td>http://archives.esac.esa.int/ehst-sl-server/se...</td>\n",
       "      <td>http://archives.esac.esa.int/ehst-sl-server/se...</td>\n",
       "      <td>hst_09244_9m_wfpc2_f606w_pc</td>\n",
       "      <td>266.279368</td>\n",
       "      <td>-28.944208</td>\n",
       "      <td>ANY</td>\n",
       "      <td>WFPC2</td>\n",
       "      <td>HLA</td>\n",
       "      <td>F606W</td>\n",
       "      <td>2001-03-22 16:03:14.86</td>\n",
       "      <td>2500.0</td>\n",
       "      <td>POLYGON J2000 266.279143999999917 -28.95116100...</td>\n",
       "      <td>2001-03-22 16:47:14.86</td>\n",
       "      <td>hst_09244_9m_wfpc2_f606w_pc</td>\n",
       "    </tr>\n",
       "    <tr>\n",
       "      <th>4</th>\n",
       "      <td>http://archives.esac.esa.int/ehst-sl-server/se...</td>\n",
       "      <td>http://archives.esac.esa.int/ehst-sl-server/se...</td>\n",
       "      <td>hst_07909_rb_wfpc2_f606w_wf</td>\n",
       "      <td>266.265018</td>\n",
       "      <td>-28.941840</td>\n",
       "      <td>ANY</td>\n",
       "      <td>WFPC2</td>\n",
       "      <td>HLA</td>\n",
       "      <td>F606W</td>\n",
       "      <td>1998-08-13 11:59:14.11</td>\n",
       "      <td>2200.0</td>\n",
       "      <td>POLYGON J2000 266.269665999999972 -28.97094800...</td>\n",
       "      <td>1998-08-13 12:38:14.11</td>\n",
       "      <td>hst_07909_rb_wfpc2_f606w_wf</td>\n",
       "    </tr>\n",
       "  </tbody>\n",
       "</table>\n",
       "</div>"
      ],
      "text/plain": [
       "                                        postcard_url  \\\n",
       "0  http://archives.esac.esa.int/ehst-sl-server/se...   \n",
       "1  http://archives.esac.esa.int/ehst-sl-server/se...   \n",
       "2  http://archives.esac.esa.int/ehst-sl-server/se...   \n",
       "3  http://archives.esac.esa.int/ehst-sl-server/se...   \n",
       "4  http://archives.esac.esa.int/ehst-sl-server/se...   \n",
       "\n",
       "                                         product_url  \\\n",
       "0  http://archives.esac.esa.int/ehst-sl-server/se...   \n",
       "1  http://archives.esac.esa.int/ehst-sl-server/se...   \n",
       "2  http://archives.esac.esa.int/ehst-sl-server/se...   \n",
       "3  http://archives.esac.esa.int/ehst-sl-server/se...   \n",
       "4  http://archives.esac.esa.int/ehst-sl-server/se...   \n",
       "\n",
       "                observation_id      ra_deg    dec_deg  target_name  \\\n",
       "0  hst_07909_rb_wfpc2_f606w_pc  266.275245 -28.941184          ANY   \n",
       "1  hst_09676_x8_wfpc2_f606w_pc  266.275913 -28.944096          ANY   \n",
       "2  hst_09598_3a_wfpc2_f656n_pc  266.276156 -28.943571  EARTH-CALIB   \n",
       "3  hst_09244_9m_wfpc2_f606w_pc  266.279368 -28.944208          ANY   \n",
       "4  hst_07909_rb_wfpc2_f606w_wf  266.265018 -28.941840          ANY   \n",
       "\n",
       "  instrument_name collection filter              start_time  \\\n",
       "0           WFPC2        HLA  F606W  1998-08-13 11:59:14.11   \n",
       "1           WFPC2        HLA  F606W  2003-03-13 20:26:17.25   \n",
       "2           WFPC2        HLA  F656N  2003-03-13 21:16:17.11   \n",
       "3           WFPC2        HLA  F606W  2001-03-22 16:03:14.86   \n",
       "4           WFPC2        HLA  F606W  1998-08-13 11:59:14.11   \n",
       "\n",
       "   exposure_duration                                              stc_s  \\\n",
       "0             2200.0  POLYGON J2000 266.275620000000004 -28.94818200...   \n",
       "1             1100.0  POLYGON J2000 266.27582799999999 -28.951051000...   \n",
       "2                0.7  POLYGON J2000 266.267831000000001 -28.95085500...   \n",
       "3             2500.0  POLYGON J2000 266.279143999999917 -28.95116100...   \n",
       "4             2200.0  POLYGON J2000 266.269665999999972 -28.97094800...   \n",
       "\n",
       "                 end_time              observation_oid  \n",
       "0  1998-08-13 12:38:14.11  hst_07909_rb_wfpc2_f606w_pc  \n",
       "1  2003-03-13 20:47:17.24  hst_09676_x8_wfpc2_f606w_pc  \n",
       "2  2003-03-13 21:18:17.47  hst_09598_3a_wfpc2_f656n_pc  \n",
       "3  2001-03-22 16:47:14.86  hst_09244_9m_wfpc2_f606w_pc  \n",
       "4  1998-08-13 12:38:14.11  hst_07909_rb_wfpc2_f606w_wf  "
      ]
     },
     "execution_count": 3,
     "metadata": {},
     "output_type": "execute_result"
    }
   ],
   "source": [
    "df.head()"
   ]
  },
  {
   "cell_type": "markdown",
   "id": "0362e23a",
   "metadata": {
    "papermill": {
     "duration": 0.037078,
     "end_time": "2022-04-29T20:38:20.727849",
     "exception": false,
     "start_time": "2022-04-29T20:38:20.690771",
     "status": "completed"
    },
    "tags": []
   },
   "source": [
    "# Merging 5 files together in one dataframe"
   ]
  },
  {
   "cell_type": "code",
   "execution_count": 4,
   "id": "7a4a4bcf",
   "metadata": {
    "execution": {
     "iopub.execute_input": "2022-04-29T20:38:20.802409Z",
     "iopub.status.busy": "2022-04-29T20:38:20.801983Z",
     "iopub.status.idle": "2022-04-29T20:38:20.815904Z",
     "shell.execute_reply": "2022-04-29T20:38:20.815093Z"
    },
    "papermill": {
     "duration": 0.054634,
     "end_time": "2022-04-29T20:38:20.818564",
     "exception": false,
     "start_time": "2022-04-29T20:38:20.763930",
     "status": "completed"
    },
    "tags": []
   },
   "outputs": [],
   "source": [
    "frames = [df, df_2, df_3, df_4, df_5, df_5, df_6]\n",
    "result = pd.concat(frames)"
   ]
  },
  {
   "cell_type": "code",
   "execution_count": 5,
   "id": "33d8bea7",
   "metadata": {
    "execution": {
     "iopub.execute_input": "2022-04-29T20:38:20.896917Z",
     "iopub.status.busy": "2022-04-29T20:38:20.896174Z",
     "iopub.status.idle": "2022-04-29T20:38:20.918159Z",
     "shell.execute_reply": "2022-04-29T20:38:20.916973Z"
    },
    "papermill": {
     "duration": 0.063689,
     "end_time": "2022-04-29T20:38:20.920980",
     "exception": false,
     "start_time": "2022-04-29T20:38:20.857291",
     "status": "completed"
    },
    "tags": []
   },
   "outputs": [
    {
     "data": {
      "text/html": [
       "<div>\n",
       "<style scoped>\n",
       "    .dataframe tbody tr th:only-of-type {\n",
       "        vertical-align: middle;\n",
       "    }\n",
       "\n",
       "    .dataframe tbody tr th {\n",
       "        vertical-align: top;\n",
       "    }\n",
       "\n",
       "    .dataframe thead th {\n",
       "        text-align: right;\n",
       "    }\n",
       "</style>\n",
       "<table border=\"1\" class=\"dataframe\">\n",
       "  <thead>\n",
       "    <tr style=\"text-align: right;\">\n",
       "      <th></th>\n",
       "      <th>postcard_url</th>\n",
       "      <th>product_url</th>\n",
       "      <th>observation_id</th>\n",
       "      <th>ra_deg</th>\n",
       "      <th>dec_deg</th>\n",
       "      <th>target_name</th>\n",
       "      <th>instrument_name</th>\n",
       "      <th>collection</th>\n",
       "      <th>filter</th>\n",
       "      <th>start_time</th>\n",
       "      <th>exposure_duration</th>\n",
       "      <th>stc_s</th>\n",
       "      <th>end_time</th>\n",
       "      <th>observation_oid</th>\n",
       "    </tr>\n",
       "  </thead>\n",
       "  <tbody>\n",
       "    <tr>\n",
       "      <th>0</th>\n",
       "      <td>http://archives.esac.esa.int/ehst-sl-server/se...</td>\n",
       "      <td>http://archives.esac.esa.int/ehst-sl-server/se...</td>\n",
       "      <td>hst_07909_rb_wfpc2_f606w_pc</td>\n",
       "      <td>266.275245</td>\n",
       "      <td>-28.941184</td>\n",
       "      <td>ANY</td>\n",
       "      <td>WFPC2</td>\n",
       "      <td>HLA</td>\n",
       "      <td>F606W</td>\n",
       "      <td>1998-08-13 11:59:14.11</td>\n",
       "      <td>2200.0</td>\n",
       "      <td>POLYGON J2000 266.275620000000004 -28.94818200...</td>\n",
       "      <td>1998-08-13 12:38:14.11</td>\n",
       "      <td>hst_07909_rb_wfpc2_f606w_pc</td>\n",
       "    </tr>\n",
       "    <tr>\n",
       "      <th>1</th>\n",
       "      <td>http://archives.esac.esa.int/ehst-sl-server/se...</td>\n",
       "      <td>http://archives.esac.esa.int/ehst-sl-server/se...</td>\n",
       "      <td>hst_09676_x8_wfpc2_f606w_pc</td>\n",
       "      <td>266.275913</td>\n",
       "      <td>-28.944096</td>\n",
       "      <td>ANY</td>\n",
       "      <td>WFPC2</td>\n",
       "      <td>HLA</td>\n",
       "      <td>F606W</td>\n",
       "      <td>2003-03-13 20:26:17.25</td>\n",
       "      <td>1100.0</td>\n",
       "      <td>POLYGON J2000 266.27582799999999 -28.951051000...</td>\n",
       "      <td>2003-03-13 20:47:17.24</td>\n",
       "      <td>hst_09676_x8_wfpc2_f606w_pc</td>\n",
       "    </tr>\n",
       "    <tr>\n",
       "      <th>2</th>\n",
       "      <td>http://archives.esac.esa.int/ehst-sl-server/se...</td>\n",
       "      <td>http://archives.esac.esa.int/ehst-sl-server/se...</td>\n",
       "      <td>hst_09598_3a_wfpc2_f656n_pc</td>\n",
       "      <td>266.276156</td>\n",
       "      <td>-28.943571</td>\n",
       "      <td>EARTH-CALIB</td>\n",
       "      <td>WFPC2</td>\n",
       "      <td>HLA</td>\n",
       "      <td>F656N</td>\n",
       "      <td>2003-03-13 21:16:17.11</td>\n",
       "      <td>0.7</td>\n",
       "      <td>POLYGON J2000 266.267831000000001 -28.95085500...</td>\n",
       "      <td>2003-03-13 21:18:17.47</td>\n",
       "      <td>hst_09598_3a_wfpc2_f656n_pc</td>\n",
       "    </tr>\n",
       "    <tr>\n",
       "      <th>3</th>\n",
       "      <td>http://archives.esac.esa.int/ehst-sl-server/se...</td>\n",
       "      <td>http://archives.esac.esa.int/ehst-sl-server/se...</td>\n",
       "      <td>hst_09244_9m_wfpc2_f606w_pc</td>\n",
       "      <td>266.279368</td>\n",
       "      <td>-28.944208</td>\n",
       "      <td>ANY</td>\n",
       "      <td>WFPC2</td>\n",
       "      <td>HLA</td>\n",
       "      <td>F606W</td>\n",
       "      <td>2001-03-22 16:03:14.86</td>\n",
       "      <td>2500.0</td>\n",
       "      <td>POLYGON J2000 266.279143999999917 -28.95116100...</td>\n",
       "      <td>2001-03-22 16:47:14.86</td>\n",
       "      <td>hst_09244_9m_wfpc2_f606w_pc</td>\n",
       "    </tr>\n",
       "    <tr>\n",
       "      <th>4</th>\n",
       "      <td>http://archives.esac.esa.int/ehst-sl-server/se...</td>\n",
       "      <td>http://archives.esac.esa.int/ehst-sl-server/se...</td>\n",
       "      <td>hst_07909_rb_wfpc2_f606w_wf</td>\n",
       "      <td>266.265018</td>\n",
       "      <td>-28.941840</td>\n",
       "      <td>ANY</td>\n",
       "      <td>WFPC2</td>\n",
       "      <td>HLA</td>\n",
       "      <td>F606W</td>\n",
       "      <td>1998-08-13 11:59:14.11</td>\n",
       "      <td>2200.0</td>\n",
       "      <td>POLYGON J2000 266.269665999999972 -28.97094800...</td>\n",
       "      <td>1998-08-13 12:38:14.11</td>\n",
       "      <td>hst_07909_rb_wfpc2_f606w_wf</td>\n",
       "    </tr>\n",
       "  </tbody>\n",
       "</table>\n",
       "</div>"
      ],
      "text/plain": [
       "                                        postcard_url  \\\n",
       "0  http://archives.esac.esa.int/ehst-sl-server/se...   \n",
       "1  http://archives.esac.esa.int/ehst-sl-server/se...   \n",
       "2  http://archives.esac.esa.int/ehst-sl-server/se...   \n",
       "3  http://archives.esac.esa.int/ehst-sl-server/se...   \n",
       "4  http://archives.esac.esa.int/ehst-sl-server/se...   \n",
       "\n",
       "                                         product_url  \\\n",
       "0  http://archives.esac.esa.int/ehst-sl-server/se...   \n",
       "1  http://archives.esac.esa.int/ehst-sl-server/se...   \n",
       "2  http://archives.esac.esa.int/ehst-sl-server/se...   \n",
       "3  http://archives.esac.esa.int/ehst-sl-server/se...   \n",
       "4  http://archives.esac.esa.int/ehst-sl-server/se...   \n",
       "\n",
       "                observation_id      ra_deg    dec_deg  target_name  \\\n",
       "0  hst_07909_rb_wfpc2_f606w_pc  266.275245 -28.941184          ANY   \n",
       "1  hst_09676_x8_wfpc2_f606w_pc  266.275913 -28.944096          ANY   \n",
       "2  hst_09598_3a_wfpc2_f656n_pc  266.276156 -28.943571  EARTH-CALIB   \n",
       "3  hst_09244_9m_wfpc2_f606w_pc  266.279368 -28.944208          ANY   \n",
       "4  hst_07909_rb_wfpc2_f606w_wf  266.265018 -28.941840          ANY   \n",
       "\n",
       "  instrument_name collection filter              start_time  \\\n",
       "0           WFPC2        HLA  F606W  1998-08-13 11:59:14.11   \n",
       "1           WFPC2        HLA  F606W  2003-03-13 20:26:17.25   \n",
       "2           WFPC2        HLA  F656N  2003-03-13 21:16:17.11   \n",
       "3           WFPC2        HLA  F606W  2001-03-22 16:03:14.86   \n",
       "4           WFPC2        HLA  F606W  1998-08-13 11:59:14.11   \n",
       "\n",
       "   exposure_duration                                              stc_s  \\\n",
       "0             2200.0  POLYGON J2000 266.275620000000004 -28.94818200...   \n",
       "1             1100.0  POLYGON J2000 266.27582799999999 -28.951051000...   \n",
       "2                0.7  POLYGON J2000 266.267831000000001 -28.95085500...   \n",
       "3             2500.0  POLYGON J2000 266.279143999999917 -28.95116100...   \n",
       "4             2200.0  POLYGON J2000 266.269665999999972 -28.97094800...   \n",
       "\n",
       "                 end_time              observation_oid  \n",
       "0  1998-08-13 12:38:14.11  hst_07909_rb_wfpc2_f606w_pc  \n",
       "1  2003-03-13 20:47:17.24  hst_09676_x8_wfpc2_f606w_pc  \n",
       "2  2003-03-13 21:18:17.47  hst_09598_3a_wfpc2_f656n_pc  \n",
       "3  2001-03-22 16:47:14.86  hst_09244_9m_wfpc2_f606w_pc  \n",
       "4  1998-08-13 12:38:14.11  hst_07909_rb_wfpc2_f606w_wf  "
      ]
     },
     "execution_count": 5,
     "metadata": {},
     "output_type": "execute_result"
    }
   ],
   "source": [
    "result.head()"
   ]
  },
  {
   "cell_type": "markdown",
   "id": "96bc7e80",
   "metadata": {
    "papermill": {
     "duration": 0.036865,
     "end_time": "2022-04-29T20:38:20.996276",
     "exception": false,
     "start_time": "2022-04-29T20:38:20.959411",
     "status": "completed"
    },
    "tags": []
   },
   "source": [
    "# Dropping irrelevant columns and encoding categorical columns"
   ]
  },
  {
   "cell_type": "code",
   "execution_count": 6,
   "id": "476450bd",
   "metadata": {
    "execution": {
     "iopub.execute_input": "2022-04-29T20:38:21.075197Z",
     "iopub.status.busy": "2022-04-29T20:38:21.074448Z",
     "iopub.status.idle": "2022-04-29T20:38:21.089994Z",
     "shell.execute_reply": "2022-04-29T20:38:21.088991Z"
    },
    "papermill": {
     "duration": 0.058167,
     "end_time": "2022-04-29T20:38:21.093133",
     "exception": false,
     "start_time": "2022-04-29T20:38:21.034966",
     "status": "completed"
    },
    "tags": []
   },
   "outputs": [],
   "source": [
    "# We drop irrelavant columns \n",
    "result.drop(['product_url'],axis=1, inplace=True)\n",
    "result.drop(['postcard_url'], axis=1, inplace=True)\n",
    "result.drop(['observation_id'], axis=1, inplace=True)"
   ]
  },
  {
   "cell_type": "code",
   "execution_count": 7,
   "id": "7ae99efa",
   "metadata": {
    "execution": {
     "iopub.execute_input": "2022-04-29T20:38:21.169694Z",
     "iopub.status.busy": "2022-04-29T20:38:21.168606Z",
     "iopub.status.idle": "2022-04-29T20:38:21.187171Z",
     "shell.execute_reply": "2022-04-29T20:38:21.186328Z"
    },
    "papermill": {
     "duration": 0.059452,
     "end_time": "2022-04-29T20:38:21.189615",
     "exception": false,
     "start_time": "2022-04-29T20:38:21.130163",
     "status": "completed"
    },
    "tags": []
   },
   "outputs": [
    {
     "data": {
      "text/html": [
       "<div>\n",
       "<style scoped>\n",
       "    .dataframe tbody tr th:only-of-type {\n",
       "        vertical-align: middle;\n",
       "    }\n",
       "\n",
       "    .dataframe tbody tr th {\n",
       "        vertical-align: top;\n",
       "    }\n",
       "\n",
       "    .dataframe thead th {\n",
       "        text-align: right;\n",
       "    }\n",
       "</style>\n",
       "<table border=\"1\" class=\"dataframe\">\n",
       "  <thead>\n",
       "    <tr style=\"text-align: right;\">\n",
       "      <th></th>\n",
       "      <th>ra_deg</th>\n",
       "      <th>dec_deg</th>\n",
       "      <th>target_name</th>\n",
       "      <th>instrument_name</th>\n",
       "      <th>collection</th>\n",
       "      <th>filter</th>\n",
       "      <th>start_time</th>\n",
       "      <th>exposure_duration</th>\n",
       "      <th>stc_s</th>\n",
       "      <th>end_time</th>\n",
       "      <th>observation_oid</th>\n",
       "    </tr>\n",
       "  </thead>\n",
       "  <tbody>\n",
       "    <tr>\n",
       "      <th>0</th>\n",
       "      <td>266.275245</td>\n",
       "      <td>-28.941184</td>\n",
       "      <td>ANY</td>\n",
       "      <td>WFPC2</td>\n",
       "      <td>HLA</td>\n",
       "      <td>F606W</td>\n",
       "      <td>1998-08-13 11:59:14.11</td>\n",
       "      <td>2200.0</td>\n",
       "      <td>POLYGON J2000 266.275620000000004 -28.94818200...</td>\n",
       "      <td>1998-08-13 12:38:14.11</td>\n",
       "      <td>hst_07909_rb_wfpc2_f606w_pc</td>\n",
       "    </tr>\n",
       "    <tr>\n",
       "      <th>1</th>\n",
       "      <td>266.275913</td>\n",
       "      <td>-28.944096</td>\n",
       "      <td>ANY</td>\n",
       "      <td>WFPC2</td>\n",
       "      <td>HLA</td>\n",
       "      <td>F606W</td>\n",
       "      <td>2003-03-13 20:26:17.25</td>\n",
       "      <td>1100.0</td>\n",
       "      <td>POLYGON J2000 266.27582799999999 -28.951051000...</td>\n",
       "      <td>2003-03-13 20:47:17.24</td>\n",
       "      <td>hst_09676_x8_wfpc2_f606w_pc</td>\n",
       "    </tr>\n",
       "    <tr>\n",
       "      <th>2</th>\n",
       "      <td>266.276156</td>\n",
       "      <td>-28.943571</td>\n",
       "      <td>EARTH-CALIB</td>\n",
       "      <td>WFPC2</td>\n",
       "      <td>HLA</td>\n",
       "      <td>F656N</td>\n",
       "      <td>2003-03-13 21:16:17.11</td>\n",
       "      <td>0.7</td>\n",
       "      <td>POLYGON J2000 266.267831000000001 -28.95085500...</td>\n",
       "      <td>2003-03-13 21:18:17.47</td>\n",
       "      <td>hst_09598_3a_wfpc2_f656n_pc</td>\n",
       "    </tr>\n",
       "    <tr>\n",
       "      <th>3</th>\n",
       "      <td>266.279368</td>\n",
       "      <td>-28.944208</td>\n",
       "      <td>ANY</td>\n",
       "      <td>WFPC2</td>\n",
       "      <td>HLA</td>\n",
       "      <td>F606W</td>\n",
       "      <td>2001-03-22 16:03:14.86</td>\n",
       "      <td>2500.0</td>\n",
       "      <td>POLYGON J2000 266.279143999999917 -28.95116100...</td>\n",
       "      <td>2001-03-22 16:47:14.86</td>\n",
       "      <td>hst_09244_9m_wfpc2_f606w_pc</td>\n",
       "    </tr>\n",
       "    <tr>\n",
       "      <th>4</th>\n",
       "      <td>266.265018</td>\n",
       "      <td>-28.941840</td>\n",
       "      <td>ANY</td>\n",
       "      <td>WFPC2</td>\n",
       "      <td>HLA</td>\n",
       "      <td>F606W</td>\n",
       "      <td>1998-08-13 11:59:14.11</td>\n",
       "      <td>2200.0</td>\n",
       "      <td>POLYGON J2000 266.269665999999972 -28.97094800...</td>\n",
       "      <td>1998-08-13 12:38:14.11</td>\n",
       "      <td>hst_07909_rb_wfpc2_f606w_wf</td>\n",
       "    </tr>\n",
       "  </tbody>\n",
       "</table>\n",
       "</div>"
      ],
      "text/plain": [
       "       ra_deg    dec_deg  target_name instrument_name collection filter  \\\n",
       "0  266.275245 -28.941184          ANY           WFPC2        HLA  F606W   \n",
       "1  266.275913 -28.944096          ANY           WFPC2        HLA  F606W   \n",
       "2  266.276156 -28.943571  EARTH-CALIB           WFPC2        HLA  F656N   \n",
       "3  266.279368 -28.944208          ANY           WFPC2        HLA  F606W   \n",
       "4  266.265018 -28.941840          ANY           WFPC2        HLA  F606W   \n",
       "\n",
       "               start_time  exposure_duration  \\\n",
       "0  1998-08-13 11:59:14.11             2200.0   \n",
       "1  2003-03-13 20:26:17.25             1100.0   \n",
       "2  2003-03-13 21:16:17.11                0.7   \n",
       "3  2001-03-22 16:03:14.86             2500.0   \n",
       "4  1998-08-13 11:59:14.11             2200.0   \n",
       "\n",
       "                                               stc_s                end_time  \\\n",
       "0  POLYGON J2000 266.275620000000004 -28.94818200...  1998-08-13 12:38:14.11   \n",
       "1  POLYGON J2000 266.27582799999999 -28.951051000...  2003-03-13 20:47:17.24   \n",
       "2  POLYGON J2000 266.267831000000001 -28.95085500...  2003-03-13 21:18:17.47   \n",
       "3  POLYGON J2000 266.279143999999917 -28.95116100...  2001-03-22 16:47:14.86   \n",
       "4  POLYGON J2000 266.269665999999972 -28.97094800...  1998-08-13 12:38:14.11   \n",
       "\n",
       "               observation_oid  \n",
       "0  hst_07909_rb_wfpc2_f606w_pc  \n",
       "1  hst_09676_x8_wfpc2_f606w_pc  \n",
       "2  hst_09598_3a_wfpc2_f656n_pc  \n",
       "3  hst_09244_9m_wfpc2_f606w_pc  \n",
       "4  hst_07909_rb_wfpc2_f606w_wf  "
      ]
     },
     "execution_count": 7,
     "metadata": {},
     "output_type": "execute_result"
    }
   ],
   "source": [
    "result.head()"
   ]
  },
  {
   "cell_type": "code",
   "execution_count": 8,
   "id": "a37d66a0",
   "metadata": {
    "execution": {
     "iopub.execute_input": "2022-04-29T20:38:21.269548Z",
     "iopub.status.busy": "2022-04-29T20:38:21.268779Z",
     "iopub.status.idle": "2022-04-29T20:38:22.577721Z",
     "shell.execute_reply": "2022-04-29T20:38:22.576570Z"
    },
    "papermill": {
     "duration": 1.353451,
     "end_time": "2022-04-29T20:38:22.580504",
     "exception": false,
     "start_time": "2022-04-29T20:38:21.227053",
     "status": "completed"
    },
    "tags": []
   },
   "outputs": [],
   "source": [
    "# we use label encoding\n",
    "\n",
    "# Import label encoder\n",
    "from sklearn import preprocessing\n",
    " \n",
    "# label_encoder object knows how to understand word labels.\n",
    "label_encoder = preprocessing.LabelEncoder()\n",
    " \n",
    "# Encode labels in column instrument_name\tcollection\tfilter\t.\n",
    "result['target_name']= label_encoder.fit_transform(result['target_name'])\n",
    "result['instrument_name']= label_encoder.fit_transform(result['instrument_name'])\n",
    "result['collection']= label_encoder.fit_transform(result['collection'])\n",
    "result['filter']= label_encoder.fit_transform(result['filter'])\n",
    "result['observation_oid']= label_encoder.fit_transform(result['observation_oid'])\n",
    "result['stc_s']= label_encoder.fit_transform(result['stc_s'])"
   ]
  },
  {
   "cell_type": "markdown",
   "id": "cc7fd9a6",
   "metadata": {
    "papermill": {
     "duration": 0.038639,
     "end_time": "2022-04-29T20:38:22.656850",
     "exception": false,
     "start_time": "2022-04-29T20:38:22.618211",
     "status": "completed"
    },
    "tags": []
   },
   "source": [
    "# Checking time difference between space event start and end date and the avarage time difference "
   ]
  },
  {
   "cell_type": "code",
   "execution_count": 9,
   "id": "479a92ed",
   "metadata": {
    "execution": {
     "iopub.execute_input": "2022-04-29T20:38:22.737026Z",
     "iopub.status.busy": "2022-04-29T20:38:22.736293Z",
     "iopub.status.idle": "2022-04-29T20:38:22.746047Z",
     "shell.execute_reply": "2022-04-29T20:38:22.745258Z"
    },
    "papermill": {
     "duration": 0.053715,
     "end_time": "2022-04-29T20:38:22.748704",
     "exception": false,
     "start_time": "2022-04-29T20:38:22.694989",
     "status": "completed"
    },
    "tags": []
   },
   "outputs": [],
   "source": [
    "result['start_time'] = pd.to_datetime(result['start_time'])\n",
    "result['end_time'] = pd.to_datetime(result['end_time'])"
   ]
  },
  {
   "cell_type": "code",
   "execution_count": 10,
   "id": "be2f3004",
   "metadata": {
    "execution": {
     "iopub.execute_input": "2022-04-29T20:38:22.827932Z",
     "iopub.status.busy": "2022-04-29T20:38:22.827180Z",
     "iopub.status.idle": "2022-04-29T20:38:22.837417Z",
     "shell.execute_reply": "2022-04-29T20:38:22.836275Z"
    },
    "papermill": {
     "duration": 0.052922,
     "end_time": "2022-04-29T20:38:22.839816",
     "exception": false,
     "start_time": "2022-04-29T20:38:22.786894",
     "status": "completed"
    },
    "tags": []
   },
   "outputs": [
    {
     "data": {
      "text/plain": [
       "-0.2615118464052288"
      ]
     },
     "execution_count": 10,
     "metadata": {},
     "output_type": "execute_result"
    }
   ],
   "source": [
    "# we now calculate the average difference between Order_Purchased and Recieved_by_customer\n",
    "timediff = result['start_time'] - result['end_time']\n",
    "timediff.apply(lambda x: (x.total_seconds())/3600).mean()"
   ]
  },
  {
   "cell_type": "code",
   "execution_count": 11,
   "id": "3bb22789",
   "metadata": {
    "execution": {
     "iopub.execute_input": "2022-04-29T20:38:22.918685Z",
     "iopub.status.busy": "2022-04-29T20:38:22.918014Z",
     "iopub.status.idle": "2022-04-29T20:38:22.924587Z",
     "shell.execute_reply": "2022-04-29T20:38:22.923724Z"
    },
    "papermill": {
     "duration": 0.049569,
     "end_time": "2022-04-29T20:38:22.926909",
     "exception": false,
     "start_time": "2022-04-29T20:38:22.877340",
     "status": "completed"
    },
    "tags": []
   },
   "outputs": [],
   "source": [
    "result['time_diff'] = timediff.apply(lambda x: (x.total_seconds())/3600)"
   ]
  },
  {
   "cell_type": "code",
   "execution_count": 12,
   "id": "cbbae05b",
   "metadata": {
    "execution": {
     "iopub.execute_input": "2022-04-29T20:38:23.005014Z",
     "iopub.status.busy": "2022-04-29T20:38:23.004278Z",
     "iopub.status.idle": "2022-04-29T20:38:23.024037Z",
     "shell.execute_reply": "2022-04-29T20:38:23.022951Z"
    },
    "papermill": {
     "duration": 0.062351,
     "end_time": "2022-04-29T20:38:23.026881",
     "exception": false,
     "start_time": "2022-04-29T20:38:22.964530",
     "status": "completed"
    },
    "tags": []
   },
   "outputs": [
    {
     "data": {
      "text/html": [
       "<div>\n",
       "<style scoped>\n",
       "    .dataframe tbody tr th:only-of-type {\n",
       "        vertical-align: middle;\n",
       "    }\n",
       "\n",
       "    .dataframe tbody tr th {\n",
       "        vertical-align: top;\n",
       "    }\n",
       "\n",
       "    .dataframe thead th {\n",
       "        text-align: right;\n",
       "    }\n",
       "</style>\n",
       "<table border=\"1\" class=\"dataframe\">\n",
       "  <thead>\n",
       "    <tr style=\"text-align: right;\">\n",
       "      <th></th>\n",
       "      <th>ra_deg</th>\n",
       "      <th>dec_deg</th>\n",
       "      <th>target_name</th>\n",
       "      <th>instrument_name</th>\n",
       "      <th>collection</th>\n",
       "      <th>filter</th>\n",
       "      <th>start_time</th>\n",
       "      <th>exposure_duration</th>\n",
       "      <th>stc_s</th>\n",
       "      <th>end_time</th>\n",
       "      <th>observation_oid</th>\n",
       "      <th>time_diff</th>\n",
       "    </tr>\n",
       "  </thead>\n",
       "  <tbody>\n",
       "    <tr>\n",
       "      <th>0</th>\n",
       "      <td>266.275245</td>\n",
       "      <td>-28.941184</td>\n",
       "      <td>0</td>\n",
       "      <td>4</td>\n",
       "      <td>0</td>\n",
       "      <td>6</td>\n",
       "      <td>1998-08-13 11:59:14.110</td>\n",
       "      <td>2200.0</td>\n",
       "      <td>20</td>\n",
       "      <td>1998-08-13 12:38:14.110</td>\n",
       "      <td>2</td>\n",
       "      <td>-0.650000</td>\n",
       "    </tr>\n",
       "    <tr>\n",
       "      <th>1</th>\n",
       "      <td>266.275913</td>\n",
       "      <td>-28.944096</td>\n",
       "      <td>0</td>\n",
       "      <td>4</td>\n",
       "      <td>0</td>\n",
       "      <td>6</td>\n",
       "      <td>2003-03-13 20:26:17.250</td>\n",
       "      <td>1100.0</td>\n",
       "      <td>21</td>\n",
       "      <td>2003-03-13 20:47:17.240</td>\n",
       "      <td>7</td>\n",
       "      <td>-0.349997</td>\n",
       "    </tr>\n",
       "    <tr>\n",
       "      <th>2</th>\n",
       "      <td>266.276156</td>\n",
       "      <td>-28.943571</td>\n",
       "      <td>1</td>\n",
       "      <td>4</td>\n",
       "      <td>0</td>\n",
       "      <td>7</td>\n",
       "      <td>2003-03-13 21:16:17.110</td>\n",
       "      <td>0.7</td>\n",
       "      <td>18</td>\n",
       "      <td>2003-03-13 21:18:17.470</td>\n",
       "      <td>6</td>\n",
       "      <td>-0.033433</td>\n",
       "    </tr>\n",
       "    <tr>\n",
       "      <th>3</th>\n",
       "      <td>266.279368</td>\n",
       "      <td>-28.944208</td>\n",
       "      <td>0</td>\n",
       "      <td>4</td>\n",
       "      <td>0</td>\n",
       "      <td>6</td>\n",
       "      <td>2001-03-22 16:03:14.860</td>\n",
       "      <td>2500.0</td>\n",
       "      <td>22</td>\n",
       "      <td>2001-03-22 16:47:14.860</td>\n",
       "      <td>5</td>\n",
       "      <td>-0.733333</td>\n",
       "    </tr>\n",
       "    <tr>\n",
       "      <th>4</th>\n",
       "      <td>266.265018</td>\n",
       "      <td>-28.941840</td>\n",
       "      <td>0</td>\n",
       "      <td>4</td>\n",
       "      <td>0</td>\n",
       "      <td>6</td>\n",
       "      <td>1998-08-13 11:59:14.110</td>\n",
       "      <td>2200.0</td>\n",
       "      <td>19</td>\n",
       "      <td>1998-08-13 12:38:14.110</td>\n",
       "      <td>3</td>\n",
       "      <td>-0.650000</td>\n",
       "    </tr>\n",
       "  </tbody>\n",
       "</table>\n",
       "</div>"
      ],
      "text/plain": [
       "       ra_deg    dec_deg  target_name  instrument_name  collection  filter  \\\n",
       "0  266.275245 -28.941184            0                4           0       6   \n",
       "1  266.275913 -28.944096            0                4           0       6   \n",
       "2  266.276156 -28.943571            1                4           0       7   \n",
       "3  266.279368 -28.944208            0                4           0       6   \n",
       "4  266.265018 -28.941840            0                4           0       6   \n",
       "\n",
       "               start_time  exposure_duration  stc_s                end_time  \\\n",
       "0 1998-08-13 11:59:14.110             2200.0     20 1998-08-13 12:38:14.110   \n",
       "1 2003-03-13 20:26:17.250             1100.0     21 2003-03-13 20:47:17.240   \n",
       "2 2003-03-13 21:16:17.110                0.7     18 2003-03-13 21:18:17.470   \n",
       "3 2001-03-22 16:03:14.860             2500.0     22 2001-03-22 16:47:14.860   \n",
       "4 1998-08-13 11:59:14.110             2200.0     19 1998-08-13 12:38:14.110   \n",
       "\n",
       "   observation_oid  time_diff  \n",
       "0                2  -0.650000  \n",
       "1                7  -0.349997  \n",
       "2                6  -0.033433  \n",
       "3                5  -0.733333  \n",
       "4                3  -0.650000  "
      ]
     },
     "execution_count": 12,
     "metadata": {},
     "output_type": "execute_result"
    }
   ],
   "source": [
    "# checking summry of data after transformations\n",
    "result.head()"
   ]
  },
  {
   "cell_type": "markdown",
   "id": "5be0222f",
   "metadata": {
    "papermill": {
     "duration": 0.038297,
     "end_time": "2022-04-29T20:38:23.104431",
     "exception": false,
     "start_time": "2022-04-29T20:38:23.066134",
     "status": "completed"
    },
    "tags": []
   },
   "source": [
    "# EDA"
   ]
  },
  {
   "cell_type": "code",
   "execution_count": 13,
   "id": "ddc625f7",
   "metadata": {
    "execution": {
     "iopub.execute_input": "2022-04-29T20:38:23.182798Z",
     "iopub.status.busy": "2022-04-29T20:38:23.182359Z",
     "iopub.status.idle": "2022-04-29T20:38:23.387226Z",
     "shell.execute_reply": "2022-04-29T20:38:23.386173Z"
    },
    "papermill": {
     "duration": 0.247799,
     "end_time": "2022-04-29T20:38:23.390232",
     "exception": false,
     "start_time": "2022-04-29T20:38:23.142433",
     "status": "completed"
    },
    "tags": []
   },
   "outputs": [
    {
     "data": {
      "image/png": "[encoded data removed]",
      "text/plain": [
       "<Figure size 432x288 with 1 Axes>"
      ]
     },
     "metadata": {
      "needs_background": "light"
     },
     "output_type": "display_data"
    }
   ],
   "source": [
    "from matplotlib import pyplot as plt\n",
    "x = result['dec_deg']\n",
    "y = result['time_diff']\n",
    "plt.xlabel(\"dec_deg\")\n",
    "plt.ylabel(\"time_diff\")\n",
    "plt.plot(x,y)\n",
    "plt.show();"
   ]
  },
  {
   "cell_type": "markdown",
   "id": "1cfcc85a",
   "metadata": {
    "papermill": {
     "duration": 0.039732,
     "end_time": "2022-04-29T20:38:23.470553",
     "exception": false,
     "start_time": "2022-04-29T20:38:23.430821",
     "status": "completed"
    },
    "tags": []
   },
   "source": [
    "Most observed Aestroids near to earth have almost no time difference in observation showing we havent been able to spot them near enough in time due to limited observatories globally"
   ]
  },
  {
   "cell_type": "code",
   "execution_count": 14,
   "id": "1ab279b6",
   "metadata": {
    "execution": {
     "iopub.execute_input": "2022-04-29T20:38:23.552272Z",
     "iopub.status.busy": "2022-04-29T20:38:23.551578Z",
     "iopub.status.idle": "2022-04-29T20:38:24.050348Z",
     "shell.execute_reply": "2022-04-29T20:38:24.049294Z"
    },
    "papermill": {
     "duration": 0.543015,
     "end_time": "2022-04-29T20:38:24.053129",
     "exception": false,
     "start_time": "2022-04-29T20:38:23.510114",
     "status": "completed"
    },
    "tags": []
   },
   "outputs": [
    {
     "data": {
      "image/png": "[encoded data removed]",
      "text/plain": [
       "<Figure size 432x288 with 1 Axes>"
      ]
     },
     "metadata": {
      "needs_background": "light"
     },
     "output_type": "display_data"
    }
   ],
   "source": [
    "# USING BARPLOT WITH SEABORN LIBRARY,it also shows errors calulcated throughits error bars here \n",
    "import seaborn as sns\n",
    "ax = sns.barplot(x = 'collection', y = 'filter', errcolor='w', capsize=0.2, data=result);"
   ]
  },
  {
   "cell_type": "markdown",
   "id": "ddb8e646",
   "metadata": {
    "papermill": {
     "duration": 0.039907,
     "end_time": "2022-04-29T20:38:24.134106",
     "exception": false,
     "start_time": "2022-04-29T20:38:24.094199",
     "status": "completed"
    },
    "tags": []
   },
   "source": [
    "Most filters lie in the collection - 1, Implying most observations(1) were done due to using increasing filters on advanced telescopy"
   ]
  },
  {
   "cell_type": "markdown",
   "id": "91e7dd6a",
   "metadata": {
    "papermill": {
     "duration": 0.039811,
     "end_time": "2022-04-29T20:38:24.213954",
     "exception": false,
     "start_time": "2022-04-29T20:38:24.174143",
     "status": "completed"
    },
    "tags": []
   },
   "source": [
    "# Model Building - nueral network regression"
   ]
  },
  {
   "cell_type": "code",
   "execution_count": 15,
   "id": "a48435d8",
   "metadata": {
    "execution": {
     "iopub.execute_input": "2022-04-29T20:38:24.297603Z",
     "iopub.status.busy": "2022-04-29T20:38:24.296563Z",
     "iopub.status.idle": "2022-04-29T20:38:24.306579Z",
     "shell.execute_reply": "2022-04-29T20:38:24.305738Z"
    },
    "papermill": {
     "duration": 0.055005,
     "end_time": "2022-04-29T20:38:24.309292",
     "exception": false,
     "start_time": "2022-04-29T20:38:24.254287",
     "status": "completed"
    },
    "tags": []
   },
   "outputs": [],
   "source": [
    "# we drop the start and end time as we now have the time difference \n",
    "result.drop(['end_time'],axis=1, inplace=True)\n",
    "result.drop(['start_time'], axis=1, inplace=True)"
   ]
  },
  {
   "cell_type": "code",
   "execution_count": 16,
   "id": "2a763213",
   "metadata": {
    "execution": {
     "iopub.execute_input": "2022-04-29T20:38:24.393262Z",
     "iopub.status.busy": "2022-04-29T20:38:24.392303Z",
     "iopub.status.idle": "2022-04-29T20:38:24.438378Z",
     "shell.execute_reply": "2022-04-29T20:38:24.437372Z"
    },
    "papermill": {
     "duration": 0.091602,
     "end_time": "2022-04-29T20:38:24.440856",
     "exception": false,
     "start_time": "2022-04-29T20:38:24.349254",
     "status": "completed"
    },
    "tags": []
   },
   "outputs": [
    {
     "data": {
      "text/html": [
       "<div>\n",
       "<style scoped>\n",
       "    .dataframe tbody tr th:only-of-type {\n",
       "        vertical-align: middle;\n",
       "    }\n",
       "\n",
       "    .dataframe tbody tr th {\n",
       "        vertical-align: top;\n",
       "    }\n",
       "\n",
       "    .dataframe thead th {\n",
       "        text-align: right;\n",
       "    }\n",
       "</style>\n",
       "<table border=\"1\" class=\"dataframe\">\n",
       "  <thead>\n",
       "    <tr style=\"text-align: right;\">\n",
       "      <th></th>\n",
       "      <th>ra_deg</th>\n",
       "      <th>dec_deg</th>\n",
       "      <th>target_name</th>\n",
       "      <th>instrument_name</th>\n",
       "      <th>collection</th>\n",
       "      <th>filter</th>\n",
       "      <th>exposure_duration</th>\n",
       "      <th>stc_s</th>\n",
       "      <th>observation_oid</th>\n",
       "      <th>time_diff</th>\n",
       "    </tr>\n",
       "  </thead>\n",
       "  <tbody>\n",
       "    <tr>\n",
       "      <th>count</th>\n",
       "      <td>34.000000</td>\n",
       "      <td>34.000000</td>\n",
       "      <td>34.000000</td>\n",
       "      <td>34.000000</td>\n",
       "      <td>34.000000</td>\n",
       "      <td>34.000000</td>\n",
       "      <td>34.000000</td>\n",
       "      <td>34.000000</td>\n",
       "      <td>34.000000</td>\n",
       "      <td>34.000000</td>\n",
       "    </tr>\n",
       "    <tr>\n",
       "      <th>mean</th>\n",
       "      <td>227.995765</td>\n",
       "      <td>3.725337</td>\n",
       "      <td>3.941176</td>\n",
       "      <td>3.147059</td>\n",
       "      <td>0.705882</td>\n",
       "      <td>6.264706</td>\n",
       "      <td>603.046246</td>\n",
       "      <td>14.617647</td>\n",
       "      <td>13.970588</td>\n",
       "      <td>-0.261512</td>\n",
       "    </tr>\n",
       "    <tr>\n",
       "      <th>std</th>\n",
       "      <td>36.087596</td>\n",
       "      <td>40.702111</td>\n",
       "      <td>2.984213</td>\n",
       "      <td>1.438272</td>\n",
       "      <td>0.462497</td>\n",
       "      <td>3.008159</td>\n",
       "      <td>1060.543208</td>\n",
       "      <td>8.000056</td>\n",
       "      <td>7.469069</td>\n",
       "      <td>0.468904</td>\n",
       "    </tr>\n",
       "    <tr>\n",
       "      <th>min</th>\n",
       "      <td>189.995831</td>\n",
       "      <td>-43.039392</td>\n",
       "      <td>0.000000</td>\n",
       "      <td>0.000000</td>\n",
       "      <td>0.000000</td>\n",
       "      <td>0.000000</td>\n",
       "      <td>0.700000</td>\n",
       "      <td>0.000000</td>\n",
       "      <td>0.000000</td>\n",
       "      <td>-2.333333</td>\n",
       "    </tr>\n",
       "    <tr>\n",
       "      <th>25%</th>\n",
       "      <td>201.351845</td>\n",
       "      <td>-28.943965</td>\n",
       "      <td>2.000000</td>\n",
       "      <td>3.000000</td>\n",
       "      <td>0.000000</td>\n",
       "      <td>4.250000</td>\n",
       "      <td>2.700000</td>\n",
       "      <td>8.250000</td>\n",
       "      <td>8.250000</td>\n",
       "      <td>-0.311381</td>\n",
       "    </tr>\n",
       "    <tr>\n",
       "      <th>50%</th>\n",
       "      <td>214.498203</td>\n",
       "      <td>-11.623016</td>\n",
       "      <td>3.000000</td>\n",
       "      <td>3.000000</td>\n",
       "      <td>1.000000</td>\n",
       "      <td>6.500000</td>\n",
       "      <td>55.000000</td>\n",
       "      <td>15.500000</td>\n",
       "      <td>15.000000</td>\n",
       "      <td>-0.049947</td>\n",
       "    </tr>\n",
       "    <tr>\n",
       "      <th>75%</th>\n",
       "      <td>266.278565</td>\n",
       "      <td>25.136791</td>\n",
       "      <td>5.750000</td>\n",
       "      <td>4.000000</td>\n",
       "      <td>1.000000</td>\n",
       "      <td>9.000000</td>\n",
       "      <td>669.500000</td>\n",
       "      <td>21.750000</td>\n",
       "      <td>19.000000</td>\n",
       "      <td>-0.049494</td>\n",
       "    </tr>\n",
       "    <tr>\n",
       "      <th>max</th>\n",
       "      <td>275.488488</td>\n",
       "      <td>64.343397</td>\n",
       "      <td>9.000000</td>\n",
       "      <td>6.000000</td>\n",
       "      <td>1.000000</td>\n",
       "      <td>9.000000</td>\n",
       "      <td>5000.000000</td>\n",
       "      <td>26.000000</td>\n",
       "      <td>26.000000</td>\n",
       "      <td>-0.002778</td>\n",
       "    </tr>\n",
       "  </tbody>\n",
       "</table>\n",
       "</div>"
      ],
      "text/plain": [
       "           ra_deg    dec_deg  target_name  instrument_name  collection  \\\n",
       "count   34.000000  34.000000    34.000000        34.000000   34.000000   \n",
       "mean   227.995765   3.725337     3.941176         3.147059    0.705882   \n",
       "std     36.087596  40.702111     2.984213         1.438272    0.462497   \n",
       "min    189.995831 -43.039392     0.000000         0.000000    0.000000   \n",
       "25%    201.351845 -28.943965     2.000000         3.000000    0.000000   \n",
       "50%    214.498203 -11.623016     3.000000         3.000000    1.000000   \n",
       "75%    266.278565  25.136791     5.750000         4.000000    1.000000   \n",
       "max    275.488488  64.343397     9.000000         6.000000    1.000000   \n",
       "\n",
       "          filter  exposure_duration      stc_s  observation_oid  time_diff  \n",
       "count  34.000000          34.000000  34.000000        34.000000  34.000000  \n",
       "mean    6.264706         603.046246  14.617647        13.970588  -0.261512  \n",
       "std     3.008159        1060.543208   8.000056         7.469069   0.468904  \n",
       "min     0.000000           0.700000   0.000000         0.000000  -2.333333  \n",
       "25%     4.250000           2.700000   8.250000         8.250000  -0.311381  \n",
       "50%     6.500000          55.000000  15.500000        15.000000  -0.049947  \n",
       "75%     9.000000         669.500000  21.750000        19.000000  -0.049494  \n",
       "max     9.000000        5000.000000  26.000000        26.000000  -0.002778  "
      ]
     },
     "execution_count": 16,
     "metadata": {},
     "output_type": "execute_result"
    }
   ],
   "source": [
    "# we check the statistical summary\n",
    "result.describe()"
   ]
  },
  {
   "cell_type": "code",
   "execution_count": 17,
   "id": "6df0c90c",
   "metadata": {
    "execution": {
     "iopub.execute_input": "2022-04-29T20:38:24.524427Z",
     "iopub.status.busy": "2022-04-29T20:38:24.524035Z",
     "iopub.status.idle": "2022-04-29T20:38:24.933501Z",
     "shell.execute_reply": "2022-04-29T20:38:24.932113Z"
    },
    "papermill": {
     "duration": 0.454627,
     "end_time": "2022-04-29T20:38:24.936254",
     "exception": false,
     "start_time": "2022-04-29T20:38:24.481627",
     "status": "completed"
    },
    "tags": []
   },
   "outputs": [
    {
     "data": {
      "text/plain": [
       "<AxesSubplot:>"
      ]
     },
     "execution_count": 17,
     "metadata": {},
     "output_type": "execute_result"
    },
    {
     "data": {
      "image/png": "[encoded data removed]",
      "text/plain": [
       "<Figure size 432x288 with 2 Axes>"
      ]
     },
     "metadata": {
      "needs_background": "light"
     },
     "output_type": "display_data"
    }
   ],
   "source": [
    "sns.heatmap(result.corr())"
   ]
  },
  {
   "cell_type": "markdown",
   "id": "4c799dc7",
   "metadata": {
    "papermill": {
     "duration": 0.042736,
     "end_time": "2022-04-29T20:38:25.021271",
     "exception": false,
     "start_time": "2022-04-29T20:38:24.978535",
     "status": "completed"
    },
    "tags": []
   },
   "source": [
    "we can see that correlations between variables are relatively strong in crossing 0.25 on average "
   ]
  },
  {
   "cell_type": "code",
   "execution_count": 18,
   "id": "7f02c460",
   "metadata": {
    "execution": {
     "iopub.execute_input": "2022-04-29T20:38:25.107246Z",
     "iopub.status.busy": "2022-04-29T20:38:25.106901Z",
     "iopub.status.idle": "2022-04-29T20:38:32.704231Z",
     "shell.execute_reply": "2022-04-29T20:38:32.702951Z"
    },
    "papermill": {
     "duration": 7.644312,
     "end_time": "2022-04-29T20:38:32.707449",
     "exception": false,
     "start_time": "2022-04-29T20:38:25.063137",
     "status": "completed"
    },
    "tags": []
   },
   "outputs": [],
   "source": [
    "import numpy as np\n",
    "import matplotlib.pyplot as plt\n",
    "import pandas as pd\n",
    "from pandas import read_csv\n",
    "import math\n",
    "from keras.models import Sequential\n",
    "from keras.layers import Dense\n",
    "from keras.layers import LSTM\n",
    "from sklearn.preprocessing import MinMaxScaler\n",
    "from sklearn.metrics import mean_squared_error\n",
    "from keras.layers.core import Dense, Activation, Dropout\n",
    "from tensorflow.keras.optimizers import SGD\n",
    "import time #helper libraries"
   ]
  },
  {
   "cell_type": "code",
   "execution_count": 19,
   "id": "03fd4587",
   "metadata": {
    "execution": {
     "iopub.execute_input": "2022-04-29T20:38:32.797507Z",
     "iopub.status.busy": "2022-04-29T20:38:32.796529Z",
     "iopub.status.idle": "2022-04-29T20:38:32.825086Z",
     "shell.execute_reply": "2022-04-29T20:38:32.824088Z"
    },
    "papermill": {
     "duration": 0.076781,
     "end_time": "2022-04-29T20:38:32.828230",
     "exception": false,
     "start_time": "2022-04-29T20:38:32.751449",
     "status": "completed"
    },
    "tags": []
   },
   "outputs": [],
   "source": [
    "import math\n",
    "import pandas as pd\n",
    "import tensorflow as tf\n",
    "import matplotlib.pyplot as plt\n",
    "from tensorflow.keras import Model\n",
    "from tensorflow.keras import Sequential\n",
    "from tensorflow.keras.optimizers import Adam\n",
    "from sklearn.preprocessing import StandardScaler\n",
    "from tensorflow.keras.layers import Dense, Dropout\n",
    "from sklearn.model_selection import train_test_split\n",
    "from tensorflow.keras.losses import MeanSquaredLogarithmicError"
   ]
  },
  {
   "cell_type": "code",
   "execution_count": 20,
   "id": "fb09331c",
   "metadata": {
    "execution": {
     "iopub.execute_input": "2022-04-29T20:38:32.922000Z",
     "iopub.status.busy": "2022-04-29T20:38:32.921238Z",
     "iopub.status.idle": "2022-04-29T20:38:32.930333Z",
     "shell.execute_reply": "2022-04-29T20:38:32.929430Z"
    },
    "papermill": {
     "duration": 0.059797,
     "end_time": "2022-04-29T20:38:32.933146",
     "exception": false,
     "start_time": "2022-04-29T20:38:32.873349",
     "status": "completed"
    },
    "tags": []
   },
   "outputs": [],
   "source": [
    "\n",
    "from sklearn.model_selection import train_test_split\n",
    "# create dataset\n",
    "X =  result['target_name']\n",
    "y = result.drop(['target_name'], axis=1)\n",
    "# split into train test sets\n",
    "X_train, X_test, y_train, y_test = train_test_split(X, y, test_size=0.20)"
   ]
  },
  {
   "cell_type": "code",
   "execution_count": 21,
   "id": "b892e02f",
   "metadata": {
    "execution": {
     "iopub.execute_input": "2022-04-29T20:38:33.028650Z",
     "iopub.status.busy": "2022-04-29T20:38:33.028048Z",
     "iopub.status.idle": "2022-04-29T20:38:33.035016Z",
     "shell.execute_reply": "2022-04-29T20:38:33.034224Z"
    },
    "papermill": {
     "duration": 0.058435,
     "end_time": "2022-04-29T20:38:33.037863",
     "exception": false,
     "start_time": "2022-04-29T20:38:32.979428",
     "status": "completed"
    },
    "tags": []
   },
   "outputs": [],
   "source": [
    "def scale_datasets(x_train, x_test):\n",
    "    \n",
    "    standard_scaler = StandardScaler()\n",
    "    x_train_scaled = pd.DataFrame(\n",
    "      standard_scaler.fit_transform(x_train),\n",
    "      columns=x_train.columns\n",
    "  )\n",
    "    x_test_scaled = pd.DataFrame(\n",
    "      standard_scaler.transform(x_test),\n",
    "      columns = x_test.columns\n",
    "  )\n",
    "    return x_train_scaled, x_test_scaled"
   ]
  },
  {
   "cell_type": "code",
   "execution_count": 22,
   "id": "a4ebdfdc",
   "metadata": {
    "execution": {
     "iopub.execute_input": "2022-04-29T20:38:33.133289Z",
     "iopub.status.busy": "2022-04-29T20:38:33.132540Z",
     "iopub.status.idle": "2022-04-29T20:38:33.220997Z",
     "shell.execute_reply": "2022-04-29T20:38:33.220219Z"
    },
    "papermill": {
     "duration": 0.139769,
     "end_time": "2022-04-29T20:38:33.224061",
     "exception": false,
     "start_time": "2022-04-29T20:38:33.084292",
     "status": "completed"
    },
    "tags": []
   },
   "outputs": [
    {
     "name": "stderr",
     "output_type": "stream",
     "text": [
      "2022-04-29 20:38:33.195627: I tensorflow/core/common_runtime/process_util.cc:146] Creating new thread pool with default inter op setting: 2. Tune using inter_op_parallelism_threads for best performance.\n"
     ]
    }
   ],
   "source": [
    "hidden_units1 = 160\n",
    "hidden_units2 = 480\n",
    "hidden_units3 = 256\n",
    "learning_rate = 0.01\n",
    "# Creating model using the Sequential in tensorflow\n",
    "def build_model_using_sequential():\n",
    "  model = Sequential([\n",
    "    Dense(hidden_units1, kernel_initializer='normal', activation='relu'),\n",
    "    Dropout(0.2),\n",
    "    Dense(hidden_units2, kernel_initializer='normal', activation='relu'),\n",
    "    Dropout(0.2),\n",
    "    Dense(hidden_units3, kernel_initializer='normal', activation='relu'),\n",
    "    Dense(1, kernel_initializer='normal', activation='linear')\n",
    "  ])\n",
    "  return model\n",
    "# build the model\n",
    "model = build_model_using_sequential()"
   ]
  },
  {
   "cell_type": "code",
   "execution_count": 23,
   "id": "11df3022",
   "metadata": {
    "execution": {
     "iopub.execute_input": "2022-04-29T20:38:33.320273Z",
     "iopub.status.busy": "2022-04-29T20:38:33.318976Z",
     "iopub.status.idle": "2022-04-29T20:38:35.337532Z",
     "shell.execute_reply": "2022-04-29T20:38:35.336300Z"
    },
    "papermill": {
     "duration": 2.071537,
     "end_time": "2022-04-29T20:38:35.340663",
     "exception": false,
     "start_time": "2022-04-29T20:38:33.269126",
     "status": "completed"
    },
    "tags": []
   },
   "outputs": [
    {
     "name": "stderr",
     "output_type": "stream",
     "text": [
      "2022-04-29 20:38:33.454407: I tensorflow/compiler/mlir/mlir_graph_optimization_pass.cc:185] None of the MLIR Optimization Passes are enabled (registered 2)\n"
     ]
    },
    {
     "name": "stdout",
     "output_type": "stream",
     "text": [
      "Epoch 1/10\n",
      "1/1 [==============================] - 1s 1s/step - loss: 8.8249 - mean_squared_logarithmic_error: 8.8249 - val_loss: 5.1018 - val_mean_squared_logarithmic_error: 5.1018\n",
      "Epoch 2/10\n",
      "1/1 [==============================] - 0s 55ms/step - loss: 6.7972 - mean_squared_logarithmic_error: 6.7972 - val_loss: 3.5662 - val_mean_squared_logarithmic_error: 3.5662\n",
      "Epoch 3/10\n",
      "1/1 [==============================] - 0s 56ms/step - loss: 4.9961 - mean_squared_logarithmic_error: 4.9961 - val_loss: 4.2612 - val_mean_squared_logarithmic_error: 4.2612\n",
      "Epoch 4/10\n",
      "1/1 [==============================] - 0s 53ms/step - loss: 4.4811 - mean_squared_logarithmic_error: 4.4811 - val_loss: 5.4810 - val_mean_squared_logarithmic_error: 5.4810\n",
      "Epoch 5/10\n",
      "1/1 [==============================] - 0s 55ms/step - loss: 4.8022 - mean_squared_logarithmic_error: 4.8022 - val_loss: 5.8772 - val_mean_squared_logarithmic_error: 5.8772\n",
      "Epoch 6/10\n",
      "1/1 [==============================] - 0s 54ms/step - loss: 5.0738 - mean_squared_logarithmic_error: 5.0738 - val_loss: 5.5977 - val_mean_squared_logarithmic_error: 5.5977\n",
      "Epoch 7/10\n",
      "1/1 [==============================] - 0s 56ms/step - loss: 4.8260 - mean_squared_logarithmic_error: 4.8260 - val_loss: 5.0218 - val_mean_squared_logarithmic_error: 5.0218\n",
      "Epoch 8/10\n",
      "1/1 [==============================] - 0s 53ms/step - loss: 4.5320 - mean_squared_logarithmic_error: 4.5320 - val_loss: 4.4049 - val_mean_squared_logarithmic_error: 4.4049\n",
      "Epoch 9/10\n",
      "1/1 [==============================] - 0s 53ms/step - loss: 4.2906 - mean_squared_logarithmic_error: 4.2906 - val_loss: 3.8983 - val_mean_squared_logarithmic_error: 3.8983\n",
      "Epoch 10/10\n",
      "1/1 [==============================] - 0s 53ms/step - loss: 4.1470 - mean_squared_logarithmic_error: 4.1470 - val_loss: 3.5893 - val_mean_squared_logarithmic_error: 3.5893\n"
     ]
    }
   ],
   "source": [
    "# loss function\n",
    "msle = MeanSquaredLogarithmicError()\n",
    "model.compile(\n",
    "    loss=msle, \n",
    "    optimizer=Adam(learning_rate=learning_rate), \n",
    "    metrics=[msle]\n",
    ")\n",
    "# train the model\n",
    "history = model.fit(\n",
    "    X_train.values, \n",
    "    y_train.values, \n",
    "    epochs=10, \n",
    "    batch_size=64,\n",
    "    validation_split=0.2\n",
    ")"
   ]
  },
  {
   "cell_type": "code",
   "execution_count": 24,
   "id": "7f22b8da",
   "metadata": {
    "execution": {
     "iopub.execute_input": "2022-04-29T20:38:35.448866Z",
     "iopub.status.busy": "2022-04-29T20:38:35.447686Z",
     "iopub.status.idle": "2022-04-29T20:38:35.686163Z",
     "shell.execute_reply": "2022-04-29T20:38:35.684843Z"
    },
    "papermill": {
     "duration": 0.295417,
     "end_time": "2022-04-29T20:38:35.689107",
     "exception": false,
     "start_time": "2022-04-29T20:38:35.393690",
     "status": "completed"
    },
    "tags": []
   },
   "outputs": [
    {
     "data": {
      "image/png": "[encoded data removed]",
      "text/plain": [
       "<Figure size 432x288 with 1 Axes>"
      ]
     },
     "metadata": {
      "needs_background": "light"
     },
     "output_type": "display_data"
    }
   ],
   "source": [
    "def plot_history(history, key):\n",
    "  plt.plot(history.history[key])\n",
    "  plt.plot(history.history['val_'+key])\n",
    "  plt.xlabel(\"Epochs\")\n",
    "  plt.ylabel(key)\n",
    "  plt.legend([key, 'val_'+key])\n",
    "  plt.show()\n",
    "# Plot the history\n",
    "plot_history(history, 'mean_squared_logarithmic_error')"
   ]
  },
  {
   "cell_type": "markdown",
   "id": "98ab0fbd",
   "metadata": {
    "papermill": {
     "duration": 0.055215,
     "end_time": "2022-04-29T20:38:35.798671",
     "exception": false,
     "start_time": "2022-04-29T20:38:35.743456",
     "status": "completed"
    },
    "tags": []
   },
   "source": [
    "We can see that as epochs increases the loss decreases"
   ]
  },
  {
   "cell_type": "code",
   "execution_count": 25,
   "id": "dca9d586",
   "metadata": {
    "execution": {
     "iopub.execute_input": "2022-04-29T20:38:35.908045Z",
     "iopub.status.busy": "2022-04-29T20:38:35.906895Z",
     "iopub.status.idle": "2022-04-29T20:38:36.407212Z",
     "shell.execute_reply": "2022-04-29T20:38:36.406286Z"
    },
    "papermill": {
     "duration": 0.558892,
     "end_time": "2022-04-29T20:38:36.410074",
     "exception": false,
     "start_time": "2022-04-29T20:38:35.851182",
     "status": "completed"
    },
    "tags": []
   },
   "outputs": [],
   "source": [
    "X_test['prediction'] = model.predict(X_test)"
   ]
  },
  {
   "cell_type": "code",
   "execution_count": 26,
   "id": "c94e470a",
   "metadata": {
    "execution": {
     "iopub.execute_input": "2022-04-29T20:38:36.517561Z",
     "iopub.status.busy": "2022-04-29T20:38:36.516918Z",
     "iopub.status.idle": "2022-04-29T20:38:36.523343Z",
     "shell.execute_reply": "2022-04-29T20:38:36.522629Z"
    },
    "papermill": {
     "duration": 0.062681,
     "end_time": "2022-04-29T20:38:36.525666",
     "exception": false,
     "start_time": "2022-04-29T20:38:36.462985",
     "status": "completed"
    },
    "tags": []
   },
   "outputs": [
    {
     "data": {
      "text/plain": [
       "8"
      ]
     },
     "execution_count": 26,
     "metadata": {},
     "output_type": "execute_result"
    }
   ],
   "source": [
    "X_test.count()"
   ]
  },
  {
   "cell_type": "code",
   "execution_count": null,
   "id": "e6475372",
   "metadata": {
    "papermill": {
     "duration": 0.051488,
     "end_time": "2022-04-29T20:38:36.629306",
     "exception": false,
     "start_time": "2022-04-29T20:38:36.577818",
     "status": "completed"
    },
    "tags": []
   },
   "outputs": [],
   "source": []
  }
 ],
 "metadata": {
  "kernelspec": {
   "display_name": "Python 3",
   "language": "python",
   "name": "python3"
  },
  "language_info": {
   "codemirror_mode": {
    "name": "ipython",
    "version": 3
   },
   "file_extension": ".py",
   "mimetype": "text/x-python",
   "name": "python",
   "nbconvert_exporter": "python",
   "pygments_lexer": "ipython3",
   "version": "3.7.12"
  },
  "papermill": {
   "default_parameters": {},
   "duration": 33.006008,
   "end_time": "2022-04-29T20:38:39.320496",
   "environment_variables": {},
   "exception": null,
   "input_path": "__notebook__.ipynb",
   "output_path": "__notebook__.ipynb",
   "parameters": {},
   "start_time": "2022-04-29T20:38:06.314488",
   "version": "2.3.4"
  }
 },
 "nbformat": 4,
 "nbformat_minor": 5
}

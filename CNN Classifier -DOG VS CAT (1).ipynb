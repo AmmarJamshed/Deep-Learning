{
 "cells": [
  {
   "cell_type": "code",
   "execution_count": 1,
   "id": "crazy-springfield",
   "metadata": {},
   "outputs": [],
   "source": [
    "train_dir = r'C:\\Users\\muham\\Downloads\\TRAIN'\n",
    "vali_dir = r'C:\\Users\\muham\\Downloads\\validation'\n",
    "test_dir = r'C:\\Users\\muham\\Downloads\\TEST'"
   ]
  },
  {
   "cell_type": "markdown",
   "id": "standard-belize",
   "metadata": {},
   "source": [
    "# DECODE, CAST AND CONVERT IMAGES"
   ]
  },
  {
   "cell_type": "code",
   "execution_count": 2,
   "id": "sudden-pattern",
   "metadata": {},
   "outputs": [],
   "source": [
    "from tensorflow.keras.preprocessing.image import ImageDataGenerator"
   ]
  },
  {
   "cell_type": "code",
   "execution_count": 3,
   "id": "disabled-shakespeare",
   "metadata": {},
   "outputs": [],
   "source": [
    "train_datagen = ImageDataGenerator(rescale=1./255) # other functions like Sheer and Zoom can also be applied\n",
    "test_datagen = ImageDataGenerator(rescale=1./255)"
   ]
  },
  {
   "cell_type": "code",
   "execution_count": 4,
   "id": "restricted-howard",
   "metadata": {},
   "outputs": [
    {
     "name": "stdout",
     "output_type": "stream",
     "text": [
      "Found 2000 images belonging to 2 classes.\n"
     ]
    }
   ],
   "source": [
    "# make tensor image generators\n",
    "train_generator = train_datagen.flow_from_directory(\n",
    "             train_dir,\n",
    "             target_size=(150, 150),\n",
    "             batch_size=20,\n",
    "             class_mode='binary')"
   ]
  },
  {
   "cell_type": "code",
   "execution_count": 5,
   "id": "lesbian-exhaust",
   "metadata": {},
   "outputs": [
    {
     "name": "stdout",
     "output_type": "stream",
     "text": [
      "Found 1000 images belonging to 2 classes.\n"
     ]
    }
   ],
   "source": [
    "# make tensor image generators\n",
    "vld_generator = test_datagen.flow_from_directory(\n",
    "             vali_dir,\n",
    "             target_size=(150, 150),\n",
    "             batch_size=20,\n",
    "             class_mode='binary')"
   ]
  },
  {
   "cell_type": "code",
   "execution_count": 6,
   "id": "experienced-advisory",
   "metadata": {},
   "outputs": [],
   "source": [
    "# we import the modelling algorithms \n",
    "from tensorflow.keras import layers \n",
    "from tensorflow.keras import models"
   ]
  },
  {
   "cell_type": "markdown",
   "id": "declared-temple",
   "metadata": {},
   "source": [
    "# Lets start Modelling the CNN Classifier"
   ]
  },
  {
   "cell_type": "code",
   "execution_count": 7,
   "id": "psychological-metadata",
   "metadata": {},
   "outputs": [],
   "source": [
    "model = models.Sequential()"
   ]
  },
  {
   "cell_type": "code",
   "execution_count": 8,
   "id": "continued-category",
   "metadata": {},
   "outputs": [],
   "source": [
    "model.add(layers.Conv2D(32, (3,3), activation='relu',\n",
    "                        input_shape=(150, 150, 3)))       # As per target chosen above and 3 dimensions required- images will moe be be 75x57\n",
    "model.add(layers.MaxPooling2D((2,2)))\n",
    "\n",
    "model.add(layers.Conv2D(64, (3,3), activation='relu')) #32  * 2 - images will now be size 37x37\n",
    "model.add(layers.MaxPooling2D((2,2)))\n",
    "\n",
    "model.add(layers.Conv2D(128, (3,3), activation='relu')) # 64 * 2 - images will now be size 18x18\n",
    "model.add(layers.MaxPooling2D((2,2)))\n",
    "\n",
    "model.add(layers.Conv2D(128, (3,3), activation='relu')) # 64 * 2 - images will now be size 9x9\n",
    "model.add(layers.MaxPooling2D((2,2)))\n",
    "\n",
    "# Flatten model\n",
    "model.add(layers.Flatten())\n",
    "\n",
    "# Add dense layers\n",
    "model.add(layers.Dense(512, activation='relu'))\n",
    "\n",
    "# single output layer\n",
    "model.add(layers.Dense(1, activation='sigmoid'))"
   ]
  },
  {
   "cell_type": "code",
   "execution_count": 9,
   "id": "spread-reunion",
   "metadata": {},
   "outputs": [
    {
     "name": "stdout",
     "output_type": "stream",
     "text": [
      "Model: \"sequential\"\n",
      "_________________________________________________________________\n",
      "Layer (type)                 Output Shape              Param #   \n",
      "=================================================================\n",
      "conv2d (Conv2D)              (None, 148, 148, 32)      896       \n",
      "_________________________________________________________________\n",
      "max_pooling2d (MaxPooling2D) (None, 74, 74, 32)        0         \n",
      "_________________________________________________________________\n",
      "conv2d_1 (Conv2D)            (None, 72, 72, 64)        18496     \n",
      "_________________________________________________________________\n",
      "max_pooling2d_1 (MaxPooling2 (None, 36, 36, 64)        0         \n",
      "_________________________________________________________________\n",
      "conv2d_2 (Conv2D)            (None, 34, 34, 128)       73856     \n",
      "_________________________________________________________________\n",
      "max_pooling2d_2 (MaxPooling2 (None, 17, 17, 128)       0         \n",
      "_________________________________________________________________\n",
      "conv2d_3 (Conv2D)            (None, 15, 15, 128)       147584    \n",
      "_________________________________________________________________\n",
      "max_pooling2d_3 (MaxPooling2 (None, 7, 7, 128)         0         \n",
      "_________________________________________________________________\n",
      "flatten (Flatten)            (None, 6272)              0         \n",
      "_________________________________________________________________\n",
      "dense (Dense)                (None, 512)               3211776   \n",
      "_________________________________________________________________\n",
      "dense_1 (Dense)              (None, 1)                 513       \n",
      "=================================================================\n",
      "Total params: 3,453,121\n",
      "Trainable params: 3,453,121\n",
      "Non-trainable params: 0\n",
      "_________________________________________________________________\n"
     ]
    }
   ],
   "source": [
    "model.summary()"
   ]
  },
  {
   "cell_type": "code",
   "execution_count": 10,
   "id": "arranged-frost",
   "metadata": {},
   "outputs": [],
   "source": [
    "from tensorflow.keras import optimizers\n",
    "\n",
    "# compile model\n",
    "model.compile(loss='binary_crossentropy',\n",
    "              optimizer=optimizers.RMSprop(learning_rate= 1e-4),\n",
    "              metrics=['acc'])"
   ]
  },
  {
   "cell_type": "code",
   "execution_count": 11,
   "id": "another-eating",
   "metadata": {},
   "outputs": [
    {
     "name": "stdout",
     "output_type": "stream",
     "text": [
      "Epoch 1/20\n",
      "100/100 [==============================] - 59s 590ms/step - loss: 0.6901 - acc: 0.5355 - val_loss: 0.6727 - val_acc: 0.5630\n",
      "Epoch 2/20\n",
      "100/100 [==============================] - 61s 611ms/step - loss: 0.6593 - acc: 0.6080 - val_loss: 0.6401 - val_acc: 0.6270\n",
      "Epoch 3/20\n",
      "100/100 [==============================] - 67s 673ms/step - loss: 0.6046 - acc: 0.6705 - val_loss: 0.6128 - val_acc: 0.6610\n",
      "Epoch 4/20\n",
      "100/100 [==============================] - 71s 711ms/step - loss: 0.5667 - acc: 0.6900 - val_loss: 0.7221 - val_acc: 0.5890\n",
      "Epoch 5/20\n",
      "100/100 [==============================] - 74s 736ms/step - loss: 0.5373 - acc: 0.7250 - val_loss: 0.6068 - val_acc: 0.6680\n",
      "Epoch 6/20\n",
      "100/100 [==============================] - 71s 712ms/step - loss: 0.5194 - acc: 0.7415 - val_loss: 0.5928 - val_acc: 0.6800\n",
      "Epoch 7/20\n",
      "100/100 [==============================] - 72s 717ms/step - loss: 0.4909 - acc: 0.7655 - val_loss: 0.5863 - val_acc: 0.7000\n",
      "Epoch 8/20\n",
      "100/100 [==============================] - 73s 727ms/step - loss: 0.4715 - acc: 0.7690 - val_loss: 0.6068 - val_acc: 0.6930\n",
      "Epoch 9/20\n",
      "100/100 [==============================] - 72s 718ms/step - loss: 0.4507 - acc: 0.7810 - val_loss: 0.5627 - val_acc: 0.7030\n",
      "Epoch 10/20\n",
      "100/100 [==============================] - 73s 726ms/step - loss: 0.4140 - acc: 0.8070 - val_loss: 0.5578 - val_acc: 0.7260\n",
      "Epoch 11/20\n",
      "100/100 [==============================] - 68s 679ms/step - loss: 0.3989 - acc: 0.8180 - val_loss: 0.5832 - val_acc: 0.7100\n",
      "Epoch 12/20\n",
      "100/100 [==============================] - 64s 643ms/step - loss: 0.3814 - acc: 0.8305 - val_loss: 0.5459 - val_acc: 0.7300\n",
      "Epoch 13/20\n",
      "100/100 [==============================] - 67s 673ms/step - loss: 0.3556 - acc: 0.8410 - val_loss: 0.5504 - val_acc: 0.7330\n",
      "Epoch 14/20\n",
      "100/100 [==============================] - 63s 628ms/step - loss: 0.3331 - acc: 0.8515 - val_loss: 0.5677 - val_acc: 0.7320\n",
      "Epoch 15/20\n",
      "100/100 [==============================] - 63s 629ms/step - loss: 0.3133 - acc: 0.8695 - val_loss: 0.5885 - val_acc: 0.7270\n",
      "Epoch 16/20\n",
      "100/100 [==============================] - 63s 630ms/step - loss: 0.2910 - acc: 0.8795 - val_loss: 0.5970 - val_acc: 0.7170\n",
      "Epoch 17/20\n",
      "100/100 [==============================] - 63s 633ms/step - loss: 0.2657 - acc: 0.8845 - val_loss: 0.7380 - val_acc: 0.6990\n",
      "Epoch 18/20\n",
      "100/100 [==============================] - 65s 645ms/step - loss: 0.2449 - acc: 0.9055 - val_loss: 0.6801 - val_acc: 0.7270\n",
      "Epoch 19/20\n",
      "100/100 [==============================] - 63s 632ms/step - loss: 0.2328 - acc: 0.9105 - val_loss: 0.6308 - val_acc: 0.7390\n",
      "Epoch 20/20\n",
      "100/100 [==============================] - 64s 639ms/step - loss: 0.2102 - acc: 0.9175 - val_loss: 0.6320 - val_acc: 0.7510\n"
     ]
    }
   ],
   "source": [
    "# Fit the model\n",
    "history = model.fit(\n",
    "          train_generator,\n",
    "          steps_per_epoch=100,\n",
    "          epochs=20,\n",
    "          validation_data= vld_generator,\n",
    "          validation_steps=50)"
   ]
  },
  {
   "cell_type": "markdown",
   "id": "sharp-essay",
   "metadata": {},
   "source": [
    "# As shown we have achieved:\n",
    "- 91% Accuracy \n",
    "- 75% Validation Accuracy\n",
    "- loss of 21%\n",
    "- Validation loss 63% \n",
    "# This shows it identified 9 correct cats and dogs from every 10 pictures"
   ]
  },
  {
   "cell_type": "code",
   "execution_count": 12,
   "id": "broke-insider",
   "metadata": {},
   "outputs": [
    {
     "data": {
      "image/png": "[encoded data removed]",
      "text/plain": [
       "<Figure size 648x360 with 1 Axes>"
      ]
     },
     "metadata": {
      "needs_background": "light"
     },
     "output_type": "display_data"
    }
   ],
   "source": [
    "import pandas as pd\n",
    "from matplotlib import pyplot as plt\n",
    "pd.DataFrame(history.history).plot(figsize=(9,5))\n",
    "plt.grid(True)\n",
    "plt.gca().set_ylim(0,1)\n",
    "plt.show()"
   ]
  },
  {
   "cell_type": "markdown",
   "id": "manual-presence",
   "metadata": {},
   "source": [
    "# Save Model"
   ]
  },
  {
   "cell_type": "code",
   "execution_count": 13,
   "id": "forward-qualification",
   "metadata": {},
   "outputs": [
    {
     "name": "stdout",
     "output_type": "stream",
     "text": [
      "WARNING:tensorflow:From C:\\Users\\muham\\anaconda3\\lib\\site-packages\\tensorflow\\python\\training\\tracking\\tracking.py:111: Model.state_updates (from tensorflow.python.keras.engine.training) is deprecated and will be removed in a future version.\n",
      "Instructions for updating:\n",
      "This property should not be used in TensorFlow 2.0, as updates are applied automatically.\n",
      "WARNING:tensorflow:From C:\\Users\\muham\\anaconda3\\lib\\site-packages\\tensorflow\\python\\training\\tracking\\tracking.py:111: Layer.updates (from tensorflow.python.keras.engine.base_layer) is deprecated and will be removed in a future version.\n",
      "Instructions for updating:\n",
      "This property should not be used in TensorFlow 2.0, as updates are applied automatically.\n",
      "INFO:tensorflow:Assets written to: CNN MOdel by Ammar\\assets\n"
     ]
    }
   ],
   "source": [
    "model.save('CNN MOdel by Ammar')"
   ]
  }
 ],
 "metadata": {
  "kernelspec": {
   "display_name": "Python 3",
   "language": "python",
   "name": "python3"
  },
  "language_info": {
   "codemirror_mode": {
    "name": "ipython",
    "version": 3
   },
   "file_extension": ".py",
   "mimetype": "text/x-python",
   "name": "python",
   "nbconvert_exporter": "python",
   "pygments_lexer": "ipython3",
   "version": "3.8.5"
  }
 },
 "nbformat": 4,
 "nbformat_minor": 5
}

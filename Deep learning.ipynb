{
 "cells": [
  {
   "cell_type": "markdown",
   "id": "union-testing",
   "metadata": {},
   "source": [
    "# Build and Tune Deep Learning Models uusing Keras "
   ]
  },
  {
   "cell_type": "code",
   "execution_count": 1,
   "id": "italic-jones",
   "metadata": {},
   "outputs": [],
   "source": [
    "import pandas as pd\n",
    "import numpy as np\n",
    "from keras.layers import Dense\n",
    "from keras.models import Sequential "
   ]
  },
  {
   "cell_type": "markdown",
   "id": "promotional-picking",
   "metadata": {},
   "source": [
    "# Creating A Keras Model"
   ]
  },
  {
   "cell_type": "code",
   "execution_count": 2,
   "id": "ambient-march",
   "metadata": {},
   "outputs": [],
   "source": [
    "predictors = np.loadtxt(r'C:\\Users\\muham\\Downloads\\divorce.csv', delimiter=',')"
   ]
  },
  {
   "cell_type": "code",
   "execution_count": 3,
   "id": "magnetic-growth",
   "metadata": {},
   "outputs": [
    {
     "data": {
      "text/plain": [
       "array([[ 1.,  2.,  3., ..., 53., 54.,  0.],\n",
       "       [ 2.,  2.,  4., ...,  2.,  1.,  1.],\n",
       "       [ 4.,  4.,  4., ...,  2.,  2.,  1.],\n",
       "       ...,\n",
       "       [ 1.,  1.,  0., ...,  0.,  0.,  0.],\n",
       "       [ 0.,  0.,  0., ...,  3.,  1.,  0.],\n",
       "       [ 0.,  0.,  0., ...,  3.,  1.,  0.]])"
      ]
     },
     "execution_count": 3,
     "metadata": {},
     "output_type": "execute_result"
    }
   ],
   "source": [
    "predictors"
   ]
  },
  {
   "cell_type": "code",
   "execution_count": 4,
   "id": "electrical-victor",
   "metadata": {},
   "outputs": [],
   "source": [
    "n_cols = predictors.shape[1]"
   ]
  },
  {
   "cell_type": "code",
   "execution_count": 5,
   "id": "traditional-liquid",
   "metadata": {},
   "outputs": [],
   "source": [
    "model = Sequential()"
   ]
  },
  {
   "cell_type": "code",
   "execution_count": 6,
   "id": "abstract-sample",
   "metadata": {},
   "outputs": [],
   "source": [
    "model.add(Dense(100.9, activation='relu'))"
   ]
  },
  {
   "cell_type": "code",
   "execution_count": 7,
   "id": "forty-stupid",
   "metadata": {},
   "outputs": [],
   "source": [
    "model.add(Dense(1))"
   ]
  },
  {
   "cell_type": "markdown",
   "id": "organizational-billy",
   "metadata": {},
   "source": [
    "# Forward Propogation code"
   ]
  },
  {
   "cell_type": "code",
   "execution_count": 8,
   "id": "animated-ultimate",
   "metadata": {},
   "outputs": [],
   "source": [
    "input_data = np.array([2,3])"
   ]
  },
  {
   "cell_type": "code",
   "execution_count": 9,
   "id": "magnetic-strategy",
   "metadata": {},
   "outputs": [],
   "source": [
    "weights = { 'node0': np.array([1,1]),\n",
    "            'node1': np.array([-1,1]),\n",
    "            'output': np.array([2,-1])}"
   ]
  },
  {
   "cell_type": "code",
   "execution_count": 10,
   "id": "environmental-joint",
   "metadata": {},
   "outputs": [],
   "source": [
    "node_0_value = (input_data * weights['node0']).sum()"
   ]
  },
  {
   "cell_type": "code",
   "execution_count": 11,
   "id": "rural-sucking",
   "metadata": {},
   "outputs": [],
   "source": [
    "node_1_value = (input_data * weights['node1']).sum()"
   ]
  },
  {
   "cell_type": "code",
   "execution_count": 12,
   "id": "successful-refrigerator",
   "metadata": {},
   "outputs": [
    {
     "name": "stdout",
     "output_type": "stream",
     "text": [
      "[5 1]\n"
     ]
    }
   ],
   "source": [
    "hidden_layer_values = np.array([node_0_value, node_1_value])\n",
    "print(hidden_layer_values)"
   ]
  },
  {
   "cell_type": "code",
   "execution_count": 13,
   "id": "brief-exemption",
   "metadata": {},
   "outputs": [
    {
     "name": "stdout",
     "output_type": "stream",
     "text": [
      "9\n"
     ]
    }
   ],
   "source": [
    "output = (hidden_layer_values * weights['output']).sum()\n",
    "print(output)"
   ]
  },
  {
   "cell_type": "markdown",
   "id": "comparable-microphone",
   "metadata": {},
   "source": [
    "# Activiation Function"
   ]
  },
  {
   "cell_type": "code",
   "execution_count": 14,
   "id": "preliminary-sender",
   "metadata": {},
   "outputs": [],
   "source": [
    "input_data1 = np.array([-1,2])"
   ]
  },
  {
   "cell_type": "code",
   "execution_count": 15,
   "id": "shaped-shareware",
   "metadata": {},
   "outputs": [],
   "source": [
    "weights1 = { 'node0': np.array([3,3]),\n",
    "            'node1': np.array([1,5]),\n",
    "            'output': np.array([2,-1])}"
   ]
  },
  {
   "cell_type": "code",
   "execution_count": 16,
   "id": "regional-adolescent",
   "metadata": {},
   "outputs": [],
   "source": [
    "node_0_input = (input_data1 * weights1['node0']).sum()"
   ]
  },
  {
   "cell_type": "code",
   "execution_count": 17,
   "id": "computational-batman",
   "metadata": {},
   "outputs": [],
   "source": [
    "node_0_output = np.tanh(node_0_input)"
   ]
  },
  {
   "cell_type": "code",
   "execution_count": 18,
   "id": "clear-deployment",
   "metadata": {},
   "outputs": [],
   "source": [
    "node_1_input = (input_data1 * weights1['node1']).sum()"
   ]
  },
  {
   "cell_type": "code",
   "execution_count": 19,
   "id": "postal-india",
   "metadata": {},
   "outputs": [],
   "source": [
    "node_1_output = np.tanh(node_1_input)"
   ]
  },
  {
   "cell_type": "code",
   "execution_count": 20,
   "id": "spanish-drove",
   "metadata": {},
   "outputs": [
    {
     "name": "stdout",
     "output_type": "stream",
     "text": [
      "[0.99505475 0.99999997]\n"
     ]
    }
   ],
   "source": [
    "hidden_layer_outputs = np.array([node_0_output, node_1_output])\n",
    "print(hidden_layer_outputs)"
   ]
  },
  {
   "cell_type": "code",
   "execution_count": 21,
   "id": "deluxe-mexico",
   "metadata": {},
   "outputs": [
    {
     "name": "stdout",
     "output_type": "stream",
     "text": [
      "0.9901095378334199\n"
     ]
    }
   ],
   "source": [
    "output = (hidden_layer_outputs * weights1['output']).sum()\n",
    "print(output)"
   ]
  },
  {
   "cell_type": "markdown",
   "id": "backed-tractor",
   "metadata": {},
   "source": [
    "# Calculate with a Relu Function"
   ]
  },
  {
   "cell_type": "code",
   "execution_count": 22,
   "id": "round-ownership",
   "metadata": {},
   "outputs": [
    {
     "name": "stdout",
     "output_type": "stream",
     "text": [
      "0.9901095378334199\n"
     ]
    }
   ],
   "source": [
    "def relu(input):\n",
    "    '''Define your relu activation function here'''\n",
    "    # Calculate the value for the output of the relu function: output\n",
    "    output = max(0, input)\n",
    "    \n",
    "    # Return the value just calculated\n",
    "    return(output)\n",
    "\n",
    "# Calculate node 0 value: node_0_output\n",
    "node_00_input = (input_data * weights['node0']).sum()\n",
    "node_00_output = relu(node_0_input)\n",
    "\n",
    "# Calculate node 1 value: node_1_output\n",
    "node_11_input = (input_data * weights['node1']).sum()\n",
    "node_11_output = relu(node_1_input)\n",
    "\n",
    "# Put node values into array: hidden_layer_outputs\n",
    "hidden_layer_outputs = np.array([node_0_output, node_1_output])\n",
    "\n",
    "# Calculate model output (do not apply relu)\n",
    "model_output = (hidden_layer_outputs * weights['output']).sum()\n",
    "\n",
    "# Print model output\n",
    "print(model_output)"
   ]
  },
  {
   "cell_type": "code",
   "execution_count": 23,
   "id": "absent-window",
   "metadata": {},
   "outputs": [
    {
     "name": "stdout",
     "output_type": "stream",
     "text": [
      "[8, 12]\n"
     ]
    }
   ],
   "source": [
    "# Define predict_with_network()\n",
    "def predict_with_network(input_data_row, weights):\n",
    "\n",
    "    # Calculate node 0 value\n",
    "    node_0_input = (input_data_row * weights['node0']).sum()\n",
    "    node_0_output = relu(node_0_input)\n",
    "\n",
    "    # Calculate node 1 value\n",
    "    node_1_input = (input_data_row * weights['node1']).sum()\n",
    "    node_1_output = relu(node_1_input)\n",
    "\n",
    "    # Put node values into array: hidden_layer_outputs\n",
    "    hidden_layer_outputs = np.array([node_0_output, node_1_output])\n",
    "    \n",
    "    # Calculate model output\n",
    "    input_to_final_layer = (hidden_layer_outputs * weights['output']).sum()\n",
    "    model_output = relu(input_to_final_layer)\n",
    "    \n",
    "    # Return model output\n",
    "    return(model_output)\n",
    "\n",
    "\n",
    "# Create empty list to store prediction results\n",
    "results = []\n",
    "for input_data_row in input_data:\n",
    "    # Append prediction to results\n",
    "    results.append(predict_with_network(input_data_row, weights))\n",
    "\n",
    "# Print results\n",
    "print(results)"
   ]
  },
  {
   "cell_type": "markdown",
   "id": "executed-level",
   "metadata": {},
   "source": [
    "# Multi-layer Networks"
   ]
  },
  {
   "cell_type": "code",
   "execution_count": 24,
   "id": "comfortable-forum",
   "metadata": {},
   "outputs": [
    {
     "name": "stdout",
     "output_type": "stream",
     "text": [
      "0\n"
     ]
    }
   ],
   "source": [
    "# i DIDNT CREATE MORE NODES HERE THATS WHY THE PREDICTION IS COMING ZERO\n",
    "def predict_with_network(input_data):\n",
    "    # Calculate node 0 in the first hidden layer\n",
    "    node_0_0_input = (input_data * weights['node0']).sum()\n",
    "    node_0_0_output = relu(node_0_0_input)\n",
    "\n",
    "    # Calculate node 1 in the first hidden layer\n",
    "    node_0_1_input = (input_data * weights['node1']).sum()\n",
    "    node_0_1_output = relu(node_0_1_input)\n",
    "\n",
    "    # Put node values into array: hidden_0_outputs\n",
    "    hidden_0_outputs = np.array([node_0_0_output, node_0_1_output])\n",
    "    \n",
    "    # Calculate node 0 in the second hidden layer\n",
    "    node_1_0_input = (hidden_0_outputs * weights['node1']).sum()\n",
    "    node_1_0_output = relu(node_1_0_input)\n",
    "\n",
    "    # Calculate node 1 in the second hidden layer\n",
    "    node_1_1_input = (hidden_0_outputs * weights['node1']).sum()\n",
    "    node_1_1_output =  relu(node_1_1_input)\n",
    "\n",
    "    # Put node values into array: hidden_1_outputs\n",
    "    hidden_1_outputs = np.array([node_1_0_output, node_1_1_output])\n",
    "\n",
    "    # Calculate model output: model_output\n",
    "    model_output = (hidden_1_outputs * weights['output']).sum()\n",
    "    \n",
    "    # Return model_output\n",
    "    return(model_output)\n",
    "\n",
    "output = predict_with_network(input_data)\n",
    "print(output)"
   ]
  },
  {
   "cell_type": "markdown",
   "id": "pressed-stations",
   "metadata": {},
   "source": [
    "# The Need for Optimization"
   ]
  },
  {
   "cell_type": "code",
   "execution_count": 25,
   "id": "cognitive-panama",
   "metadata": {},
   "outputs": [
    {
     "name": "stdout",
     "output_type": "stream",
     "text": [
      "27\n",
      "12\n"
     ]
    }
   ],
   "source": [
    "def predict_with_network1(input_data, weights):\n",
    "    # Calculate node 0 in the first hidden layer\n",
    "    node_0_0_input = (input_data * weights['node_0']).sum()\n",
    "    node_0_0_output = relu(node_0_0_input)\n",
    "\n",
    "    # Calculate node 1 in the first hidden layer\n",
    "    node_0_1_input = (input_data * weights['node_1']).sum()\n",
    "    node_0_1_output = relu(node_0_1_input)\n",
    "\n",
    "    # Put node values into array: hidden_0_outputs\n",
    "    hidden_0_outputs = np.array([node_0_0_output, node_0_1_output])\n",
    "    \n",
    "    # Calculate node 0 in the second hidden layer\n",
    "    node_1_0_input = (hidden_0_outputs * weights['node_1']).sum()\n",
    "    node_1_0_output = relu(node_1_0_input)\n",
    "\n",
    "    # Calculate node 1 in the second hidden layer\n",
    "    node_1_1_input = (hidden_0_outputs * weights['node_1']).sum()\n",
    "    node_1_1_output =  relu(node_1_1_input)\n",
    "\n",
    "    # Put node values into array: hidden_1_outputs\n",
    "    hidden_1_outputs = np.array([node_1_0_output, node_1_1_output])\n",
    "\n",
    "    # Calculate model output: model_output\n",
    "    model_output = (hidden_1_outputs * weights['output']).sum()\n",
    "    \n",
    "    # Return model_output\n",
    "    return(model_output)\n",
    "# The data point you will make a prediction for\n",
    "input_data = np.array([0, 3])\n",
    "\n",
    "# Sample weights\n",
    "weights_0 = {'node_0': [2, 1],\n",
    "             'node_1': [1, 2],\n",
    "             'output': [1, 1]\n",
    "            }\n",
    "\n",
    "# The actual target value, used to calculate the error\n",
    "target_actual = 3\n",
    "\n",
    "# Make prediction using original weights\n",
    "model_output_0 = predict_with_network1(input_data, weights_0)\n",
    "\n",
    "# Calculate error: error_0\n",
    "error_0 = model_output_0 - target_actual\n",
    "\n",
    "# Create weights that cause the network to make perfect prediction (3): weights_1\n",
    "weights_1 = {'node_0': [2, 1],\n",
    "             'node_1': [1, 2],\n",
    "             'output': [1, 0]\n",
    "            }\n",
    "\n",
    "# Make prediction using new weights: model_output_1\n",
    "model_output_1 = predict_with_network1(input_data, weights_1)\n",
    "\n",
    "# Calculate error: error_1\n",
    "error_1 = model_output_1 - target_actual\n",
    "\n",
    "# Print error_0 and error_1\n",
    "print(error_0)\n",
    "print(error_1)"
   ]
  },
  {
   "cell_type": "markdown",
   "id": "smooth-valuable",
   "metadata": {},
   "source": [
    "# How to calculate slope and update weights"
   ]
  },
  {
   "cell_type": "code",
   "execution_count": 26,
   "id": "talented-thanksgiving",
   "metadata": {},
   "outputs": [
    {
     "name": "stdout",
     "output_type": "stream",
     "text": [
      "5\n"
     ]
    }
   ],
   "source": [
    "weights = np.array([1,2])\n",
    "input_data =  np.array([3,4])\n",
    "target = 6\n",
    "learning_rate = 0.01\n",
    "preds = (weights * input_data).sum()\n",
    "error =  preds - target\n",
    "print(error)"
   ]
  },
  {
   "cell_type": "code",
   "execution_count": 27,
   "id": "hollow-phenomenon",
   "metadata": {},
   "outputs": [
    {
     "data": {
      "text/plain": [
       "array([30, 40])"
      ]
     },
     "execution_count": 27,
     "metadata": {},
     "output_type": "execute_result"
    }
   ],
   "source": [
    "gradient =  2*input_data*error\n",
    "gradient"
   ]
  },
  {
   "cell_type": "code",
   "execution_count": 28,
   "id": "young-circus",
   "metadata": {},
   "outputs": [
    {
     "name": "stdout",
     "output_type": "stream",
     "text": [
      "2.5\n"
     ]
    }
   ],
   "source": [
    "weights_updated = weights - learning_rate*gradient\n",
    "preds_updated = (weights_updated * input_data).sum()\n",
    "errors_updated = preds_updated - target\n",
    "print(errors_updated)"
   ]
  },
  {
   "cell_type": "code",
   "execution_count": 29,
   "id": "opposite-protest",
   "metadata": {},
   "outputs": [
    {
     "data": {
      "image/png": "[encoded data removed]",
      "text/plain": [
       "<Figure size 432x288 with 1 Axes>"
      ]
     },
     "metadata": {
      "needs_background": "light"
     },
     "output_type": "display_data"
    }
   ],
   "source": [
    "import matplotlib.pyplot as plt\n",
    "from sklearn.metrics import mean_squared_error\n",
    "n_updates = 20\n",
    "mse_hist = []\n",
    "weights = np.array([2,3])\n",
    "# Iterate over the number of updates\n",
    "for i in range(n_updates):\n",
    "    # Calculate the slope: slope\n",
    "    slope = gradient*input_data*target\n",
    "    \n",
    "    # not correct\n",
    "    # Update the weights: weights\n",
    "    weights = weights - 0.01 * slope\n",
    "    \n",
    "    # Calculate mse with new weights: mse\n",
    "    mse = input_data*target*weights\n",
    "    \n",
    "    # Append the mse to mse_hist\n",
    "    mse_hist.append(mse)\n",
    "\n",
    "# Plot the mse history\n",
    "plt.plot(mse_hist)\n",
    "plt.xlabel('Iterations')\n",
    "plt.ylabel('Mean Squared Error')\n",
    "plt.show()"
   ]
  },
  {
   "cell_type": "markdown",
   "id": "interpreted-tractor",
   "metadata": {},
   "source": [
    "# compile and fitting a model"
   ]
  },
  {
   "cell_type": "code",
   "execution_count": 30,
   "id": "modular-noise",
   "metadata": {},
   "outputs": [],
   "source": [
    "# Creating A Keras Model\n",
    "predictors1 = np.loadtxt(r'C:\\Users\\muham\\Downloads\\divorce.csv', delimiter=',')\n",
    "\n",
    "target = 1.\n",
    "target_o = np.array(target)\n",
    "# if data is not numericals\n",
    "predictors = np.asarray(predictors1).astype('float32')                                                                    \n",
    "n_cols = predictors1.shape[1]\n",
    "model1 = Sequential()\n",
    "model1.add(Dense(100.9, activation='relu'))\n",
    "model1.add(Dense(100.9, activation='relu'))\n",
    "model1.add(Dense(1))\n",
    "# Adam is a good optimizder choice\n",
    "model1.compile(optimizer='Adam', loss='mean_squared_error')\n",
    "# we can then fit a model"
   ]
  },
  {
   "cell_type": "code",
   "execution_count": 31,
   "id": "renewable-history",
   "metadata": {},
   "outputs": [],
   "source": [
    "data = pd.read_csv(r'C:\\Users\\muham\\Downloads\\shot_logs.csv')"
   ]
  },
  {
   "cell_type": "code",
   "execution_count": 32,
   "id": "satisfactory-terrain",
   "metadata": {},
   "outputs": [
    {
     "data": {
      "text/plain": [
       "GAME_ID                         int64\n",
       "MATCHUP                        object\n",
       "LOCATION                       object\n",
       "W                              object\n",
       "FINAL_MARGIN                    int64\n",
       "SHOT_NUMBER                     int64\n",
       "PERIOD                          int64\n",
       "GAME_CLOCK                     object\n",
       "SHOT_CLOCK                    float64\n",
       "DRIBBLES                        int64\n",
       "TOUCH_TIME                    float64\n",
       "SHOT_DIST                     float64\n",
       "PTS_TYPE                        int64\n",
       "SHOT_RESULT                    object\n",
       "CLOSEST_DEFENDER               object\n",
       "CLOSEST_DEFENDER_PLAYER_ID      int64\n",
       "CLOSE_DEF_DIST                float64\n",
       "FGM                             int64\n",
       "PTS                             int64\n",
       "player_name                    object\n",
       "player_id                       int64\n",
       "dtype: object"
      ]
     },
     "execution_count": 32,
     "metadata": {},
     "output_type": "execute_result"
    }
   ],
   "source": [
    "data.dtypes"
   ]
  },
  {
   "cell_type": "code",
   "execution_count": 33,
   "id": "wooden-affairs",
   "metadata": {},
   "outputs": [],
   "source": [
    "data.drop(['MATCHUP', 'W', 'LOCATION', 'GAME_CLOCK', 'SHOT_RESULT', 'CLOSEST_DEFENDER', 'player_name'], axis=1, inplace=True)"
   ]
  },
  {
   "cell_type": "code",
   "execution_count": 34,
   "id": "formed-annotation",
   "metadata": {},
   "outputs": [
    {
     "data": {
      "text/plain": [
       "GAME_ID                         int64\n",
       "FINAL_MARGIN                    int64\n",
       "SHOT_NUMBER                     int64\n",
       "PERIOD                          int64\n",
       "SHOT_CLOCK                    float64\n",
       "DRIBBLES                        int64\n",
       "TOUCH_TIME                    float64\n",
       "SHOT_DIST                     float64\n",
       "PTS_TYPE                        int64\n",
       "CLOSEST_DEFENDER_PLAYER_ID      int64\n",
       "CLOSE_DEF_DIST                float64\n",
       "FGM                             int64\n",
       "PTS                             int64\n",
       "player_id                       int64\n",
       "dtype: object"
      ]
     },
     "execution_count": 34,
     "metadata": {},
     "output_type": "execute_result"
    }
   ],
   "source": [
    "data.dtypes"
   ]
  },
  {
   "cell_type": "code",
   "execution_count": 35,
   "id": "experimental-label",
   "metadata": {},
   "outputs": [],
   "source": [
    "# Classification Models\n",
    "from keras.utils.np_utils import to_categorical\n",
    "predictors1 = data.drop(['SHOT_DIST'], axis=1)\n",
    "predictors = np.asarray(predictors1) \n",
    "target = data['SHOT_DIST']\n",
    "n_cols = predictors.shape[1]\n",
    "model1 = Sequential()\n",
    "model1.add(Dense(100, activation='relu'))\n",
    "model1.add(Dense(100, activation='relu'))\n",
    "model1.add(Dense(100, activation='relu'))\n",
    "model1.add(Dense(2, activation='softmax'))\n",
    "# Adam is a good optimizder choice\n",
    "model1.compile(optimizer='adam', loss='categorical_crossentropy', \n",
    "               metrics=['accuracy'])\n",
    "# we can then fit a model"
   ]
  },
  {
   "cell_type": "code",
   "execution_count": 36,
   "id": "coastal-asthma",
   "metadata": {},
   "outputs": [],
   "source": [
    "df = pd.read_csv(r'C:\\Users\\muham\\Downloads\\train (3).csv')"
   ]
  },
  {
   "cell_type": "code",
   "execution_count": 37,
   "id": "proprietary-somewhere",
   "metadata": {},
   "outputs": [
    {
     "data": {
      "text/plain": [
       "PassengerId      0\n",
       "Survived         0\n",
       "Pclass           0\n",
       "Name             0\n",
       "Sex              0\n",
       "Age            177\n",
       "SibSp            0\n",
       "Parch            0\n",
       "Ticket           0\n",
       "Fare             0\n",
       "Cabin          687\n",
       "Embarked         2\n",
       "dtype: int64"
      ]
     },
     "execution_count": 37,
     "metadata": {},
     "output_type": "execute_result"
    }
   ],
   "source": [
    "df.isnull().sum()"
   ]
  },
  {
   "cell_type": "code",
   "execution_count": 38,
   "id": "premium-contributor",
   "metadata": {},
   "outputs": [],
   "source": [
    "df.Age.fillna(df.Age.mode, inplace=True)"
   ]
  },
  {
   "cell_type": "code",
   "execution_count": 39,
   "id": "defined-storage",
   "metadata": {},
   "outputs": [],
   "source": [
    "df.Cabin.fillna(df.Cabin.mode, inplace=True)"
   ]
  },
  {
   "cell_type": "code",
   "execution_count": 40,
   "id": "dressed-touch",
   "metadata": {},
   "outputs": [],
   "source": [
    "df.Embarked.fillna(df.Embarked.mode, inplace=True)"
   ]
  },
  {
   "cell_type": "code",
   "execution_count": 41,
   "id": "continuous-clear",
   "metadata": {},
   "outputs": [
    {
     "data": {
      "text/html": [
       "<div>\n",
       "<style scoped>\n",
       "    .dataframe tbody tr th:only-of-type {\n",
       "        vertical-align: middle;\n",
       "    }\n",
       "\n",
       "    .dataframe tbody tr th {\n",
       "        vertical-align: top;\n",
       "    }\n",
       "\n",
       "    .dataframe thead th {\n",
       "        text-align: right;\n",
       "    }\n",
       "</style>\n",
       "<table border=\"1\" class=\"dataframe\">\n",
       "  <thead>\n",
       "    <tr style=\"text-align: right;\">\n",
       "      <th></th>\n",
       "      <th>PassengerId</th>\n",
       "      <th>Survived</th>\n",
       "      <th>Pclass</th>\n",
       "      <th>SibSp</th>\n",
       "      <th>Parch</th>\n",
       "      <th>Fare</th>\n",
       "    </tr>\n",
       "  </thead>\n",
       "  <tbody>\n",
       "    <tr>\n",
       "      <th>count</th>\n",
       "      <td>891.000000</td>\n",
       "      <td>891.000000</td>\n",
       "      <td>891.000000</td>\n",
       "      <td>891.000000</td>\n",
       "      <td>891.000000</td>\n",
       "      <td>891.000000</td>\n",
       "    </tr>\n",
       "    <tr>\n",
       "      <th>mean</th>\n",
       "      <td>446.000000</td>\n",
       "      <td>0.383838</td>\n",
       "      <td>2.308642</td>\n",
       "      <td>0.523008</td>\n",
       "      <td>0.381594</td>\n",
       "      <td>32.204208</td>\n",
       "    </tr>\n",
       "    <tr>\n",
       "      <th>std</th>\n",
       "      <td>257.353842</td>\n",
       "      <td>0.486592</td>\n",
       "      <td>0.836071</td>\n",
       "      <td>1.102743</td>\n",
       "      <td>0.806057</td>\n",
       "      <td>49.693429</td>\n",
       "    </tr>\n",
       "    <tr>\n",
       "      <th>min</th>\n",
       "      <td>1.000000</td>\n",
       "      <td>0.000000</td>\n",
       "      <td>1.000000</td>\n",
       "      <td>0.000000</td>\n",
       "      <td>0.000000</td>\n",
       "      <td>0.000000</td>\n",
       "    </tr>\n",
       "    <tr>\n",
       "      <th>25%</th>\n",
       "      <td>223.500000</td>\n",
       "      <td>0.000000</td>\n",
       "      <td>2.000000</td>\n",
       "      <td>0.000000</td>\n",
       "      <td>0.000000</td>\n",
       "      <td>7.910400</td>\n",
       "    </tr>\n",
       "    <tr>\n",
       "      <th>50%</th>\n",
       "      <td>446.000000</td>\n",
       "      <td>0.000000</td>\n",
       "      <td>3.000000</td>\n",
       "      <td>0.000000</td>\n",
       "      <td>0.000000</td>\n",
       "      <td>14.454200</td>\n",
       "    </tr>\n",
       "    <tr>\n",
       "      <th>75%</th>\n",
       "      <td>668.500000</td>\n",
       "      <td>1.000000</td>\n",
       "      <td>3.000000</td>\n",
       "      <td>1.000000</td>\n",
       "      <td>0.000000</td>\n",
       "      <td>31.000000</td>\n",
       "    </tr>\n",
       "    <tr>\n",
       "      <th>max</th>\n",
       "      <td>891.000000</td>\n",
       "      <td>1.000000</td>\n",
       "      <td>3.000000</td>\n",
       "      <td>8.000000</td>\n",
       "      <td>6.000000</td>\n",
       "      <td>512.329200</td>\n",
       "    </tr>\n",
       "  </tbody>\n",
       "</table>\n",
       "</div>"
      ],
      "text/plain": [
       "       PassengerId    Survived      Pclass       SibSp       Parch        Fare\n",
       "count   891.000000  891.000000  891.000000  891.000000  891.000000  891.000000\n",
       "mean    446.000000    0.383838    2.308642    0.523008    0.381594   32.204208\n",
       "std     257.353842    0.486592    0.836071    1.102743    0.806057   49.693429\n",
       "min       1.000000    0.000000    1.000000    0.000000    0.000000    0.000000\n",
       "25%     223.500000    0.000000    2.000000    0.000000    0.000000    7.910400\n",
       "50%     446.000000    0.000000    3.000000    0.000000    0.000000   14.454200\n",
       "75%     668.500000    1.000000    3.000000    1.000000    0.000000   31.000000\n",
       "max     891.000000    1.000000    3.000000    8.000000    6.000000  512.329200"
      ]
     },
     "execution_count": 41,
     "metadata": {},
     "output_type": "execute_result"
    }
   ],
   "source": [
    "df.describe()"
   ]
  },
  {
   "cell_type": "code",
   "execution_count": 43,
   "id": "foreign-finish",
   "metadata": {},
   "outputs": [],
   "source": [
    "# Import necessary modules\n",
    "import keras\n",
    "from keras.layers import Dense\n",
    "from keras.models import Sequential\n",
    "from keras.utils import to_categorical\n",
    "\n",
    "# Convert the target to categorical: target\n",
    "target = df.Survived\n",
    "n_cols = df.shape[0]\n",
    "# Set up the model\n",
    "model = Sequential()\n",
    "\n",
    "# Add the first layer\n",
    "model.add(Dense(32, activation='relu'))\n",
    "\n",
    "# Add the output layer\n",
    "model.add(Dense(2, activation='softmax'))\n",
    "\n",
    "# Compile the model\n",
    "model.compile(optimizer='sgd', \n",
    "              loss='categorical_crossentropy', \n",
    "              metrics=['accuracy'])\n",
    "\n",
    "# Fit the model\n",
    "# v = model.fit(df, target)"
   ]
  },
  {
   "cell_type": "markdown",
   "id": "sealed-munich",
   "metadata": {},
   "source": [
    "# Saving, Reloading and Using Model"
   ]
  },
  {
   "cell_type": "code",
   "execution_count": null,
   "id": "limiting-willow",
   "metadata": {},
   "outputs": [],
   "source": [
    "# from keras.models import load_model\n",
    "# model.save('model_file.h5')\n",
    "# my_model = load_ model('my_model.h5')\n",
    "# pred = my_model.predict(data to predict with)\n",
    "# prob_true = pred[:,1]"
   ]
  },
  {
   "cell_type": "markdown",
   "id": "natural-crystal",
   "metadata": {},
   "source": [
    "# Stochastic Gradient Descent"
   ]
  },
  {
   "cell_type": "code",
   "execution_count": 50,
   "id": "frank-collect",
   "metadata": {},
   "outputs": [],
   "source": [
    "def get_new_model(input_shape):\n",
    "    model = Sequential()\n",
    "    model = Sequential()\n",
    "    model.add(Dense(100, activation='relu', input_shape=input_shape))\n",
    "    model.add(Dense(100, activation='relu'))\n",
    "    model.add(Dense(2, activation='softmax'))\n",
    "    return(model)"
   ]
  },
  {
   "cell_type": "code",
   "execution_count": 64,
   "id": "motivated-halloween",
   "metadata": {},
   "outputs": [],
   "source": [
    "from keras.optimizers import SGD \n",
    "lr_to_test = [.000001, 0.01, 1]\n",
    "# loop over learning rates\n",
    "# for lr in lr_to_test:\n",
    "    # model = get_new_model(input_shape=input_shape)\n",
    "    #my_optimizer = SGD(lr=lr)\n",
    "    #model.compile(optimizer = my_optimizer, loss = 'categorical_crossentropy')  \n",
    "    # we can then fit the model"
   ]
  },
  {
   "cell_type": "markdown",
   "id": "sitting-polish",
   "metadata": {},
   "source": [
    "# Model Validation"
   ]
  },
  {
   "cell_type": "raw",
   "id": "enormous-detector",
   "metadata": {},
   "source": [
    "# Early Stopping Monitors"
   ]
  },
  {
   "cell_type": "code",
   "execution_count": 66,
   "id": "enclosed-wednesday",
   "metadata": {},
   "outputs": [],
   "source": [
    "from keras.callbacks import EarlyStopping\n",
    "early_stopping_monitor = EarlyStopping(patience=2)"
   ]
  },
  {
   "cell_type": "code",
   "execution_count": 67,
   "id": "based-furniture",
   "metadata": {},
   "outputs": [],
   "source": [
    "# Fit the model\n",
    "# Model.compile(predictors, target, validation_split=0.3, nb_epoch=20,call_backs =[early_stopping_monitor])"
   ]
  },
  {
   "cell_type": "code",
   "execution_count": null,
   "id": "possible-evolution",
   "metadata": {},
   "outputs": [],
   "source": [
    "# Experimenting with wider networks"
   ]
  },
  {
   "cell_type": "code",
   "execution_count": 68,
   "id": "incorrect-gauge",
   "metadata": {},
   "outputs": [],
   "source": [
    "# Define early_stopping_monitor\n",
    "##early_stopping_monitor = EarlyStopping(patience=2)\n",
    "\n",
    "# Create the new model: model_2\n",
    "##model_2 = Sequential()\n",
    "\n",
    "# Add the first and second layers\n",
    "##model_2.add(Dense(100, activation='relu', input_shape=input_shape))\n",
    "##model_2.add(Dense(100, activation='relu'))\n",
    "\n",
    "# Add the output layer\n",
    "##model_2.add(Dense(2, activation='softmax'))\n",
    "\n",
    "# Compile model_2\n",
    "##model_2.compile(optimizer='adam', loss='categorical_crossentropy', metrics=['accuracy'])\n",
    "\n",
    "# Fit model_1\n",
    "##model_1_training = model_1.fit(predictors, target, epochs=15, validation_split=0.2, callbacks=[early_stopping_monitor], verbose=False)\n",
    "\n",
    "# Fit model_2\n",
    "##model_2_training = model_2.fit(predictors, target, epochs=15, validation_split=0.2, callbacks=[early_stopping_monitor], verbose=False)\n",
    "\n",
    "# Create the plot\n",
    "##plt.plot(model_1_training.history['val_loss'], 'r', model_2_training.history['val_loss'], 'b')\n",
    "##plt.xlabel('Epochs')\n",
    "##plt.ylabel('Validation score')\n",
    "##plt.show()"
   ]
  },
  {
   "cell_type": "code",
   "execution_count": 69,
   "id": "structured-consistency",
   "metadata": {},
   "outputs": [],
   "source": [
    "# Stepping Up to Images \n",
    "# Building your own Digit recognition Model\n",
    "# Create the model: model\n",
    "## model = Sequential()\n",
    "\n",
    "# Add the first hidden layer\n",
    "##model.add(Dense(50, activation='relu', input_shape=(784,)))\n",
    "\n",
    "# Add the second hidden layer\n",
    "##model.add(Dense(50, activation='relu'))\n",
    "\n",
    "# Add the output layer\n",
    "##model.add(Dense(10, activation='softmax'))\n",
    "\n",
    "# Compile the model\n",
    "##model.compile(optimizer='adam',\n",
    "              ##loss='categorical_crossentropy',\n",
    "              ##metrics=['accuracy'])\n",
    "\n",
    "# Fit the model\n",
    "##model.fit(X, y, validation_split=0.3)\n"
   ]
  },
  {
   "cell_type": "code",
   "execution_count": null,
   "id": "waiting-semester",
   "metadata": {},
   "outputs": [],
   "source": []
  }
 ],
 "metadata": {
  "kernelspec": {
   "display_name": "Python 3",
   "language": "python",
   "name": "python3"
  },
  "language_info": {
   "codemirror_mode": {
    "name": "ipython",
    "version": 3
   },
   "file_extension": ".py",
   "mimetype": "text/x-python",
   "name": "python",
   "nbconvert_exporter": "python",
   "pygments_lexer": "ipython3",
   "version": "3.8.5"
  }
 },
 "nbformat": 4,
 "nbformat_minor": 5
}

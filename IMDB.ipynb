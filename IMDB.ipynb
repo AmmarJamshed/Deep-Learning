{
 "cells": [
  {
   "cell_type": "markdown",
   "metadata": {},
   "source": [
    "1. Run IMDB\n",
    "- Experiment with one and three hidden layers\n",
    "- Experiment with more or fewer hidden units - 32 units, 64 units etc.\n",
    "- Investigate replacing the `binary_crossentropy` loss function with `mse`\n",
    "- Experiment with replacing `relu` with `tanh` activations\n",
    "- Investigate the effect of different learning rates\n",
    "- Take your best network and train on all the training data for the optimal epochs. Evaluate on the test set"
   ]
  },
  {
   "cell_type": "code",
   "execution_count": 1,
   "metadata": {},
   "outputs": [
    {
     "name": "stdout",
     "output_type": "stream",
     "text": [
      "Epoch 1/20\n",
      "30/30 [==============================] - 17s 578ms/step - loss: 0.5496 - accuracy: 0.7708 - val_loss: 0.4161 - val_accuracy: 0.8632\n",
      "Epoch 2/20\n",
      "30/30 [==============================] - 9s 316ms/step - loss: 0.3378 - accuracy: 0.8962 - val_loss: 0.3613 - val_accuracy: 0.8620\n",
      "Epoch 3/20\n",
      "30/30 [==============================] - 7s 241ms/step - loss: 0.2476 - accuracy: 0.9253 - val_loss: 0.2920 - val_accuracy: 0.8896\n",
      "Epoch 4/20\n",
      "30/30 [==============================] - 7s 223ms/step - loss: 0.1941 - accuracy: 0.9391 - val_loss: 0.2758 - val_accuracy: 0.8913\n",
      "Epoch 5/20\n",
      "30/30 [==============================] - 8s 278ms/step - loss: 0.1593 - accuracy: 0.9500 - val_loss: 0.3401 - val_accuracy: 0.8647\n",
      "Epoch 6/20\n",
      "30/30 [==============================] - 6s 197ms/step - loss: 0.1309 - accuracy: 0.9619 - val_loss: 0.2944 - val_accuracy: 0.8861\n",
      "Epoch 7/20\n",
      "30/30 [==============================] - 7s 242ms/step - loss: 0.1099 - accuracy: 0.9673 - val_loss: 0.2999 - val_accuracy: 0.8845\n",
      "Epoch 8/20\n",
      "30/30 [==============================] - 6s 199ms/step - loss: 0.0939 - accuracy: 0.9733 - val_loss: 0.3506 - val_accuracy: 0.8751\n",
      "Epoch 9/20\n",
      "30/30 [==============================] - 5s 164ms/step - loss: 0.0766 - accuracy: 0.9813 - val_loss: 0.3572 - val_accuracy: 0.8783\n",
      "Epoch 10/20\n",
      "30/30 [==============================] - 7s 217ms/step - loss: 0.0637 - accuracy: 0.9841 - val_loss: 0.3660 - val_accuracy: 0.8803\n",
      "Epoch 11/20\n",
      "30/30 [==============================] - 6s 207ms/step - loss: 0.0544 - accuracy: 0.9873 - val_loss: 0.3799 - val_accuracy: 0.8789\n",
      "Epoch 12/20\n",
      "30/30 [==============================] - 5s 169ms/step - loss: 0.0450 - accuracy: 0.9904 - val_loss: 0.4137 - val_accuracy: 0.8771\n",
      "Epoch 13/20\n",
      "30/30 [==============================] - 7s 220ms/step - loss: 0.0365 - accuracy: 0.9936 - val_loss: 0.4260 - val_accuracy: 0.8736\n",
      "Epoch 14/20\n",
      "30/30 [==============================] - 6s 204ms/step - loss: 0.0297 - accuracy: 0.9955 - val_loss: 0.4733 - val_accuracy: 0.8734\n",
      "Epoch 15/20\n",
      "30/30 [==============================] - 6s 199ms/step - loss: 0.0248 - accuracy: 0.9964 - val_loss: 0.5029 - val_accuracy: 0.8728\n",
      "Epoch 16/20\n",
      "30/30 [==============================] - 5s 167ms/step - loss: 0.0202 - accuracy: 0.9971 - val_loss: 0.5103 - val_accuracy: 0.8688\n",
      "Epoch 17/20\n",
      "30/30 [==============================] - 5s 178ms/step - loss: 0.0152 - accuracy: 0.9982 - val_loss: 0.5455 - val_accuracy: 0.8707\n",
      "Epoch 18/20\n",
      "30/30 [==============================] - 5s 165ms/step - loss: 0.0118 - accuracy: 0.9989 - val_loss: 0.6605 - val_accuracy: 0.8641\n",
      "Epoch 19/20\n",
      "30/30 [==============================] - 5s 173ms/step - loss: 0.0094 - accuracy: 0.9991 - val_loss: 0.6307 - val_accuracy: 0.8685\n",
      "Epoch 20/20\n",
      "30/30 [==============================] - 5s 160ms/step - loss: 0.0084 - accuracy: 0.9993 - val_loss: 0.6461 - val_accuracy: 0.8684\n"
     ]
    }
   ],
   "source": [
    "# IMDB\n",
    "\n",
    "from tensorflow.keras.datasets import imdb\n",
    "import numpy as np\n",
    "\n",
    "def vectorize_sequences(sequences, dimension = 10000):\n",
    "    results = np.zeros( (len(sequences), dimension) )\n",
    "    for i, sequence in enumerate(sequences):\n",
    "        results[i, sequence] = 1.\n",
    "    return results\n",
    "\n",
    "# load\n",
    "((train_data, train_labels), (test_data, test_labels)) = imdb.load_data(num_words = 10000)\n",
    "\n",
    "# preprocess\n",
    "x_train = vectorize_sequences(train_data)\n",
    "x_test = vectorize_sequences(test_data)\n",
    "\n",
    "y_train = np.asarray(train_labels).astype('float32')\n",
    "y_test = np.asarray(test_labels).astype('float32')\n",
    "\n",
    "# build\n",
    "from tensorflow.keras import models\n",
    "from tensorflow.keras import layers\n",
    "model = models.Sequential()\n",
    "model.add(layers.Dense(16, activation = 'relu', input_shape = (10000,)))\n",
    "model.add(layers.Dense(16, activation = 'relu'))\n",
    "model.add(layers.Dense(1, activation = 'sigmoid'))\n",
    "\n",
    "model.compile(optimizer='rmsprop',\n",
    "             loss='binary_crossentropy',\n",
    "             metrics=['accuracy'])\n",
    "\n",
    "# train\n",
    "x_val = x_train[:10000]\n",
    "partial_x_train = x_train[10000:]\n",
    "y_val = y_train[:10000]\n",
    "partial_y_train = y_train[10000:]\n",
    "\n",
    "history = model.fit(partial_x_train, \n",
    "                    partial_y_train,\n",
    "                    epochs = 20,\n",
    "                    batch_size = 512,\n",
    "                    validation_data = (x_val, y_val)) "
   ]
  },
  {
   "cell_type": "code",
   "execution_count": 2,
   "metadata": {},
   "outputs": [
    {
     "data": {
      "text/plain": [
       "dict_keys(['loss', 'accuracy', 'val_loss', 'val_accuracy'])"
      ]
     },
     "execution_count": 2,
     "metadata": {},
     "output_type": "execute_result"
    }
   ],
   "source": [
    "history_dict = history.history\n",
    "history_dict.keys()"
   ]
  },
  {
   "cell_type": "code",
   "execution_count": 3,
   "metadata": {},
   "outputs": [
    {
     "data": {
      "text/plain": [
       "[0.5496282577514648,\n",
       " 0.3378387689590454,\n",
       " 0.24763157963752747,\n",
       " 0.19407957792282104,\n",
       " 0.15929082036018372,\n",
       " 0.13086581230163574,\n",
       " 0.10993460565805435,\n",
       " 0.09388826042413712,\n",
       " 0.07656102627515793,\n",
       " 0.06372390687465668,\n",
       " 0.05443757399916649,\n",
       " 0.044986579567193985,\n",
       " 0.03647986426949501,\n",
       " 0.029682623222470284,\n",
       " 0.02478286623954773,\n",
       " 0.020169466733932495,\n",
       " 0.015200971625745296,\n",
       " 0.01176106184720993,\n",
       " 0.009430011734366417,\n",
       " 0.008418984711170197]"
      ]
     },
     "execution_count": 3,
     "metadata": {},
     "output_type": "execute_result"
    }
   ],
   "source": [
    "history_dict['loss']"
   ]
  },
  {
   "cell_type": "code",
   "execution_count": 4,
   "metadata": {},
   "outputs": [
    {
     "data": {
      "image/png": "[encoded data removed]",
      "text/plain": [
       "<Figure size 432x288 with 1 Axes>"
      ]
     },
     "metadata": {
      "needs_background": "light"
     },
     "output_type": "display_data"
    }
   ],
   "source": [
    "import matplotlib.pyplot as plt\n",
    "    \n",
    "loss = history_dict['loss']\n",
    "val_loss = history_dict['val_loss']\n",
    "\n",
    "epochs = range(1, len(loss) + 1)\n",
    "\n",
    "blue_dots = 'bo'\n",
    "solid_blue_line = 'b'\n",
    "\n",
    "plt.plot(epochs, loss, blue_dots, label = 'Training loss')\n",
    "plt.plot(epochs, val_loss, solid_blue_line, label = 'Validation loss')\n",
    "plt.title('Training and validation loss')\n",
    "plt.xlabel('Epochs')\n",
    "plt.ylabel('Loss')\n",
    "plt.legend()\n",
    "\n",
    "plt.show()"
   ]
  },
  {
   "cell_type": "code",
   "execution_count": 5,
   "metadata": {},
   "outputs": [
    {
     "data": {
      "text/plain": [
       "[0.770799994468689,\n",
       " 0.8962000012397766,\n",
       " 0.9253333210945129,\n",
       " 0.9390666484832764,\n",
       " 0.949999988079071,\n",
       " 0.9618666768074036,\n",
       " 0.9673333168029785,\n",
       " 0.9732666611671448,\n",
       " 0.9812666773796082,\n",
       " 0.9840666651725769,\n",
       " 0.9872666597366333,\n",
       " 0.9904000163078308,\n",
       " 0.9936000108718872,\n",
       " 0.9954666495323181,\n",
       " 0.996399998664856,\n",
       " 0.9971333146095276,\n",
       " 0.998199999332428,\n",
       " 0.9988666772842407,\n",
       " 0.9991333484649658,\n",
       " 0.9992666840553284]"
      ]
     },
     "execution_count": 5,
     "metadata": {},
     "output_type": "execute_result"
    }
   ],
   "source": [
    "history_dict['accuracy']"
   ]
  },
  {
   "cell_type": "code",
   "execution_count": 7,
   "metadata": {},
   "outputs": [
    {
     "data": {
      "image/png": "[encoded data removed]",
      "text/plain": [
       "<Figure size 432x288 with 1 Axes>"
      ]
     },
     "metadata": {
      "needs_background": "light"
     },
     "output_type": "display_data"
    }
   ],
   "source": [
    "plt.clf()\n",
    "\n",
    "acc = history_dict['accuracy']\n",
    "val_acc = history_dict['val_accuracy']\n",
    "    \n",
    "epochs = range(1, len(acc) + 1)\n",
    "\n",
    "blue_dots = 'bo'\n",
    "solid_blue_line = 'b'\n",
    "    \n",
    "plt.plot(epochs, acc, blue_dots, label = 'Training acc')\n",
    "plt.plot(epochs, val_acc, solid_blue_line, label = 'Validation acc')\n",
    "plt.title('Training and validation acc')\n",
    "plt.xlabel('Epochs')\n",
    "plt.ylabel('Accuracy')\n",
    "plt.legend()\n",
    "\n",
    "plt.show()"
   ]
  }
 ],
 "metadata": {
  "kernelspec": {
   "display_name": "Python 3",
   "language": "python",
   "name": "python3"
  },
  "language_info": {
   "codemirror_mode": {
    "name": "ipython",
    "version": 3
   },
   "file_extension": ".py",
   "mimetype": "text/x-python",
   "name": "python",
   "nbconvert_exporter": "python",
   "pygments_lexer": "ipython3",
   "version": "3.8.5"
  }
 },
 "nbformat": 4,
 "nbformat_minor": 4
}

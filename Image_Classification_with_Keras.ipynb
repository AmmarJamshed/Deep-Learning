{
  "cells": [
    {
      "cell_type": "markdown",
      "metadata": {
        "id": "CvYEStnu1C2c"
      },
      "source": [
        "# Training a Computer to Differentiate Cats"
      ]
    },
    {
      "cell_type": "code",
      "source": [
        "from google.colab import drive\n",
        "drive.mount('/content/drive')"
      ],
      "metadata": {
        "colab": {
          "base_uri": "https://localhost:8080/"
        },
        "id": "vhkrAyHi1M_c",
        "outputId": "5c8e4dd5-e0c8-4088-e098-a9615c69398a"
      },
      "execution_count": 8,
      "outputs": [
        {
          "output_type": "stream",
          "name": "stdout",
          "text": [
            "Mounted at /content/drive\n"
          ]
        }
      ]
    },
    {
      "cell_type": "code",
      "source": [
        "%cd /content/drive/MyDrive/cnn"
      ],
      "metadata": {
        "colab": {
          "base_uri": "https://localhost:8080/"
        },
        "id": "2dechjAb1Lwv",
        "outputId": "6ca54817-fccc-4278-e6f8-97f68c48b663"
      },
      "execution_count": 9,
      "outputs": [
        {
          "output_type": "stream",
          "name": "stdout",
          "text": [
            "/content/drive/MyDrive/cnn\n"
          ]
        }
      ]
    },
    {
      "cell_type": "code",
      "execution_count": 10,
      "metadata": {
        "colab": {
          "base_uri": "https://localhost:8080/"
        },
        "id": "FM8F5SIM1C2g",
        "outputId": "931edf04-dafb-48aa-d17c-826738bf3278"
      },
      "outputs": [
        {
          "output_type": "stream",
          "name": "stdout",
          "text": [
            "2.7.0\n"
          ]
        }
      ],
      "source": [
        "import tensorflow as tf\n",
        "print(tf.__version__)"
      ]
    },
    {
      "cell_type": "code",
      "execution_count": 11,
      "metadata": {
        "colab": {
          "base_uri": "https://localhost:8080/"
        },
        "id": "uZMJFigc1C2k",
        "outputId": "daeb8dab-4817-4367-b95b-0ef8562b28e9"
      },
      "outputs": [
        {
          "output_type": "stream",
          "name": "stdout",
          "text": [
            "2.7.0\n"
          ]
        }
      ],
      "source": [
        "import keras as keras\n",
        "print(keras.__version__)"
      ]
    },
    {
      "cell_type": "code",
      "execution_count": 32,
      "metadata": {
        "id": "UDI3Hq-L1C2l"
      },
      "outputs": [],
      "source": [
        "from keras.models import Sequential, load_model\n",
        "from keras.layers import Dense, Activation, Dropout\n",
        "from tensorflow.keras.layers import (\n",
        "    BatchNormalization, SeparableConv2D, MaxPooling2D, Activation, Flatten, Dropout, Dense\n",
        ")\n",
        "from tensorflow.keras import backend as K\n",
        "from tensorflow.keras.optimizers import SGD, Adam\n",
        "from keras import regularizers\n",
        "import numpy as np\n",
        "import pandas as pd\n",
        "import matplotlib.pyplot as plt\n",
        "import h5py\n",
        "\n",
        "%matplotlib inline\n",
        "np.random.seed(1)"
      ]
    },
    {
      "cell_type": "code",
      "execution_count": 13,
      "metadata": {
        "id": "h8kwBmqb1C2m"
      },
      "outputs": [],
      "source": [
        "plt.rcParams['figure.figsize'] = (8.0, 8.0) # set default size of plots\n",
        "plt.rcParams['image.interpolation'] = 'nearest'\n",
        "plt.rcParams['image.cmap'] = 'gray'\n",
        "\n",
        "np.random.seed(1)"
      ]
    },
    {
      "cell_type": "markdown",
      "metadata": {
        "id": "tpL5EpFj1C2n"
      },
      "source": [
        "## 1 - Overview of the data set\n",
        "\n",
        "First of all, we'll load the data. After loading, here's a basic overview;\n",
        "\n",
        "- a training set of m_train images labeled as cat (y=1) or non-cat (y=0)\n",
        "- a test set of m_test images labeled as cat or non-cat\n",
        "- each image is of shape (num_px, num_px, 3) where 3 is for the 3 channels (RGB). Thus, each image is square (height = num_px) and (width = num_px)."
      ]
    },
    {
      "cell_type": "code",
      "execution_count": 15,
      "metadata": {
        "id": "_8NU6wGy1C2o"
      },
      "outputs": [],
      "source": [
        "train_dataset = h5py.File('/content/drive/MyDrive/cnn/train.h5', \"r\")\n",
        "train_set_x_orig = np.array(train_dataset[\"train_set_x\"][:]) # train set features\n",
        "train_set_y_orig = np.array(train_dataset[\"train_set_y\"][:]) # train set labels\n",
        "\n",
        "test_dataset = h5py.File('/content/drive/MyDrive/cnn/test.h5', \"r\")\n",
        "test_set_x_orig = np.array(test_dataset[\"test_set_x\"][:]) # test set features\n",
        "test_set_y_orig = np.array(test_dataset[\"test_set_y\"][:]) # test set labels"
      ]
    },
    {
      "cell_type": "code",
      "execution_count": 16,
      "metadata": {
        "colab": {
          "base_uri": "https://localhost:8080/"
        },
        "id": "ysSEa3QV1C2p",
        "outputId": "820960fe-153c-433e-da8f-2ffe5825e338"
      },
      "outputs": [
        {
          "output_type": "execute_result",
          "data": {
            "text/plain": [
              "array([b'non-cat', b'cat'], dtype='|S7')"
            ]
          },
          "metadata": {},
          "execution_count": 16
        }
      ],
      "source": [
        "classes = np.array(test_dataset[\"list_classes\"][:]) # the list of classes\n",
        "classes"
      ]
    },
    {
      "cell_type": "code",
      "execution_count": 17,
      "metadata": {
        "colab": {
          "base_uri": "https://localhost:8080/"
        },
        "id": "FMA5Yk0k1C2q",
        "outputId": "4b1fd8e4-f53e-40ec-88c2-40058caac485"
      },
      "outputs": [
        {
          "output_type": "stream",
          "name": "stdout",
          "text": [
            "(1, 209)\n",
            "(1, 50)\n"
          ]
        }
      ],
      "source": [
        "train_set_y = train_set_y_orig.reshape((1, train_set_y_orig.shape[0]))\n",
        "test_set_y = test_set_y_orig.reshape((1, test_set_y_orig.shape[0]))\n",
        "print(train_set_y.shape)\n",
        "print(test_set_y.shape)"
      ]
    },
    {
      "cell_type": "markdown",
      "metadata": {
        "id": "gkoex7t_1C2r"
      },
      "source": [
        "Each line of train_set_x_orig and test_set_x_orig is an array representing an image. You can visualize an example by running the following code. Feel free also to change the index value and re-run to see other images."
      ]
    },
    {
      "cell_type": "code",
      "execution_count": 18,
      "metadata": {
        "colab": {
          "base_uri": "https://localhost:8080/"
        },
        "id": "83lmwigP1C2r",
        "outputId": "5bd8bf21-f8be-4363-bd51-a96b1b74435e"
      },
      "outputs": [
        {
          "output_type": "execute_result",
          "data": {
            "text/plain": [
              "array([[[ 75,  64,  63],\n",
              "        [ 75,  65,  63],\n",
              "        [ 78,  67,  65],\n",
              "        ...,\n",
              "        [ 70,  59,  56],\n",
              "        [ 69,  56,  54],\n",
              "        [ 68,  55,  54]],\n",
              "\n",
              "       [[ 79,  68,  65],\n",
              "        [ 77,  67,  64],\n",
              "        [ 79,  70,  68],\n",
              "        ...,\n",
              "        [ 73,  62,  59],\n",
              "        [ 70,  59,  55],\n",
              "        [ 68,  55,  53]],\n",
              "\n",
              "       [[ 80,  69,  66],\n",
              "        [ 83,  71,  67],\n",
              "        [ 85,  73,  71],\n",
              "        ...,\n",
              "        [ 75,  64,  60],\n",
              "        [ 71,  61,  57],\n",
              "        [ 69,  58,  56]],\n",
              "\n",
              "       ...,\n",
              "\n",
              "       [[105,  91,  93],\n",
              "        [101,  87,  90],\n",
              "        [100,  87,  88],\n",
              "        ...,\n",
              "        [ 91,  79,  79],\n",
              "        [ 87,  76,  76],\n",
              "        [ 87,  77,  76]],\n",
              "\n",
              "       [[100,  86,  86],\n",
              "        [ 99,  84,  86],\n",
              "        [ 93,  80,  83],\n",
              "        ...,\n",
              "        [ 90,  79,  79],\n",
              "        [ 86,  75,  75],\n",
              "        [ 83,  73,  70]],\n",
              "\n",
              "       [[ 98,  83,  84],\n",
              "        [ 97,  81,  83],\n",
              "        [ 94,  81,  83],\n",
              "        ...,\n",
              "        [ 87,  77,  75],\n",
              "        [ 83,  73,  71],\n",
              "        [ 80,  69,  67]]], dtype=uint8)"
            ]
          },
          "metadata": {},
          "execution_count": 18
        }
      ],
      "source": [
        "train_set_x_orig[109]"
      ]
    },
    {
      "cell_type": "code",
      "execution_count": 19,
      "metadata": {
        "scrolled": true,
        "colab": {
          "base_uri": "https://localhost:8080/",
          "height": 500
        },
        "id": "ri2rMDcQ1C2s",
        "outputId": "ea301b6c-e5e2-4eeb-e260-99e73b6ac36d"
      },
      "outputs": [
        {
          "output_type": "stream",
          "name": "stdout",
          "text": [
            "y = [1], it's a 'cat' picture.\n"
          ]
        },
        {
          "output_type": "display_data",
          "data": {
            "image/png": "[encoded data removed]",
            "text/plain": [
              "<Figure size 576x576 with 1 Axes>"
            ]
          },
          "metadata": {
            "needs_background": "light"
          }
        }
      ],
      "source": [
        "# Example of a picture\n",
        "index = 109\n",
        "plt.imshow(train_set_x_orig[index])\n",
        "print (\"y = \" + str(train_set_y[:, index]) + \", it's a '\" + classes[np.squeeze(train_set_y[:, index])].decode(\"utf-8\") +  \"' picture.\")"
      ]
    },
    {
      "cell_type": "markdown",
      "metadata": {
        "id": "x9Zu27SF1C2t"
      },
      "source": [
        "## 2 - Data preprocessing\n",
        "\n",
        "Common steps for pre-processing a new dataset are:\n",
        "\n",
        "- Figure out the dimensions and shapes of the problem (m_train, m_test, num_px, ...)\n",
        "- Reshape the datasets such that each example is now a vector of size (num_px * num_px * 3, 1)\n",
        "- \"Standardize\" the data\n",
        "\n",
        "Many software bugs in deep learning come from having matrix/vector dimensions that don't fit. If you can keep your matrix/vector dimensions straight you will go a long way toward eliminating many bugs."
      ]
    },
    {
      "cell_type": "markdown",
      "metadata": {
        "id": "_7DcdN7O1C2u"
      },
      "source": [
        "### 2.1 Dimensions of our data"
      ]
    },
    {
      "cell_type": "code",
      "execution_count": 20,
      "metadata": {
        "colab": {
          "base_uri": "https://localhost:8080/"
        },
        "id": "z1fR2X2n1C2v",
        "outputId": "e68c6137-6fa9-4297-b126-65b077da1aa6"
      },
      "outputs": [
        {
          "output_type": "execute_result",
          "data": {
            "text/plain": [
              "64"
            ]
          },
          "metadata": {},
          "execution_count": 20
        }
      ],
      "source": [
        "train_set_x_orig.shape[2]"
      ]
    },
    {
      "cell_type": "code",
      "execution_count": 21,
      "metadata": {
        "scrolled": true,
        "colab": {
          "base_uri": "https://localhost:8080/"
        },
        "id": "G-u_-G_W1C2w",
        "outputId": "ee2c482f-0b63-4474-e22f-454af979f5b8"
      },
      "outputs": [
        {
          "output_type": "stream",
          "name": "stdout",
          "text": [
            "Dataset dimensions:\n",
            "Number of training examples: m_train = 209\n",
            "Number of testing examples: m_test = 50\n",
            "Height/Width of each image: num_px = 64\n",
            "Each image is of size: (64, 64, 3)\n"
          ]
        }
      ],
      "source": [
        "m_train = train_set_x_orig.shape[0]\n",
        "m_test = test_set_x_orig.shape[0]\n",
        "num_px = train_set_x_orig.shape[1]\n",
        "\n",
        "print (\"Dataset dimensions:\")\n",
        "print (\"Number of training examples: m_train = \" + str(m_train))\n",
        "print (\"Number of testing examples: m_test = \" + str(m_test))\n",
        "print (\"Height/Width of each image: num_px = \" + str(num_px))\n",
        "print (\"Each image is of size: (\" + str(num_px) + \", \" + str(num_px) + \", 3)\")"
      ]
    },
    {
      "cell_type": "code",
      "execution_count": 22,
      "metadata": {
        "colab": {
          "base_uri": "https://localhost:8080/"
        },
        "id": "D36tBrd31C2y",
        "outputId": "048a6170-b44d-412c-8181-a3e42395a63f"
      },
      "outputs": [
        {
          "output_type": "stream",
          "name": "stdout",
          "text": [
            "train_set_x shape: (209, 64, 64, 3)\n",
            "train_set_y shape: (1, 209)\n",
            "test_set_x shape: (50, 64, 64, 3)\n",
            "test_set_y shape: (1, 50)\n"
          ]
        }
      ],
      "source": [
        "print (\"train_set_x shape: \" + str(train_set_x_orig.shape))\n",
        "print (\"train_set_y shape: \" + str(train_set_y.shape))\n",
        "print (\"test_set_x shape: \" + str(test_set_x_orig.shape))\n",
        "print (\"test_set_y shape: \" + str(test_set_y.shape))"
      ]
    },
    {
      "cell_type": "markdown",
      "metadata": {
        "id": "jZycrdWY1C2z"
      },
      "source": [
        "### 2.2 Reshaping data"
      ]
    },
    {
      "cell_type": "markdown",
      "metadata": {
        "id": "sFVvTZvF1C2z"
      },
      "source": [
        "For convenience, we now reshape images of shape (num_px, num_px, 3) in a numpy-array of shape (num_px $*$ num_px $*$ 3, 1). After this, our training (and test) dataset is a numpy-array where each column represents a flattened image. There should be m_train (respectively m_test) columns.\n",
        "\n",
        "A trick when you want to flatten a matrix X of shape (a,b,c,d) to a matrix X_flatten of shape (b$*$c$*$d, a) is to use:\n",
        "\n",
        "    X_flatten = X.reshape(X.shape[0], -1).T      # X.T is the transpose of X"
      ]
    },
    {
      "cell_type": "code",
      "execution_count": 23,
      "metadata": {
        "colab": {
          "base_uri": "https://localhost:8080/"
        },
        "id": "hYt1gnlk1C20",
        "outputId": "64d08963-29b2-4080-fe57-3007d6b356c1"
      },
      "outputs": [
        {
          "output_type": "stream",
          "name": "stdout",
          "text": [
            "train_set_x_flatten shape: (209, 12288)\n",
            "train_set_y shape: (209, 1)\n",
            "test_set_x_flatten shape: (50, 12288)\n",
            "test_set_y shape: (50, 1)\n"
          ]
        }
      ],
      "source": [
        "# Reshape the training and test examples\n",
        "\n",
        "train_set_x_flatten = train_set_x_orig.reshape(train_set_x_orig.shape[0], -1)\n",
        "test_set_x_flatten = test_set_x_orig.reshape(test_set_x_orig.shape[0], -1)\n",
        "train_set_y = train_set_y.T\n",
        "test_set_y = test_set_y.T\n",
        "\n",
        "print (\"train_set_x_flatten shape: \" + str(train_set_x_flatten.shape))\n",
        "print (\"train_set_y shape: \" + str(train_set_y.shape))\n",
        "print (\"test_set_x_flatten shape: \" + str(test_set_x_flatten.shape))\n",
        "print (\"test_set_y shape: \" + str(test_set_y.shape))"
      ]
    },
    {
      "cell_type": "markdown",
      "metadata": {
        "id": "_5cag9K61C22"
      },
      "source": [
        "### 2.3 Standardizing data"
      ]
    },
    {
      "cell_type": "markdown",
      "metadata": {
        "id": "cL7HpQvN1C23"
      },
      "source": [
        "One common preprocessing step in machine learning is to center and standardize your dataset, meaning that you substract the mean of the whole numpy array from each example, and then divide each example by the standard deviation of the whole numpy array. But for picture datasets, it is simpler and more convenient and works almost as well to just divide every row of the dataset by 255 (the maximum value of a pixel channel).\n",
        "\n",
        "Let's standardize our dataset."
      ]
    },
    {
      "cell_type": "code",
      "execution_count": 24,
      "metadata": {
        "id": "mvx2FEfY1C23"
      },
      "outputs": [],
      "source": [
        "train_set_x = train_set_x_flatten/255.\n",
        "test_set_x = test_set_x_flatten/255."
      ]
    },
    {
      "cell_type": "code",
      "execution_count": 25,
      "metadata": {
        "colab": {
          "base_uri": "https://localhost:8080/"
        },
        "id": "1IzTwyPX1C24",
        "outputId": "be04a395-0a03-426f-bac2-d78079ed72d7"
      },
      "outputs": [
        {
          "output_type": "execute_result",
          "data": {
            "text/plain": [
              "(209, 12288)"
            ]
          },
          "metadata": {},
          "execution_count": 25
        }
      ],
      "source": [
        "train_set_x.shape"
      ]
    },
    {
      "cell_type": "markdown",
      "metadata": {
        "id": "tPSHRYI41C25"
      },
      "source": [
        "## 3 - Modeling"
      ]
    },
    {
      "cell_type": "code",
      "execution_count": 34,
      "metadata": {
        "id": "NOsmD9Co1C26"
      },
      "outputs": [],
      "source": [
        "from numpy.random import seed\n",
        "seed(1)\n",
        "import tensorflow\n",
        "tensorflow.random.set_seed(2)"
      ]
    },
    {
      "cell_type": "code",
      "execution_count": 43,
      "metadata": {
        "id": "kawjP4v_1C27"
      },
      "outputs": [],
      "source": [
        "# Utility function\n",
        "def evaluate_this_model(model):\n",
        "    history = model.fit(train_set_x, train_set_y, epochs=50, verbose=True)\n",
        "    results = model.evaluate(test_set_x, test_set_y)\n",
        "    \n",
        "    plt.plot(np.squeeze(history.history[\"loss\"]))\n",
        "    plt.ylabel('cost')\n",
        "    plt.xlabel('iterations (per tens)')\n",
        "    plt.title(\"Learning rate =\" + str(learning_rate))\n",
        "    plt.show()\n",
        "    \n",
        "    print(\"\\n\\nAccuracy on training set is {}\".format(history.history[\"accuracy\"][-1]))\n",
        "    print(\"\\nAccuracy on test set is {}\".format(results[1]))"
      ]
    },
    {
      "cell_type": "markdown",
      "metadata": {
        "id": "7DZzrilV1C28"
      },
      "source": [
        "### 3.1 Starting with a basic model"
      ]
    },
    {
      "cell_type": "code",
      "execution_count": 44,
      "metadata": {
        "id": "oOx9UYZL1C28"
      },
      "outputs": [],
      "source": [
        "model = Sequential()\n",
        "\n",
        "model.add(Dense(25, activation='relu', input_dim=train_set_x_flatten.shape[1]))\n",
        "model.add(Dense(30, activation='relu'))\n",
        "model.add(Dense(20, activation='relu'))\n",
        "model.add(Dense(10, activation='relu'))\n",
        "model.add(Dense(1, activation='sigmoid'))"
      ]
    },
    {
      "cell_type": "code",
      "execution_count": 45,
      "metadata": {
        "colab": {
          "base_uri": "https://localhost:8080/"
        },
        "id": "Ut94VeQ71C29",
        "outputId": "bf1ec941-130b-4502-8332-6372e69a71c9"
      },
      "outputs": [
        {
          "output_type": "stream",
          "name": "stderr",
          "text": [
            "/usr/local/lib/python3.7/dist-packages/keras/optimizer_v2/adam.py:105: UserWarning: The `lr` argument is deprecated, use `learning_rate` instead.\n",
            "  super(Adam, self).__init__(name, **kwargs)\n"
          ]
        }
      ],
      "source": [
        "learning_rate = 0.0001\n",
        "opt = Adam(lr=learning_rate)\n",
        "model.compile(optimizer=opt,\n",
        "              loss='binary_crossentropy',\n",
        "              metrics=['accuracy'])"
      ]
    },
    {
      "cell_type": "code",
      "execution_count": 46,
      "metadata": {
        "scrolled": false,
        "colab": {
          "base_uri": "https://localhost:8080/",
          "height": 1000
        },
        "id": "7of3od921C2-",
        "outputId": "f4316856-d8d7-48c0-d8c5-6194324f8a90"
      },
      "outputs": [
        {
          "output_type": "stream",
          "name": "stdout",
          "text": [
            "Epoch 1/50\n",
            "7/7 [==============================] - 1s 6ms/step - loss: 0.6875 - accuracy: 0.5933\n",
            "Epoch 2/50\n",
            "7/7 [==============================] - 0s 5ms/step - loss: 0.6679 - accuracy: 0.6555\n",
            "Epoch 3/50\n",
            "7/7 [==============================] - 0s 6ms/step - loss: 0.6544 - accuracy: 0.6555\n",
            "Epoch 4/50\n",
            "7/7 [==============================] - 0s 5ms/step - loss: 0.6511 - accuracy: 0.6555\n",
            "Epoch 5/50\n",
            "7/7 [==============================] - 0s 6ms/step - loss: 0.6483 - accuracy: 0.6555\n",
            "Epoch 6/50\n",
            "7/7 [==============================] - 0s 5ms/step - loss: 0.6429 - accuracy: 0.6555\n",
            "Epoch 7/50\n",
            "7/7 [==============================] - 0s 5ms/step - loss: 0.6481 - accuracy: 0.6555\n",
            "Epoch 8/50\n",
            "7/7 [==============================] - 0s 5ms/step - loss: 0.6349 - accuracy: 0.6555\n",
            "Epoch 9/50\n",
            "7/7 [==============================] - 0s 4ms/step - loss: 0.6350 - accuracy: 0.6555\n",
            "Epoch 10/50\n",
            "7/7 [==============================] - 0s 5ms/step - loss: 0.6274 - accuracy: 0.6555\n",
            "Epoch 11/50\n",
            "7/7 [==============================] - 0s 5ms/step - loss: 0.6256 - accuracy: 0.6555\n",
            "Epoch 12/50\n",
            "7/7 [==============================] - 0s 4ms/step - loss: 0.6183 - accuracy: 0.6555\n",
            "Epoch 13/50\n",
            "7/7 [==============================] - 0s 5ms/step - loss: 0.6154 - accuracy: 0.6555\n",
            "Epoch 14/50\n",
            "7/7 [==============================] - 0s 5ms/step - loss: 0.6205 - accuracy: 0.6555\n",
            "Epoch 15/50\n",
            "7/7 [==============================] - 0s 5ms/step - loss: 0.6078 - accuracy: 0.6555\n",
            "Epoch 16/50\n",
            "7/7 [==============================] - 0s 6ms/step - loss: 0.6105 - accuracy: 0.6555\n",
            "Epoch 17/50\n",
            "7/7 [==============================] - 0s 6ms/step - loss: 0.5991 - accuracy: 0.6555\n",
            "Epoch 18/50\n",
            "7/7 [==============================] - 0s 5ms/step - loss: 0.6011 - accuracy: 0.6555\n",
            "Epoch 19/50\n",
            "7/7 [==============================] - 0s 5ms/step - loss: 0.5926 - accuracy: 0.6555\n",
            "Epoch 20/50\n",
            "7/7 [==============================] - 0s 5ms/step - loss: 0.5878 - accuracy: 0.6555\n",
            "Epoch 21/50\n",
            "7/7 [==============================] - 0s 5ms/step - loss: 0.5859 - accuracy: 0.6555\n",
            "Epoch 22/50\n",
            "7/7 [==============================] - 0s 6ms/step - loss: 0.5790 - accuracy: 0.6555\n",
            "Epoch 23/50\n",
            "7/7 [==============================] - 0s 5ms/step - loss: 0.5756 - accuracy: 0.6555\n",
            "Epoch 24/50\n",
            "7/7 [==============================] - 0s 7ms/step - loss: 0.5729 - accuracy: 0.6555\n",
            "Epoch 25/50\n",
            "7/7 [==============================] - 0s 5ms/step - loss: 0.5698 - accuracy: 0.6555\n",
            "Epoch 26/50\n",
            "7/7 [==============================] - 0s 7ms/step - loss: 0.5619 - accuracy: 0.6555\n",
            "Epoch 27/50\n",
            "7/7 [==============================] - 0s 6ms/step - loss: 0.5644 - accuracy: 0.6555\n",
            "Epoch 28/50\n",
            "7/7 [==============================] - 0s 6ms/step - loss: 0.5682 - accuracy: 0.6555\n",
            "Epoch 29/50\n",
            "7/7 [==============================] - 0s 6ms/step - loss: 0.5556 - accuracy: 0.6555\n",
            "Epoch 30/50\n",
            "7/7 [==============================] - 0s 7ms/step - loss: 0.5504 - accuracy: 0.6555\n",
            "Epoch 31/50\n",
            "7/7 [==============================] - 0s 6ms/step - loss: 0.5514 - accuracy: 0.6555\n",
            "Epoch 32/50\n",
            "7/7 [==============================] - 0s 6ms/step - loss: 0.5408 - accuracy: 0.6555\n",
            "Epoch 33/50\n",
            "7/7 [==============================] - 0s 8ms/step - loss: 0.5414 - accuracy: 0.6555\n",
            "Epoch 34/50\n",
            "7/7 [==============================] - 0s 5ms/step - loss: 0.5384 - accuracy: 0.6555\n",
            "Epoch 35/50\n",
            "7/7 [==============================] - 0s 5ms/step - loss: 0.5314 - accuracy: 0.6555\n",
            "Epoch 36/50\n",
            "7/7 [==============================] - 0s 5ms/step - loss: 0.5266 - accuracy: 0.6555\n",
            "Epoch 37/50\n",
            "7/7 [==============================] - 0s 5ms/step - loss: 0.5242 - accuracy: 0.6555\n",
            "Epoch 38/50\n",
            "7/7 [==============================] - 0s 5ms/step - loss: 0.5179 - accuracy: 0.6555\n",
            "Epoch 39/50\n",
            "7/7 [==============================] - 0s 5ms/step - loss: 0.5167 - accuracy: 0.6555\n",
            "Epoch 40/50\n",
            "7/7 [==============================] - 0s 5ms/step - loss: 0.5122 - accuracy: 0.6603\n",
            "Epoch 41/50\n",
            "7/7 [==============================] - 0s 5ms/step - loss: 0.5206 - accuracy: 0.6603\n",
            "Epoch 42/50\n",
            "7/7 [==============================] - 0s 6ms/step - loss: 0.5071 - accuracy: 0.6699\n",
            "Epoch 43/50\n",
            "7/7 [==============================] - 0s 5ms/step - loss: 0.5081 - accuracy: 0.6651\n",
            "Epoch 44/50\n",
            "7/7 [==============================] - 0s 5ms/step - loss: 0.4968 - accuracy: 0.6699\n",
            "Epoch 45/50\n",
            "7/7 [==============================] - 0s 7ms/step - loss: 0.4929 - accuracy: 0.6699\n",
            "Epoch 46/50\n",
            "7/7 [==============================] - 0s 6ms/step - loss: 0.4941 - accuracy: 0.6746\n",
            "Epoch 47/50\n",
            "7/7 [==============================] - 0s 5ms/step - loss: 0.4855 - accuracy: 0.6986\n",
            "Epoch 48/50\n",
            "7/7 [==============================] - 0s 5ms/step - loss: 0.4887 - accuracy: 0.6842\n",
            "Epoch 49/50\n",
            "7/7 [==============================] - 0s 5ms/step - loss: 0.4778 - accuracy: 0.6842\n",
            "Epoch 50/50\n",
            "7/7 [==============================] - 0s 6ms/step - loss: 0.4752 - accuracy: 0.6938\n",
            "2/2 [==============================] - 0s 8ms/step - loss: 0.7265 - accuracy: 0.4000\n"
          ]
        },
        {
          "output_type": "display_data",
          "data": {
            "image/png": "[encoded data removed]",
            "text/plain": [
              "<Figure size 432x288 with 1 Axes>"
            ]
          },
          "metadata": {
            "needs_background": "light"
          }
        },
        {
          "output_type": "stream",
          "name": "stdout",
          "text": [
            "\n",
            "\n",
            "Accuracy on training set is 0.6937798857688904\n",
            "\n",
            "Accuracy on test set is 0.4000000059604645\n"
          ]
        }
      ],
      "source": [
        "h = evaluate_this_model(model)"
      ]
    },
    {
      "cell_type": "markdown",
      "metadata": {
        "id": "j72i5tyu1C2-"
      },
      "source": [
        "### 3.2 Improving the basic Model\n",
        "\n",
        "___Objective:___ Design and tune a feed forward deep learning model to achieve at least ___75% accuracy___ on this dataset."
      ]
    },
    {
      "cell_type": "code",
      "execution_count": 80,
      "metadata": {
        "id": "5SMw9H6w1C2_"
      },
      "outputs": [],
      "source": [
        "# Run this cell first\n",
        "from numpy.random import seed\n",
        "seed(1)\n",
        "import tensorflow\n",
        "tensorflow.random.set_seed(96)"
      ]
    },
    {
      "cell_type": "code",
      "execution_count": 81,
      "metadata": {
        "id": "kS5x6PFW1C2_"
      },
      "outputs": [],
      "source": [
        "model = Sequential()\n",
        "## Add your layers here\n",
        "model.add(Dense(25, activation='relu', input_dim=train_set_x_flatten.shape[1]))\n",
        "model.add(Dense(30, activation='relu'))\n",
        "model.add(Dense(20, activation='relu'))\n",
        "model.add(Dense(10, activation='relu'))\n",
        "model.add(Dense(units=1, activation='sigmoid'))"
      ]
    },
    {
      "cell_type": "code",
      "execution_count": 82,
      "metadata": {
        "colab": {
          "base_uri": "https://localhost:8080/"
        },
        "id": "p_ghV5xQ1C3A",
        "outputId": "d7e9d68a-6b8b-4a51-ccfb-01fa37da882a"
      },
      "outputs": [
        {
          "output_type": "stream",
          "name": "stderr",
          "text": [
            "/usr/local/lib/python3.7/dist-packages/keras/optimizer_v2/adam.py:105: UserWarning: The `lr` argument is deprecated, use `learning_rate` instead.\n",
            "  super(Adam, self).__init__(name, **kwargs)\n"
          ]
        }
      ],
      "source": [
        "learning_rate = 0.0002\n",
        "opt = Adam(lr=learning_rate)\n",
        "model.compile(optimizer=opt,\n",
        "              loss='binary_crossentropy',\n",
        "              metrics=['accuracy'])"
      ]
    },
    {
      "cell_type": "code",
      "execution_count": 83,
      "metadata": {
        "scrolled": true,
        "colab": {
          "base_uri": "https://localhost:8080/",
          "height": 1000
        },
        "id": "Nqvcku-g1C3A",
        "outputId": "4bdcd244-b77b-4c53-ab7c-7c370cb50160"
      },
      "outputs": [
        {
          "output_type": "stream",
          "name": "stdout",
          "text": [
            "Epoch 1/50\n",
            "7/7 [==============================] - 1s 5ms/step - loss: 0.6622 - accuracy: 0.6124\n",
            "Epoch 2/50\n",
            "7/7 [==============================] - 0s 5ms/step - loss: 0.6726 - accuracy: 0.6555\n",
            "Epoch 3/50\n",
            "7/7 [==============================] - 0s 5ms/step - loss: 0.6535 - accuracy: 0.6555\n",
            "Epoch 4/50\n",
            "7/7 [==============================] - 0s 5ms/step - loss: 0.6509 - accuracy: 0.6555\n",
            "Epoch 5/50\n",
            "7/7 [==============================] - 0s 5ms/step - loss: 0.6431 - accuracy: 0.6555\n",
            "Epoch 6/50\n",
            "7/7 [==============================] - 0s 5ms/step - loss: 0.6404 - accuracy: 0.6555\n",
            "Epoch 7/50\n",
            "7/7 [==============================] - 0s 5ms/step - loss: 0.6354 - accuracy: 0.6555\n",
            "Epoch 8/50\n",
            "7/7 [==============================] - 0s 5ms/step - loss: 0.6271 - accuracy: 0.6555\n",
            "Epoch 9/50\n",
            "7/7 [==============================] - 0s 5ms/step - loss: 0.6208 - accuracy: 0.6699\n",
            "Epoch 10/50\n",
            "7/7 [==============================] - 0s 6ms/step - loss: 0.6181 - accuracy: 0.6746\n",
            "Epoch 11/50\n",
            "7/7 [==============================] - 0s 5ms/step - loss: 0.5984 - accuracy: 0.6699\n",
            "Epoch 12/50\n",
            "7/7 [==============================] - 0s 5ms/step - loss: 0.5869 - accuracy: 0.6651\n",
            "Epoch 13/50\n",
            "7/7 [==============================] - 0s 5ms/step - loss: 0.5833 - accuracy: 0.6938\n",
            "Epoch 14/50\n",
            "7/7 [==============================] - 0s 5ms/step - loss: 0.5688 - accuracy: 0.7129\n",
            "Epoch 15/50\n",
            "7/7 [==============================] - 0s 5ms/step - loss: 0.5689 - accuracy: 0.6699\n",
            "Epoch 16/50\n",
            "7/7 [==============================] - 0s 5ms/step - loss: 0.5490 - accuracy: 0.7703\n",
            "Epoch 17/50\n",
            "7/7 [==============================] - 0s 5ms/step - loss: 0.5483 - accuracy: 0.6890\n",
            "Epoch 18/50\n",
            "7/7 [==============================] - 0s 5ms/step - loss: 0.5300 - accuracy: 0.7464\n",
            "Epoch 19/50\n",
            "7/7 [==============================] - 0s 5ms/step - loss: 0.5220 - accuracy: 0.7273\n",
            "Epoch 20/50\n",
            "7/7 [==============================] - 0s 5ms/step - loss: 0.5104 - accuracy: 0.7512\n",
            "Epoch 21/50\n",
            "7/7 [==============================] - 0s 5ms/step - loss: 0.5019 - accuracy: 0.7608\n",
            "Epoch 22/50\n",
            "7/7 [==============================] - 0s 5ms/step - loss: 0.4945 - accuracy: 0.7703\n",
            "Epoch 23/50\n",
            "7/7 [==============================] - 0s 5ms/step - loss: 0.4835 - accuracy: 0.7895\n",
            "Epoch 24/50\n",
            "7/7 [==============================] - 0s 7ms/step - loss: 0.4666 - accuracy: 0.8278\n",
            "Epoch 25/50\n",
            "7/7 [==============================] - 0s 5ms/step - loss: 0.4603 - accuracy: 0.7895\n",
            "Epoch 26/50\n",
            "7/7 [==============================] - 0s 5ms/step - loss: 0.4732 - accuracy: 0.7990\n",
            "Epoch 27/50\n",
            "7/7 [==============================] - 0s 5ms/step - loss: 0.4846 - accuracy: 0.7608\n",
            "Epoch 28/50\n",
            "7/7 [==============================] - 0s 6ms/step - loss: 0.5166 - accuracy: 0.7273\n",
            "Epoch 29/50\n",
            "7/7 [==============================] - 0s 5ms/step - loss: 0.5061 - accuracy: 0.7847\n",
            "Epoch 30/50\n",
            "7/7 [==============================] - 0s 4ms/step - loss: 0.4569 - accuracy: 0.7703\n",
            "Epoch 31/50\n",
            "7/7 [==============================] - 0s 6ms/step - loss: 0.4243 - accuracy: 0.8517\n",
            "Epoch 32/50\n",
            "7/7 [==============================] - 0s 5ms/step - loss: 0.4076 - accuracy: 0.8660\n",
            "Epoch 33/50\n",
            "7/7 [==============================] - 0s 5ms/step - loss: 0.4088 - accuracy: 0.8373\n",
            "Epoch 34/50\n",
            "7/7 [==============================] - 0s 5ms/step - loss: 0.3937 - accuracy: 0.8804\n",
            "Epoch 35/50\n",
            "7/7 [==============================] - 0s 4ms/step - loss: 0.4039 - accuracy: 0.8230\n",
            "Epoch 36/50\n",
            "7/7 [==============================] - 0s 7ms/step - loss: 0.3851 - accuracy: 0.8947\n",
            "Epoch 37/50\n",
            "7/7 [==============================] - 0s 5ms/step - loss: 0.3684 - accuracy: 0.8756\n",
            "Epoch 38/50\n",
            "7/7 [==============================] - 0s 5ms/step - loss: 0.3698 - accuracy: 0.8900\n",
            "Epoch 39/50\n",
            "7/7 [==============================] - 0s 5ms/step - loss: 0.3546 - accuracy: 0.8852\n",
            "Epoch 40/50\n",
            "7/7 [==============================] - 0s 4ms/step - loss: 0.3520 - accuracy: 0.8804\n",
            "Epoch 41/50\n",
            "7/7 [==============================] - 0s 5ms/step - loss: 0.3444 - accuracy: 0.8995\n",
            "Epoch 42/50\n",
            "7/7 [==============================] - 0s 6ms/step - loss: 0.3328 - accuracy: 0.9043\n",
            "Epoch 43/50\n",
            "7/7 [==============================] - 0s 5ms/step - loss: 0.3335 - accuracy: 0.8995\n",
            "Epoch 44/50\n",
            "7/7 [==============================] - 0s 5ms/step - loss: 0.3197 - accuracy: 0.9187\n",
            "Epoch 45/50\n",
            "7/7 [==============================] - 0s 5ms/step - loss: 0.3128 - accuracy: 0.9187\n",
            "Epoch 46/50\n",
            "7/7 [==============================] - 0s 5ms/step - loss: 0.3248 - accuracy: 0.9091\n",
            "Epoch 47/50\n",
            "7/7 [==============================] - 0s 6ms/step - loss: 0.3161 - accuracy: 0.8947\n",
            "Epoch 48/50\n",
            "7/7 [==============================] - 0s 4ms/step - loss: 0.2893 - accuracy: 0.9330\n",
            "Epoch 49/50\n",
            "7/7 [==============================] - 0s 6ms/step - loss: 0.3005 - accuracy: 0.9043\n",
            "Epoch 50/50\n",
            "7/7 [==============================] - 0s 5ms/step - loss: 0.2835 - accuracy: 0.9378\n",
            "2/2 [==============================] - 0s 8ms/step - loss: 0.6026 - accuracy: 0.7200\n"
          ]
        },
        {
          "output_type": "display_data",
          "data": {
            "image/png": "[encoded data removed]",
            "text/plain": [
              "<Figure size 432x288 with 1 Axes>"
            ]
          },
          "metadata": {
            "needs_background": "light"
          }
        },
        {
          "output_type": "stream",
          "name": "stdout",
          "text": [
            "\n",
            "\n",
            "Accuracy on training set is 0.9377990365028381\n",
            "\n",
            "Accuracy on test set is 0.7200000286102295\n"
          ]
        }
      ],
      "source": [
        "h = evaluate_this_model(model)"
      ]
    },
    {
      "cell_type": "code",
      "source": [
        "# By Adjusting the random seeds, we can gain an improved result"
      ],
      "metadata": {
        "id": "xR3-O8scmW-2"
      },
      "execution_count": 84,
      "outputs": []
    }
  ],
  "metadata": {
    "kernelspec": {
      "display_name": "Python 3",
      "language": "python",
      "name": "python3"
    },
    "language_info": {
      "codemirror_mode": {
        "name": "ipython",
        "version": 3
      },
      "file_extension": ".py",
      "mimetype": "text/x-python",
      "name": "python",
      "nbconvert_exporter": "python",
      "pygments_lexer": "ipython3",
      "version": "3.7.4"
    },
    "colab": {
      "name": "Image Classification with Keras.ipynb",
      "provenance": []
    },
    "accelerator": "GPU"
  },
  "nbformat": 4,
  "nbformat_minor": 0
}